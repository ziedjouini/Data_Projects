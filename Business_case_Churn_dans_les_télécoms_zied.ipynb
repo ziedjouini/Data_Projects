{
  "nbformat": 4,
  "nbformat_minor": 0,
  "metadata": {
    "colab": {
      "provenance": [],
      "authorship_tag": "ABX9TyPwue1M3DNibprPyOgcj8tu",
      "include_colab_link": true
    },
    "kernelspec": {
      "name": "python3",
      "display_name": "Python 3"
    },
    "language_info": {
      "name": "python"
    }
  },
  "cells": [
    {
      "cell_type": "markdown",
      "metadata": {
        "id": "view-in-github",
        "colab_type": "text"
      },
      "source": [
        "<a href=\"https://colab.research.google.com/github/ziedjouini/Data_Projects/blob/main/Business_case_Churn_dans_les_t%C3%A9l%C3%A9coms_zied.ipynb\" target=\"_parent\"><img src=\"https://colab.research.google.com/assets/colab-badge.svg\" alt=\"Open In Colab\"/></a>"
      ]
    },
    {
      "cell_type": "code",
      "source": [
        "import pandas as pd\n",
        "import matplotlib.pyplot as plt\n",
        "import seaborn as sns\n",
        "import numpy as np"
      ],
      "metadata": {
        "id": "WvWjfb4PZPK6"
      },
      "execution_count": null,
      "outputs": []
    },
    {
      "cell_type": "code",
      "execution_count": null,
      "metadata": {
        "colab": {
          "base_uri": "https://localhost:8080/",
          "height": 661
        },
        "id": "ECEx5IQ6Y8Pi",
        "outputId": "96753e75-06f1-42b3-d8c0-35a15e664d28"
      },
      "outputs": [
        {
          "output_type": "execute_result",
          "data": {
            "text/plain": [
              "      customerID  gender  SeniorCitizen Partner Dependents  tenure  \\\n",
              "0     7590-VHVEG  Female              0     Yes         No       1   \n",
              "1     5575-GNVDE    Male              0      No         No      34   \n",
              "2     3668-QPYBK    Male              0      No         No       2   \n",
              "3     7795-CFOCW    Male              0      No         No      45   \n",
              "4     9237-HQITU  Female              0      No         No       2   \n",
              "...          ...     ...            ...     ...        ...     ...   \n",
              "7038  6840-RESVB    Male              0     Yes        Yes      24   \n",
              "7039  2234-XADUH  Female              0     Yes        Yes      72   \n",
              "7040  4801-JZAZL  Female              0     Yes        Yes      11   \n",
              "7041  8361-LTMKD    Male              1     Yes         No       4   \n",
              "7042  3186-AJIEK    Male              0      No         No      66   \n",
              "\n",
              "     PhoneService     MultipleLines InternetService OnlineSecurity  ...  \\\n",
              "0              No  No phone service     Fiber optic             No  ...   \n",
              "1             Yes                No     Fiber optic            Yes  ...   \n",
              "2             Yes                No             DSL            Yes  ...   \n",
              "3              No  No phone service     Fiber optic            Yes  ...   \n",
              "4             Yes                No             DSL             No  ...   \n",
              "...           ...               ...             ...            ...  ...   \n",
              "7038          Yes               Yes             DSL            Yes  ...   \n",
              "7039          Yes               Yes     Fiber optic             No  ...   \n",
              "7040           No  No phone service     Fiber optic            Yes  ...   \n",
              "7041          Yes               Yes     Fiber optic             No  ...   \n",
              "7042          Yes                No     Fiber optic            Yes  ...   \n",
              "\n",
              "     DeviceProtection TechSupport StreamingTV StreamingMovies        Contract  \\\n",
              "0                  No          No          No              No  Month-to-month   \n",
              "1                 Yes          No          No              No        One year   \n",
              "2                  No          No          No              No  Month-to-month   \n",
              "3                 Yes         Yes          No              No        One year   \n",
              "4                  No          No          No              No  Month-to-month   \n",
              "...               ...         ...         ...             ...             ...   \n",
              "7038              Yes         Yes         Yes             Yes        One year   \n",
              "7039              Yes          No         Yes             Yes        One year   \n",
              "7040               No          No          No              No  Month-to-month   \n",
              "7041               No          No          No              No  Month-to-month   \n",
              "7042              Yes         Yes         Yes             Yes        Two year   \n",
              "\n",
              "     PaperlessBilling              PaymentMethod MonthlyCharges  TotalCharges  \\\n",
              "0                 Yes           Electronic check          29.85         29.85   \n",
              "1                  No               Mailed check          56.95        1889.5   \n",
              "2                 Yes               Mailed check          53.85        108.15   \n",
              "3                  No  Bank transfer (automatic)          42.30       1840.75   \n",
              "4                 Yes           Electronic check          70.70        151.65   \n",
              "...               ...                        ...            ...           ...   \n",
              "7038              Yes               Mailed check          84.80        1990.5   \n",
              "7039              Yes    Credit card (automatic)         103.20        7362.9   \n",
              "7040              Yes           Electronic check          29.60        346.45   \n",
              "7041              Yes               Mailed check          74.40         306.6   \n",
              "7042              Yes  Bank transfer (automatic)         105.65        6844.5   \n",
              "\n",
              "     Churn  \n",
              "0      Yes  \n",
              "1       No  \n",
              "2      Yes  \n",
              "3       No  \n",
              "4      Yes  \n",
              "...    ...  \n",
              "7038    No  \n",
              "7039    No  \n",
              "7040    No  \n",
              "7041   Yes  \n",
              "7042    No  \n",
              "\n",
              "[7043 rows x 21 columns]"
            ],
            "text/html": [
              "\n",
              "  <div id=\"df-8fc27683-3d80-4165-abd5-7c054abda83c\">\n",
              "    <div class=\"colab-df-container\">\n",
              "      <div>\n",
              "<style scoped>\n",
              "    .dataframe tbody tr th:only-of-type {\n",
              "        vertical-align: middle;\n",
              "    }\n",
              "\n",
              "    .dataframe tbody tr th {\n",
              "        vertical-align: top;\n",
              "    }\n",
              "\n",
              "    .dataframe thead th {\n",
              "        text-align: right;\n",
              "    }\n",
              "</style>\n",
              "<table border=\"1\" class=\"dataframe\">\n",
              "  <thead>\n",
              "    <tr style=\"text-align: right;\">\n",
              "      <th></th>\n",
              "      <th>customerID</th>\n",
              "      <th>gender</th>\n",
              "      <th>SeniorCitizen</th>\n",
              "      <th>Partner</th>\n",
              "      <th>Dependents</th>\n",
              "      <th>tenure</th>\n",
              "      <th>PhoneService</th>\n",
              "      <th>MultipleLines</th>\n",
              "      <th>InternetService</th>\n",
              "      <th>OnlineSecurity</th>\n",
              "      <th>...</th>\n",
              "      <th>DeviceProtection</th>\n",
              "      <th>TechSupport</th>\n",
              "      <th>StreamingTV</th>\n",
              "      <th>StreamingMovies</th>\n",
              "      <th>Contract</th>\n",
              "      <th>PaperlessBilling</th>\n",
              "      <th>PaymentMethod</th>\n",
              "      <th>MonthlyCharges</th>\n",
              "      <th>TotalCharges</th>\n",
              "      <th>Churn</th>\n",
              "    </tr>\n",
              "  </thead>\n",
              "  <tbody>\n",
              "    <tr>\n",
              "      <th>0</th>\n",
              "      <td>7590-VHVEG</td>\n",
              "      <td>Female</td>\n",
              "      <td>0</td>\n",
              "      <td>Yes</td>\n",
              "      <td>No</td>\n",
              "      <td>1</td>\n",
              "      <td>No</td>\n",
              "      <td>No phone service</td>\n",
              "      <td>Fiber optic</td>\n",
              "      <td>No</td>\n",
              "      <td>...</td>\n",
              "      <td>No</td>\n",
              "      <td>No</td>\n",
              "      <td>No</td>\n",
              "      <td>No</td>\n",
              "      <td>Month-to-month</td>\n",
              "      <td>Yes</td>\n",
              "      <td>Electronic check</td>\n",
              "      <td>29.85</td>\n",
              "      <td>29.85</td>\n",
              "      <td>Yes</td>\n",
              "    </tr>\n",
              "    <tr>\n",
              "      <th>1</th>\n",
              "      <td>5575-GNVDE</td>\n",
              "      <td>Male</td>\n",
              "      <td>0</td>\n",
              "      <td>No</td>\n",
              "      <td>No</td>\n",
              "      <td>34</td>\n",
              "      <td>Yes</td>\n",
              "      <td>No</td>\n",
              "      <td>Fiber optic</td>\n",
              "      <td>Yes</td>\n",
              "      <td>...</td>\n",
              "      <td>Yes</td>\n",
              "      <td>No</td>\n",
              "      <td>No</td>\n",
              "      <td>No</td>\n",
              "      <td>One year</td>\n",
              "      <td>No</td>\n",
              "      <td>Mailed check</td>\n",
              "      <td>56.95</td>\n",
              "      <td>1889.5</td>\n",
              "      <td>No</td>\n",
              "    </tr>\n",
              "    <tr>\n",
              "      <th>2</th>\n",
              "      <td>3668-QPYBK</td>\n",
              "      <td>Male</td>\n",
              "      <td>0</td>\n",
              "      <td>No</td>\n",
              "      <td>No</td>\n",
              "      <td>2</td>\n",
              "      <td>Yes</td>\n",
              "      <td>No</td>\n",
              "      <td>DSL</td>\n",
              "      <td>Yes</td>\n",
              "      <td>...</td>\n",
              "      <td>No</td>\n",
              "      <td>No</td>\n",
              "      <td>No</td>\n",
              "      <td>No</td>\n",
              "      <td>Month-to-month</td>\n",
              "      <td>Yes</td>\n",
              "      <td>Mailed check</td>\n",
              "      <td>53.85</td>\n",
              "      <td>108.15</td>\n",
              "      <td>Yes</td>\n",
              "    </tr>\n",
              "    <tr>\n",
              "      <th>3</th>\n",
              "      <td>7795-CFOCW</td>\n",
              "      <td>Male</td>\n",
              "      <td>0</td>\n",
              "      <td>No</td>\n",
              "      <td>No</td>\n",
              "      <td>45</td>\n",
              "      <td>No</td>\n",
              "      <td>No phone service</td>\n",
              "      <td>Fiber optic</td>\n",
              "      <td>Yes</td>\n",
              "      <td>...</td>\n",
              "      <td>Yes</td>\n",
              "      <td>Yes</td>\n",
              "      <td>No</td>\n",
              "      <td>No</td>\n",
              "      <td>One year</td>\n",
              "      <td>No</td>\n",
              "      <td>Bank transfer (automatic)</td>\n",
              "      <td>42.30</td>\n",
              "      <td>1840.75</td>\n",
              "      <td>No</td>\n",
              "    </tr>\n",
              "    <tr>\n",
              "      <th>4</th>\n",
              "      <td>9237-HQITU</td>\n",
              "      <td>Female</td>\n",
              "      <td>0</td>\n",
              "      <td>No</td>\n",
              "      <td>No</td>\n",
              "      <td>2</td>\n",
              "      <td>Yes</td>\n",
              "      <td>No</td>\n",
              "      <td>DSL</td>\n",
              "      <td>No</td>\n",
              "      <td>...</td>\n",
              "      <td>No</td>\n",
              "      <td>No</td>\n",
              "      <td>No</td>\n",
              "      <td>No</td>\n",
              "      <td>Month-to-month</td>\n",
              "      <td>Yes</td>\n",
              "      <td>Electronic check</td>\n",
              "      <td>70.70</td>\n",
              "      <td>151.65</td>\n",
              "      <td>Yes</td>\n",
              "    </tr>\n",
              "    <tr>\n",
              "      <th>...</th>\n",
              "      <td>...</td>\n",
              "      <td>...</td>\n",
              "      <td>...</td>\n",
              "      <td>...</td>\n",
              "      <td>...</td>\n",
              "      <td>...</td>\n",
              "      <td>...</td>\n",
              "      <td>...</td>\n",
              "      <td>...</td>\n",
              "      <td>...</td>\n",
              "      <td>...</td>\n",
              "      <td>...</td>\n",
              "      <td>...</td>\n",
              "      <td>...</td>\n",
              "      <td>...</td>\n",
              "      <td>...</td>\n",
              "      <td>...</td>\n",
              "      <td>...</td>\n",
              "      <td>...</td>\n",
              "      <td>...</td>\n",
              "      <td>...</td>\n",
              "    </tr>\n",
              "    <tr>\n",
              "      <th>7038</th>\n",
              "      <td>6840-RESVB</td>\n",
              "      <td>Male</td>\n",
              "      <td>0</td>\n",
              "      <td>Yes</td>\n",
              "      <td>Yes</td>\n",
              "      <td>24</td>\n",
              "      <td>Yes</td>\n",
              "      <td>Yes</td>\n",
              "      <td>DSL</td>\n",
              "      <td>Yes</td>\n",
              "      <td>...</td>\n",
              "      <td>Yes</td>\n",
              "      <td>Yes</td>\n",
              "      <td>Yes</td>\n",
              "      <td>Yes</td>\n",
              "      <td>One year</td>\n",
              "      <td>Yes</td>\n",
              "      <td>Mailed check</td>\n",
              "      <td>84.80</td>\n",
              "      <td>1990.5</td>\n",
              "      <td>No</td>\n",
              "    </tr>\n",
              "    <tr>\n",
              "      <th>7039</th>\n",
              "      <td>2234-XADUH</td>\n",
              "      <td>Female</td>\n",
              "      <td>0</td>\n",
              "      <td>Yes</td>\n",
              "      <td>Yes</td>\n",
              "      <td>72</td>\n",
              "      <td>Yes</td>\n",
              "      <td>Yes</td>\n",
              "      <td>Fiber optic</td>\n",
              "      <td>No</td>\n",
              "      <td>...</td>\n",
              "      <td>Yes</td>\n",
              "      <td>No</td>\n",
              "      <td>Yes</td>\n",
              "      <td>Yes</td>\n",
              "      <td>One year</td>\n",
              "      <td>Yes</td>\n",
              "      <td>Credit card (automatic)</td>\n",
              "      <td>103.20</td>\n",
              "      <td>7362.9</td>\n",
              "      <td>No</td>\n",
              "    </tr>\n",
              "    <tr>\n",
              "      <th>7040</th>\n",
              "      <td>4801-JZAZL</td>\n",
              "      <td>Female</td>\n",
              "      <td>0</td>\n",
              "      <td>Yes</td>\n",
              "      <td>Yes</td>\n",
              "      <td>11</td>\n",
              "      <td>No</td>\n",
              "      <td>No phone service</td>\n",
              "      <td>Fiber optic</td>\n",
              "      <td>Yes</td>\n",
              "      <td>...</td>\n",
              "      <td>No</td>\n",
              "      <td>No</td>\n",
              "      <td>No</td>\n",
              "      <td>No</td>\n",
              "      <td>Month-to-month</td>\n",
              "      <td>Yes</td>\n",
              "      <td>Electronic check</td>\n",
              "      <td>29.60</td>\n",
              "      <td>346.45</td>\n",
              "      <td>No</td>\n",
              "    </tr>\n",
              "    <tr>\n",
              "      <th>7041</th>\n",
              "      <td>8361-LTMKD</td>\n",
              "      <td>Male</td>\n",
              "      <td>1</td>\n",
              "      <td>Yes</td>\n",
              "      <td>No</td>\n",
              "      <td>4</td>\n",
              "      <td>Yes</td>\n",
              "      <td>Yes</td>\n",
              "      <td>Fiber optic</td>\n",
              "      <td>No</td>\n",
              "      <td>...</td>\n",
              "      <td>No</td>\n",
              "      <td>No</td>\n",
              "      <td>No</td>\n",
              "      <td>No</td>\n",
              "      <td>Month-to-month</td>\n",
              "      <td>Yes</td>\n",
              "      <td>Mailed check</td>\n",
              "      <td>74.40</td>\n",
              "      <td>306.6</td>\n",
              "      <td>Yes</td>\n",
              "    </tr>\n",
              "    <tr>\n",
              "      <th>7042</th>\n",
              "      <td>3186-AJIEK</td>\n",
              "      <td>Male</td>\n",
              "      <td>0</td>\n",
              "      <td>No</td>\n",
              "      <td>No</td>\n",
              "      <td>66</td>\n",
              "      <td>Yes</td>\n",
              "      <td>No</td>\n",
              "      <td>Fiber optic</td>\n",
              "      <td>Yes</td>\n",
              "      <td>...</td>\n",
              "      <td>Yes</td>\n",
              "      <td>Yes</td>\n",
              "      <td>Yes</td>\n",
              "      <td>Yes</td>\n",
              "      <td>Two year</td>\n",
              "      <td>Yes</td>\n",
              "      <td>Bank transfer (automatic)</td>\n",
              "      <td>105.65</td>\n",
              "      <td>6844.5</td>\n",
              "      <td>No</td>\n",
              "    </tr>\n",
              "  </tbody>\n",
              "</table>\n",
              "<p>7043 rows × 21 columns</p>\n",
              "</div>\n",
              "      <button class=\"colab-df-convert\" onclick=\"convertToInteractive('df-8fc27683-3d80-4165-abd5-7c054abda83c')\"\n",
              "              title=\"Convert this dataframe to an interactive table.\"\n",
              "              style=\"display:none;\">\n",
              "        \n",
              "  <svg xmlns=\"http://www.w3.org/2000/svg\" height=\"24px\"viewBox=\"0 0 24 24\"\n",
              "       width=\"24px\">\n",
              "    <path d=\"M0 0h24v24H0V0z\" fill=\"none\"/>\n",
              "    <path d=\"M18.56 5.44l.94 2.06.94-2.06 2.06-.94-2.06-.94-.94-2.06-.94 2.06-2.06.94zm-11 1L8.5 8.5l.94-2.06 2.06-.94-2.06-.94L8.5 2.5l-.94 2.06-2.06.94zm10 10l.94 2.06.94-2.06 2.06-.94-2.06-.94-.94-2.06-.94 2.06-2.06.94z\"/><path d=\"M17.41 7.96l-1.37-1.37c-.4-.4-.92-.59-1.43-.59-.52 0-1.04.2-1.43.59L10.3 9.45l-7.72 7.72c-.78.78-.78 2.05 0 2.83L4 21.41c.39.39.9.59 1.41.59.51 0 1.02-.2 1.41-.59l7.78-7.78 2.81-2.81c.8-.78.8-2.07 0-2.86zM5.41 20L4 18.59l7.72-7.72 1.47 1.35L5.41 20z\"/>\n",
              "  </svg>\n",
              "      </button>\n",
              "      \n",
              "  <style>\n",
              "    .colab-df-container {\n",
              "      display:flex;\n",
              "      flex-wrap:wrap;\n",
              "      gap: 12px;\n",
              "    }\n",
              "\n",
              "    .colab-df-convert {\n",
              "      background-color: #E8F0FE;\n",
              "      border: none;\n",
              "      border-radius: 50%;\n",
              "      cursor: pointer;\n",
              "      display: none;\n",
              "      fill: #1967D2;\n",
              "      height: 32px;\n",
              "      padding: 0 0 0 0;\n",
              "      width: 32px;\n",
              "    }\n",
              "\n",
              "    .colab-df-convert:hover {\n",
              "      background-color: #E2EBFA;\n",
              "      box-shadow: 0px 1px 2px rgba(60, 64, 67, 0.3), 0px 1px 3px 1px rgba(60, 64, 67, 0.15);\n",
              "      fill: #174EA6;\n",
              "    }\n",
              "\n",
              "    [theme=dark] .colab-df-convert {\n",
              "      background-color: #3B4455;\n",
              "      fill: #D2E3FC;\n",
              "    }\n",
              "\n",
              "    [theme=dark] .colab-df-convert:hover {\n",
              "      background-color: #434B5C;\n",
              "      box-shadow: 0px 1px 3px 1px rgba(0, 0, 0, 0.15);\n",
              "      filter: drop-shadow(0px 1px 2px rgba(0, 0, 0, 0.3));\n",
              "      fill: #FFFFFF;\n",
              "    }\n",
              "  </style>\n",
              "\n",
              "      <script>\n",
              "        const buttonEl =\n",
              "          document.querySelector('#df-8fc27683-3d80-4165-abd5-7c054abda83c button.colab-df-convert');\n",
              "        buttonEl.style.display =\n",
              "          google.colab.kernel.accessAllowed ? 'block' : 'none';\n",
              "\n",
              "        async function convertToInteractive(key) {\n",
              "          const element = document.querySelector('#df-8fc27683-3d80-4165-abd5-7c054abda83c');\n",
              "          const dataTable =\n",
              "            await google.colab.kernel.invokeFunction('convertToInteractive',\n",
              "                                                     [key], {});\n",
              "          if (!dataTable) return;\n",
              "\n",
              "          const docLinkHtml = 'Like what you see? Visit the ' +\n",
              "            '<a target=\"_blank\" href=https://colab.research.google.com/notebooks/data_table.ipynb>data table notebook</a>'\n",
              "            + ' to learn more about interactive tables.';\n",
              "          element.innerHTML = '';\n",
              "          dataTable['output_type'] = 'display_data';\n",
              "          await google.colab.output.renderOutput(dataTable, element);\n",
              "          const docLink = document.createElement('div');\n",
              "          docLink.innerHTML = docLinkHtml;\n",
              "          element.appendChild(docLink);\n",
              "        }\n",
              "      </script>\n",
              "    </div>\n",
              "  </div>\n",
              "  "
            ]
          },
          "metadata": {},
          "execution_count": 243
        }
      ],
      "source": [
        "#https://moncoachdata.com/blog/manipulation-de-donnees-avec-pandas/\n",
        "df=pd.read_csv('https://raw.githubusercontent.com/murpi/wilddata/master/quests/churn_telecom.csv')\n",
        "df"
      ]
    },
    {
      "cell_type": "code",
      "source": [
        "df.info()"
      ],
      "metadata": {
        "colab": {
          "base_uri": "https://localhost:8080/"
        },
        "id": "ouRVmXoXZVIE",
        "outputId": "f179564d-579c-46f7-9763-3acb87f5d4ab"
      },
      "execution_count": null,
      "outputs": [
        {
          "output_type": "stream",
          "name": "stdout",
          "text": [
            "<class 'pandas.core.frame.DataFrame'>\n",
            "RangeIndex: 7043 entries, 0 to 7042\n",
            "Data columns (total 21 columns):\n",
            " #   Column            Non-Null Count  Dtype  \n",
            "---  ------            --------------  -----  \n",
            " 0   customerID        7043 non-null   object \n",
            " 1   gender            7043 non-null   object \n",
            " 2   SeniorCitizen     7043 non-null   int64  \n",
            " 3   Partner           7043 non-null   object \n",
            " 4   Dependents        7043 non-null   object \n",
            " 5   tenure            7043 non-null   int64  \n",
            " 6   PhoneService      7043 non-null   object \n",
            " 7   MultipleLines     7043 non-null   object \n",
            " 8   InternetService   7043 non-null   object \n",
            " 9   OnlineSecurity    7043 non-null   object \n",
            " 10  OnlineBackup      7043 non-null   object \n",
            " 11  DeviceProtection  7043 non-null   object \n",
            " 12  TechSupport       7043 non-null   object \n",
            " 13  StreamingTV       7043 non-null   object \n",
            " 14  StreamingMovies   7043 non-null   object \n",
            " 15  Contract          7043 non-null   object \n",
            " 16  PaperlessBilling  7043 non-null   object \n",
            " 17  PaymentMethod     7043 non-null   object \n",
            " 18  MonthlyCharges    7043 non-null   float64\n",
            " 19  TotalCharges      7043 non-null   object \n",
            " 20  Churn             7043 non-null   object \n",
            "dtypes: float64(1), int64(2), object(18)\n",
            "memory usage: 1.1+ MB\n"
          ]
        }
      ]
    },
    {
      "cell_type": "code",
      "source": [
        "df.isnull().sum()"
      ],
      "metadata": {
        "colab": {
          "base_uri": "https://localhost:8080/"
        },
        "id": "yM9V9t3oZdCi",
        "outputId": "1e1fe7f5-d929-4c57-f971-d0c8f4c1bf4c"
      },
      "execution_count": null,
      "outputs": [
        {
          "output_type": "execute_result",
          "data": {
            "text/plain": [
              "customerID          0\n",
              "gender              0\n",
              "SeniorCitizen       0\n",
              "Partner             0\n",
              "Dependents          0\n",
              "tenure              0\n",
              "PhoneService        0\n",
              "MultipleLines       0\n",
              "InternetService     0\n",
              "OnlineSecurity      0\n",
              "OnlineBackup        0\n",
              "DeviceProtection    0\n",
              "TechSupport         0\n",
              "StreamingTV         0\n",
              "StreamingMovies     0\n",
              "Contract            0\n",
              "PaperlessBilling    0\n",
              "PaymentMethod       0\n",
              "MonthlyCharges      0\n",
              "TotalCharges        0\n",
              "Churn               0\n",
              "dtype: int64"
            ]
          },
          "metadata": {},
          "execution_count": 245
        }
      ]
    },
    {
      "cell_type": "code",
      "source": [
        "df.duplicated().sum()"
      ],
      "metadata": {
        "colab": {
          "base_uri": "https://localhost:8080/"
        },
        "id": "n85XSlJHZjGc",
        "outputId": "00bcb62b-0ddf-4d47-d22a-aaf2f4d355cb"
      },
      "execution_count": null,
      "outputs": [
        {
          "output_type": "execute_result",
          "data": {
            "text/plain": [
              "0"
            ]
          },
          "metadata": {},
          "execution_count": 246
        }
      ]
    },
    {
      "cell_type": "code",
      "source": [
        "df.duplicated().value_counts()"
      ],
      "metadata": {
        "colab": {
          "base_uri": "https://localhost:8080/"
        },
        "id": "RKXs6xLOhTNh",
        "outputId": "1dd01bd4-4879-4c69-8d52-be7bda247d14"
      },
      "execution_count": null,
      "outputs": [
        {
          "output_type": "execute_result",
          "data": {
            "text/plain": [
              "False    7043\n",
              "dtype: int64"
            ]
          },
          "metadata": {},
          "execution_count": 247
        }
      ]
    },
    {
      "cell_type": "code",
      "source": [
        "df.describe()"
      ],
      "metadata": {
        "colab": {
          "base_uri": "https://localhost:8080/",
          "height": 300
        },
        "id": "RjFPHPKhZ3Rg",
        "outputId": "95a4d3ee-30a8-4429-b857-420170aafd85"
      },
      "execution_count": null,
      "outputs": [
        {
          "output_type": "execute_result",
          "data": {
            "text/plain": [
              "       SeniorCitizen       tenure  MonthlyCharges\n",
              "count    7043.000000  7043.000000     7043.000000\n",
              "mean        0.162147    32.371149       64.761692\n",
              "std         0.368612    24.559481       30.090047\n",
              "min         0.000000     0.000000       18.250000\n",
              "25%         0.000000     9.000000       35.500000\n",
              "50%         0.000000    29.000000       70.350000\n",
              "75%         0.000000    55.000000       89.850000\n",
              "max         1.000000    72.000000      118.750000"
            ],
            "text/html": [
              "\n",
              "  <div id=\"df-2bfb5c6e-c0da-4433-b4e8-14a67c8c5af9\">\n",
              "    <div class=\"colab-df-container\">\n",
              "      <div>\n",
              "<style scoped>\n",
              "    .dataframe tbody tr th:only-of-type {\n",
              "        vertical-align: middle;\n",
              "    }\n",
              "\n",
              "    .dataframe tbody tr th {\n",
              "        vertical-align: top;\n",
              "    }\n",
              "\n",
              "    .dataframe thead th {\n",
              "        text-align: right;\n",
              "    }\n",
              "</style>\n",
              "<table border=\"1\" class=\"dataframe\">\n",
              "  <thead>\n",
              "    <tr style=\"text-align: right;\">\n",
              "      <th></th>\n",
              "      <th>SeniorCitizen</th>\n",
              "      <th>tenure</th>\n",
              "      <th>MonthlyCharges</th>\n",
              "    </tr>\n",
              "  </thead>\n",
              "  <tbody>\n",
              "    <tr>\n",
              "      <th>count</th>\n",
              "      <td>7043.000000</td>\n",
              "      <td>7043.000000</td>\n",
              "      <td>7043.000000</td>\n",
              "    </tr>\n",
              "    <tr>\n",
              "      <th>mean</th>\n",
              "      <td>0.162147</td>\n",
              "      <td>32.371149</td>\n",
              "      <td>64.761692</td>\n",
              "    </tr>\n",
              "    <tr>\n",
              "      <th>std</th>\n",
              "      <td>0.368612</td>\n",
              "      <td>24.559481</td>\n",
              "      <td>30.090047</td>\n",
              "    </tr>\n",
              "    <tr>\n",
              "      <th>min</th>\n",
              "      <td>0.000000</td>\n",
              "      <td>0.000000</td>\n",
              "      <td>18.250000</td>\n",
              "    </tr>\n",
              "    <tr>\n",
              "      <th>25%</th>\n",
              "      <td>0.000000</td>\n",
              "      <td>9.000000</td>\n",
              "      <td>35.500000</td>\n",
              "    </tr>\n",
              "    <tr>\n",
              "      <th>50%</th>\n",
              "      <td>0.000000</td>\n",
              "      <td>29.000000</td>\n",
              "      <td>70.350000</td>\n",
              "    </tr>\n",
              "    <tr>\n",
              "      <th>75%</th>\n",
              "      <td>0.000000</td>\n",
              "      <td>55.000000</td>\n",
              "      <td>89.850000</td>\n",
              "    </tr>\n",
              "    <tr>\n",
              "      <th>max</th>\n",
              "      <td>1.000000</td>\n",
              "      <td>72.000000</td>\n",
              "      <td>118.750000</td>\n",
              "    </tr>\n",
              "  </tbody>\n",
              "</table>\n",
              "</div>\n",
              "      <button class=\"colab-df-convert\" onclick=\"convertToInteractive('df-2bfb5c6e-c0da-4433-b4e8-14a67c8c5af9')\"\n",
              "              title=\"Convert this dataframe to an interactive table.\"\n",
              "              style=\"display:none;\">\n",
              "        \n",
              "  <svg xmlns=\"http://www.w3.org/2000/svg\" height=\"24px\"viewBox=\"0 0 24 24\"\n",
              "       width=\"24px\">\n",
              "    <path d=\"M0 0h24v24H0V0z\" fill=\"none\"/>\n",
              "    <path d=\"M18.56 5.44l.94 2.06.94-2.06 2.06-.94-2.06-.94-.94-2.06-.94 2.06-2.06.94zm-11 1L8.5 8.5l.94-2.06 2.06-.94-2.06-.94L8.5 2.5l-.94 2.06-2.06.94zm10 10l.94 2.06.94-2.06 2.06-.94-2.06-.94-.94-2.06-.94 2.06-2.06.94z\"/><path d=\"M17.41 7.96l-1.37-1.37c-.4-.4-.92-.59-1.43-.59-.52 0-1.04.2-1.43.59L10.3 9.45l-7.72 7.72c-.78.78-.78 2.05 0 2.83L4 21.41c.39.39.9.59 1.41.59.51 0 1.02-.2 1.41-.59l7.78-7.78 2.81-2.81c.8-.78.8-2.07 0-2.86zM5.41 20L4 18.59l7.72-7.72 1.47 1.35L5.41 20z\"/>\n",
              "  </svg>\n",
              "      </button>\n",
              "      \n",
              "  <style>\n",
              "    .colab-df-container {\n",
              "      display:flex;\n",
              "      flex-wrap:wrap;\n",
              "      gap: 12px;\n",
              "    }\n",
              "\n",
              "    .colab-df-convert {\n",
              "      background-color: #E8F0FE;\n",
              "      border: none;\n",
              "      border-radius: 50%;\n",
              "      cursor: pointer;\n",
              "      display: none;\n",
              "      fill: #1967D2;\n",
              "      height: 32px;\n",
              "      padding: 0 0 0 0;\n",
              "      width: 32px;\n",
              "    }\n",
              "\n",
              "    .colab-df-convert:hover {\n",
              "      background-color: #E2EBFA;\n",
              "      box-shadow: 0px 1px 2px rgba(60, 64, 67, 0.3), 0px 1px 3px 1px rgba(60, 64, 67, 0.15);\n",
              "      fill: #174EA6;\n",
              "    }\n",
              "\n",
              "    [theme=dark] .colab-df-convert {\n",
              "      background-color: #3B4455;\n",
              "      fill: #D2E3FC;\n",
              "    }\n",
              "\n",
              "    [theme=dark] .colab-df-convert:hover {\n",
              "      background-color: #434B5C;\n",
              "      box-shadow: 0px 1px 3px 1px rgba(0, 0, 0, 0.15);\n",
              "      filter: drop-shadow(0px 1px 2px rgba(0, 0, 0, 0.3));\n",
              "      fill: #FFFFFF;\n",
              "    }\n",
              "  </style>\n",
              "\n",
              "      <script>\n",
              "        const buttonEl =\n",
              "          document.querySelector('#df-2bfb5c6e-c0da-4433-b4e8-14a67c8c5af9 button.colab-df-convert');\n",
              "        buttonEl.style.display =\n",
              "          google.colab.kernel.accessAllowed ? 'block' : 'none';\n",
              "\n",
              "        async function convertToInteractive(key) {\n",
              "          const element = document.querySelector('#df-2bfb5c6e-c0da-4433-b4e8-14a67c8c5af9');\n",
              "          const dataTable =\n",
              "            await google.colab.kernel.invokeFunction('convertToInteractive',\n",
              "                                                     [key], {});\n",
              "          if (!dataTable) return;\n",
              "\n",
              "          const docLinkHtml = 'Like what you see? Visit the ' +\n",
              "            '<a target=\"_blank\" href=https://colab.research.google.com/notebooks/data_table.ipynb>data table notebook</a>'\n",
              "            + ' to learn more about interactive tables.';\n",
              "          element.innerHTML = '';\n",
              "          dataTable['output_type'] = 'display_data';\n",
              "          await google.colab.output.renderOutput(dataTable, element);\n",
              "          const docLink = document.createElement('div');\n",
              "          docLink.innerHTML = docLinkHtml;\n",
              "          element.appendChild(docLink);\n",
              "        }\n",
              "      </script>\n",
              "    </div>\n",
              "  </div>\n",
              "  "
            ]
          },
          "metadata": {},
          "execution_count": 248
        }
      ]
    },
    {
      "cell_type": "code",
      "source": [
        "df.columns"
      ],
      "metadata": {
        "colab": {
          "base_uri": "https://localhost:8080/"
        },
        "id": "fXfKGsPyhXJA",
        "outputId": "61da8593-c58b-4653-bdc0-a4317a908b39"
      },
      "execution_count": null,
      "outputs": [
        {
          "output_type": "execute_result",
          "data": {
            "text/plain": [
              "Index(['customerID', 'gender', 'SeniorCitizen', 'Partner', 'Dependents',\n",
              "       'tenure', 'PhoneService', 'MultipleLines', 'InternetService',\n",
              "       'OnlineSecurity', 'OnlineBackup', 'DeviceProtection', 'TechSupport',\n",
              "       'StreamingTV', 'StreamingMovies', 'Contract', 'PaperlessBilling',\n",
              "       'PaymentMethod', 'MonthlyCharges', 'TotalCharges', 'Churn'],\n",
              "      dtype='object')"
            ]
          },
          "metadata": {},
          "execution_count": 249
        }
      ]
    },
    {
      "cell_type": "markdown",
      "source": [
        "**il faut changer le column ((*TotalCharges*)) en valeurs numeriques**"
      ],
      "metadata": {
        "id": "hOIs_c33XCul"
      }
    },
    {
      "cell_type": "code",
      "source": [
        "#https://pandas.pydata.org/docs/reference/api/pandas.to_numeric.html\n",
        "df['TotalCharges'] = pd.to_numeric(df['TotalCharges'], errors='coerce')\n",
        "df.info()"
      ],
      "metadata": {
        "colab": {
          "base_uri": "https://localhost:8080/"
        },
        "id": "auGyI0R-XBBq",
        "outputId": "bc8dbf58-7d83-410b-d35a-3505bd1c4d5a"
      },
      "execution_count": null,
      "outputs": [
        {
          "output_type": "stream",
          "name": "stdout",
          "text": [
            "<class 'pandas.core.frame.DataFrame'>\n",
            "RangeIndex: 7043 entries, 0 to 7042\n",
            "Data columns (total 21 columns):\n",
            " #   Column            Non-Null Count  Dtype  \n",
            "---  ------            --------------  -----  \n",
            " 0   customerID        7043 non-null   object \n",
            " 1   gender            7043 non-null   object \n",
            " 2   SeniorCitizen     7043 non-null   int64  \n",
            " 3   Partner           7043 non-null   object \n",
            " 4   Dependents        7043 non-null   object \n",
            " 5   tenure            7043 non-null   int64  \n",
            " 6   PhoneService      7043 non-null   object \n",
            " 7   MultipleLines     7043 non-null   object \n",
            " 8   InternetService   7043 non-null   object \n",
            " 9   OnlineSecurity    7043 non-null   object \n",
            " 10  OnlineBackup      7043 non-null   object \n",
            " 11  DeviceProtection  7043 non-null   object \n",
            " 12  TechSupport       7043 non-null   object \n",
            " 13  StreamingTV       7043 non-null   object \n",
            " 14  StreamingMovies   7043 non-null   object \n",
            " 15  Contract          7043 non-null   object \n",
            " 16  PaperlessBilling  7043 non-null   object \n",
            " 17  PaymentMethod     7043 non-null   object \n",
            " 18  MonthlyCharges    7043 non-null   float64\n",
            " 19  TotalCharges      7032 non-null   float64\n",
            " 20  Churn             7043 non-null   object \n",
            "dtypes: float64(2), int64(2), object(17)\n",
            "memory usage: 1.1+ MB\n"
          ]
        }
      ]
    },
    {
      "cell_type": "code",
      "source": [
        "df.isnull().sum()"
      ],
      "metadata": {
        "colab": {
          "base_uri": "https://localhost:8080/"
        },
        "id": "r0rDJy9kcaPR",
        "outputId": "6fef10b7-0940-472a-d550-ef3ad681eed3"
      },
      "execution_count": null,
      "outputs": [
        {
          "output_type": "execute_result",
          "data": {
            "text/plain": [
              "customerID           0\n",
              "gender               0\n",
              "SeniorCitizen        0\n",
              "Partner              0\n",
              "Dependents           0\n",
              "tenure               0\n",
              "PhoneService         0\n",
              "MultipleLines        0\n",
              "InternetService      0\n",
              "OnlineSecurity       0\n",
              "OnlineBackup         0\n",
              "DeviceProtection     0\n",
              "TechSupport          0\n",
              "StreamingTV          0\n",
              "StreamingMovies      0\n",
              "Contract             0\n",
              "PaperlessBilling     0\n",
              "PaymentMethod        0\n",
              "MonthlyCharges       0\n",
              "TotalCharges        11\n",
              "Churn                0\n",
              "dtype: int64"
            ]
          },
          "metadata": {},
          "execution_count": 251
        }
      ]
    },
    {
      "cell_type": "markdown",
      "source": [
        "on voit qu'il y a 11 valeurs null dans les colonnes TotalCharges , nous devons les supprimés\n"
      ],
      "metadata": {
        "id": "ZXQmgWhscTmP"
      }
    },
    {
      "cell_type": "code",
      "source": [
        "df.dropna(inplace=True)"
      ],
      "metadata": {
        "id": "3MkSJuXlcn7y"
      },
      "execution_count": null,
      "outputs": []
    },
    {
      "cell_type": "markdown",
      "source": [
        "***definition : Le taux d'attrition*** (ou churn, de l'anglais to churn up : « brasser », « agiter ») est, au cours d'une période donnée, la proportion de clients perdus ou ayant changé de produit et service de la même entreprise. Ce terme est principalement utilisé dans les secteurs des télécommunications et bancaire, notamment autour de la fidélisation aux offres, mesurée par le taux de fidélité.\n",
        "\n",
        "La durée de vie moyenne des clients est l'inverse de l'attrition, si celle-ci reste constante.\n",
        "\n",
        "Par exemple, il est fréquent d'étudier la durée moyenne des abonnements. Ainsi, un taux d'attrition de 20 % par mois (0.2/mois) signifie que les clients restent fidèles pendant cinq mois en moyenne (1/0.2)."
      ],
      "metadata": {
        "id": "9Yniv8GpPEYW"
      }
    },
    {
      "cell_type": "markdown",
      "source": [
        "https://fr.sendinblue.com/blog/taux-attrition/\n",
        "\n",
        "\n",
        "Calculer le taux de churn : (Nombre de clients perdus / nombre de clients total) x 100"
      ],
      "metadata": {
        "id": "dlMIdcO6Ptdr"
      }
    },
    {
      "cell_type": "markdown",
      "source": [
        "**churn verb (CUSTOMERS)**\n",
        "\n",
        "* business   specialized*\n",
        "\n",
        "If customers churn between different companies that provide a particular service, they change repeatedly from one to another.\n",
        "\n",
        "\n",
        "---\n",
        "\n"
      ],
      "metadata": {
        "id": "CCidscC2_JEy"
      }
    },
    {
      "cell_type": "code",
      "source": [
        "df['Churn'].unique()"
      ],
      "metadata": {
        "colab": {
          "base_uri": "https://localhost:8080/"
        },
        "id": "GTzk5IdNPR9L",
        "outputId": "d34877ed-e742-46a2-df54-53d0d0d9959d"
      },
      "execution_count": null,
      "outputs": [
        {
          "output_type": "execute_result",
          "data": {
            "text/plain": [
              "array(['Yes', 'No'], dtype=object)"
            ]
          },
          "metadata": {},
          "execution_count": 253
        }
      ]
    },
    {
      "cell_type": "code",
      "source": [
        "df['Churn'].value_counts()"
      ],
      "metadata": {
        "colab": {
          "base_uri": "https://localhost:8080/"
        },
        "id": "VxDshnPPR87C",
        "outputId": "f4fe5a2f-6097-4a75-a3bd-58e2044bcd19"
      },
      "execution_count": null,
      "outputs": [
        {
          "output_type": "execute_result",
          "data": {
            "text/plain": [
              "No     4822\n",
              "Yes    2210\n",
              "Name: Churn, dtype: int64"
            ]
          },
          "metadata": {},
          "execution_count": 254
        }
      ]
    },
    {
      "cell_type": "code",
      "source": [
        "# compter le nombre total de valeurs dans la colonne 'départ'\n",
        "df.shape"
      ],
      "metadata": {
        "colab": {
          "base_uri": "https://localhost:8080/"
        },
        "id": "wjoFa0Z_TCRb",
        "outputId": "59c8ef69-213f-4772-fc8d-5d67fa2b630d"
      },
      "execution_count": null,
      "outputs": [
        {
          "output_type": "execute_result",
          "data": {
            "text/plain": [
              "(7032, 21)"
            ]
          },
          "metadata": {},
          "execution_count": 255
        }
      ]
    },
    {
      "cell_type": "code",
      "source": [
        "total_values=df.shape[0]\n",
        "total_values"
      ],
      "metadata": {
        "colab": {
          "base_uri": "https://localhost:8080/"
        },
        "id": "NxmBcnU8TN_d",
        "outputId": "406c9b96-83cc-43f1-9538-56c5fb3e3856"
      },
      "execution_count": null,
      "outputs": [
        {
          "output_type": "execute_result",
          "data": {
            "text/plain": [
              "7032"
            ]
          },
          "metadata": {},
          "execution_count": 256
        }
      ]
    },
    {
      "cell_type": "code",
      "source": [
        "# compter le nombre de valeurs (customer_churn (Yes)) dans la colonne 'Churn'\n",
        "customer_churn=df['Churn'].value_counts()[1]\n",
        "customer_churn"
      ],
      "metadata": {
        "colab": {
          "base_uri": "https://localhost:8080/"
        },
        "id": "02QQES9BTbKK",
        "outputId": "364ede55-697c-47b4-caa4-e80ee79d9409"
      },
      "execution_count": null,
      "outputs": [
        {
          "output_type": "execute_result",
          "data": {
            "text/plain": [
              "2210"
            ]
          },
          "metadata": {},
          "execution_count": 257
        }
      ]
    },
    {
      "cell_type": "code",
      "source": [
        "# calculer le taux d'attrition\n",
        "attrition_rate = (customer_churn / total_values) * 100\n",
        "\n",
        "print(\"Taux d'attrition: {:.2f}%\".format(attrition_rate))"
      ],
      "metadata": {
        "colab": {
          "base_uri": "https://localhost:8080/"
        },
        "id": "afb2lwqzT8QX",
        "outputId": "76bb4aa1-8b3e-4ff3-b41a-14fb69ae0762"
      },
      "execution_count": null,
      "outputs": [
        {
          "output_type": "stream",
          "name": "stdout",
          "text": [
            "Taux d'attrition: 31.43%\n"
          ]
        }
      ]
    },
    {
      "cell_type": "code",
      "source": [
        "sns.countplot(x=df['Churn'], data=df)\n",
        "# définir les étiquettes pour les barres\n",
        "labels = ['Clients résiliés', 'Clients actifs']\n",
        "# définir les étiquettes pour les barres\n",
        "plt.xticks(range(len(labels)), labels)\n",
        "plt.title(\"Répartition des clients actifs et résiliés\")\n",
        "plt.show()"
      ],
      "metadata": {
        "colab": {
          "base_uri": "https://localhost:8080/",
          "height": 295
        },
        "id": "aCOhTiURiNkC",
        "outputId": "41ef4300-7eb6-497a-d8d4-1b3e1d4ca2ec"
      },
      "execution_count": null,
      "outputs": [
        {
          "output_type": "display_data",
          "data": {
            "text/plain": [
              "<Figure size 432x288 with 1 Axes>"
            ],
            "image/png": "[encoded data removed]"
          },
          "metadata": {
            "needs_background": "light"
          }
        }
      ]
    },
    {
      "cell_type": "code",
      "source": [
        "data = df['Churn'].value_counts()\n",
        "\n",
        "plt.bar(data.index, data.values)\n",
        "plt.xlabel('Churn')\n",
        "plt.ylabel('count')\n",
        "plt.show()"
      ],
      "metadata": {
        "colab": {
          "base_uri": "https://localhost:8080/",
          "height": 281
        },
        "id": "mUo_WedroUjq",
        "outputId": "03dfb84b-afce-420f-c089-6ae59f2fdee6"
      },
      "execution_count": null,
      "outputs": [
        {
          "output_type": "display_data",
          "data": {
            "text/plain": [
              "<Figure size 432x288 with 1 Axes>"
            ],
            "image/png": "[encoded data removed]"
          },
          "metadata": {
            "needs_background": "light"
          }
        }
      ]
    },
    {
      "cell_type": "code",
      "source": [
        "df['gender'].value_counts()"
      ],
      "metadata": {
        "colab": {
          "base_uri": "https://localhost:8080/"
        },
        "id": "SUIRIRjx7Qaj",
        "outputId": "a5003f69-366b-4199-a6e4-41d91daa7ca0"
      },
      "execution_count": null,
      "outputs": [
        {
          "output_type": "execute_result",
          "data": {
            "text/plain": [
              "Male      3549\n",
              "Female    3483\n",
              "Name: gender, dtype: int64"
            ]
          },
          "metadata": {},
          "execution_count": 261
        }
      ]
    },
    {
      "cell_type": "code",
      "source": [
        "male=round(df['gender'].value_counts()[0]*100/len(df),2)\n",
        "female=round(df['gender'].value_counts()[1]*100/len(df),2)\n",
        "print(\"female= \" ,female ,\"et\", \"male = \" ,male  )"
      ],
      "metadata": {
        "colab": {
          "base_uri": "https://localhost:8080/"
        },
        "id": "t_Ul2pLR7XwI",
        "outputId": "43a12332-f409-4c8c-a44e-27feb6c05b5c"
      },
      "execution_count": null,
      "outputs": [
        {
          "output_type": "stream",
          "name": "stdout",
          "text": [
            "female=  49.53 et male =  50.47\n"
          ]
        }
      ]
    },
    {
      "cell_type": "code",
      "source": [
        "data=df['gender'].value_counts()\n",
        "plt.bar(data.index, data.values)\n",
        "plt.xlabel('gender')\n",
        "plt.ylabel('count')\n",
        "plt.title(\"Dsitribution de genre\")\n",
        "plt.show()"
      ],
      "metadata": {
        "colab": {
          "base_uri": "https://localhost:8080/",
          "height": 295
        },
        "id": "d8URSQP327tt",
        "outputId": "f9ba3d49-56b2-459f-8444-f45bfadc4e65"
      },
      "execution_count": null,
      "outputs": [
        {
          "output_type": "display_data",
          "data": {
            "text/plain": [
              "<Figure size 432x288 with 1 Axes>"
            ],
            "image/png": "[encoded data removed]"
          },
          "metadata": {
            "needs_background": "light"
          }
        }
      ]
    },
    {
      "cell_type": "code",
      "source": [
        "df['SeniorCitizen'].value_counts()"
      ],
      "metadata": {
        "colab": {
          "base_uri": "https://localhost:8080/"
        },
        "id": "1mpQzi4Q-OuM",
        "outputId": "a1cc99e7-ec3e-434e-bcf6-225b35e26a7c"
      },
      "execution_count": null,
      "outputs": [
        {
          "output_type": "execute_result",
          "data": {
            "text/plain": [
              "0    5890\n",
              "1    1142\n",
              "Name: SeniorCitizen, dtype: int64"
            ]
          },
          "metadata": {},
          "execution_count": 264
        }
      ]
    },
    {
      "cell_type": "code",
      "source": [
        "non_senior=round(df['SeniorCitizen'].value_counts()[0]*100/len(df),2)\n",
        "print(\"client non senior en % =\",non_senior)"
      ],
      "metadata": {
        "colab": {
          "base_uri": "https://localhost:8080/"
        },
        "id": "GhY5cPJw_RNf",
        "outputId": "a1413bc4-828c-41c8-ca21-1c463e978f45"
      },
      "execution_count": null,
      "outputs": [
        {
          "output_type": "stream",
          "name": "stdout",
          "text": [
            "client non senior en % = 83.76\n"
          ]
        }
      ]
    },
    {
      "cell_type": "code",
      "source": [
        "sns.countplot(x=df['SeniorCitizen'], data=df)"
      ],
      "metadata": {
        "colab": {
          "base_uri": "https://localhost:8080/",
          "height": 297
        },
        "id": "_Q0YsLSb67Er",
        "outputId": "ff982d31-4807-4913-ed1c-7807f0e4d075"
      },
      "execution_count": null,
      "outputs": [
        {
          "output_type": "execute_result",
          "data": {
            "text/plain": [
              "<matplotlib.axes._subplots.AxesSubplot at 0x7f9c334b49a0>"
            ]
          },
          "metadata": {},
          "execution_count": 266
        },
        {
          "output_type": "display_data",
          "data": {
            "text/plain": [
              "<Figure size 432x288 with 1 Axes>"
            ],
            "image/png": "[encoded data removed]"
          },
          "metadata": {
            "needs_background": "light"
          }
        }
      ]
    },
    {
      "cell_type": "code",
      "source": [
        "partner_dep=df.groupby('Partner')['Dependents'].count().reset_index()\n",
        "partner_dep"
      ],
      "metadata": {
        "colab": {
          "base_uri": "https://localhost:8080/",
          "height": 112
        },
        "id": "RcQCSNqYFLQx",
        "outputId": "f4c90164-2d92-4593-d582-8e31f1040d2d"
      },
      "execution_count": null,
      "outputs": [
        {
          "output_type": "execute_result",
          "data": {
            "text/plain": [
              "  Partner  Dependents\n",
              "0      No        3639\n",
              "1     Yes        3393"
            ],
            "text/html": [
              "\n",
              "  <div id=\"df-208e95b1-073d-4b9a-ad47-f239b4a90f14\">\n",
              "    <div class=\"colab-df-container\">\n",
              "      <div>\n",
              "<style scoped>\n",
              "    .dataframe tbody tr th:only-of-type {\n",
              "        vertical-align: middle;\n",
              "    }\n",
              "\n",
              "    .dataframe tbody tr th {\n",
              "        vertical-align: top;\n",
              "    }\n",
              "\n",
              "    .dataframe thead th {\n",
              "        text-align: right;\n",
              "    }\n",
              "</style>\n",
              "<table border=\"1\" class=\"dataframe\">\n",
              "  <thead>\n",
              "    <tr style=\"text-align: right;\">\n",
              "      <th></th>\n",
              "      <th>Partner</th>\n",
              "      <th>Dependents</th>\n",
              "    </tr>\n",
              "  </thead>\n",
              "  <tbody>\n",
              "    <tr>\n",
              "      <th>0</th>\n",
              "      <td>No</td>\n",
              "      <td>3639</td>\n",
              "    </tr>\n",
              "    <tr>\n",
              "      <th>1</th>\n",
              "      <td>Yes</td>\n",
              "      <td>3393</td>\n",
              "    </tr>\n",
              "  </tbody>\n",
              "</table>\n",
              "</div>\n",
              "      <button class=\"colab-df-convert\" onclick=\"convertToInteractive('df-208e95b1-073d-4b9a-ad47-f239b4a90f14')\"\n",
              "              title=\"Convert this dataframe to an interactive table.\"\n",
              "              style=\"display:none;\">\n",
              "        \n",
              "  <svg xmlns=\"http://www.w3.org/2000/svg\" height=\"24px\"viewBox=\"0 0 24 24\"\n",
              "       width=\"24px\">\n",
              "    <path d=\"M0 0h24v24H0V0z\" fill=\"none\"/>\n",
              "    <path d=\"M18.56 5.44l.94 2.06.94-2.06 2.06-.94-2.06-.94-.94-2.06-.94 2.06-2.06.94zm-11 1L8.5 8.5l.94-2.06 2.06-.94-2.06-.94L8.5 2.5l-.94 2.06-2.06.94zm10 10l.94 2.06.94-2.06 2.06-.94-2.06-.94-.94-2.06-.94 2.06-2.06.94z\"/><path d=\"M17.41 7.96l-1.37-1.37c-.4-.4-.92-.59-1.43-.59-.52 0-1.04.2-1.43.59L10.3 9.45l-7.72 7.72c-.78.78-.78 2.05 0 2.83L4 21.41c.39.39.9.59 1.41.59.51 0 1.02-.2 1.41-.59l7.78-7.78 2.81-2.81c.8-.78.8-2.07 0-2.86zM5.41 20L4 18.59l7.72-7.72 1.47 1.35L5.41 20z\"/>\n",
              "  </svg>\n",
              "      </button>\n",
              "      \n",
              "  <style>\n",
              "    .colab-df-container {\n",
              "      display:flex;\n",
              "      flex-wrap:wrap;\n",
              "      gap: 12px;\n",
              "    }\n",
              "\n",
              "    .colab-df-convert {\n",
              "      background-color: #E8F0FE;\n",
              "      border: none;\n",
              "      border-radius: 50%;\n",
              "      cursor: pointer;\n",
              "      display: none;\n",
              "      fill: #1967D2;\n",
              "      height: 32px;\n",
              "      padding: 0 0 0 0;\n",
              "      width: 32px;\n",
              "    }\n",
              "\n",
              "    .colab-df-convert:hover {\n",
              "      background-color: #E2EBFA;\n",
              "      box-shadow: 0px 1px 2px rgba(60, 64, 67, 0.3), 0px 1px 3px 1px rgba(60, 64, 67, 0.15);\n",
              "      fill: #174EA6;\n",
              "    }\n",
              "\n",
              "    [theme=dark] .colab-df-convert {\n",
              "      background-color: #3B4455;\n",
              "      fill: #D2E3FC;\n",
              "    }\n",
              "\n",
              "    [theme=dark] .colab-df-convert:hover {\n",
              "      background-color: #434B5C;\n",
              "      box-shadow: 0px 1px 3px 1px rgba(0, 0, 0, 0.15);\n",
              "      filter: drop-shadow(0px 1px 2px rgba(0, 0, 0, 0.3));\n",
              "      fill: #FFFFFF;\n",
              "    }\n",
              "  </style>\n",
              "\n",
              "      <script>\n",
              "        const buttonEl =\n",
              "          document.querySelector('#df-208e95b1-073d-4b9a-ad47-f239b4a90f14 button.colab-df-convert');\n",
              "        buttonEl.style.display =\n",
              "          google.colab.kernel.accessAllowed ? 'block' : 'none';\n",
              "\n",
              "        async function convertToInteractive(key) {\n",
              "          const element = document.querySelector('#df-208e95b1-073d-4b9a-ad47-f239b4a90f14');\n",
              "          const dataTable =\n",
              "            await google.colab.kernel.invokeFunction('convertToInteractive',\n",
              "                                                     [key], {});\n",
              "          if (!dataTable) return;\n",
              "\n",
              "          const docLinkHtml = 'Like what you see? Visit the ' +\n",
              "            '<a target=\"_blank\" href=https://colab.research.google.com/notebooks/data_table.ipynb>data table notebook</a>'\n",
              "            + ' to learn more about interactive tables.';\n",
              "          element.innerHTML = '';\n",
              "          dataTable['output_type'] = 'display_data';\n",
              "          await google.colab.output.renderOutput(dataTable, element);\n",
              "          const docLink = document.createElement('div');\n",
              "          docLink.innerHTML = docLinkHtml;\n",
              "          element.appendChild(docLink);\n",
              "        }\n",
              "      </script>\n",
              "    </div>\n",
              "  </div>\n",
              "  "
            ]
          },
          "metadata": {},
          "execution_count": 267
        }
      ]
    },
    {
      "cell_type": "code",
      "source": [
        "df.groupby(['Partner','Dependents'])['Dependents'].count()"
      ],
      "metadata": {
        "colab": {
          "base_uri": "https://localhost:8080/"
        },
        "id": "m9T9nm8yGsY1",
        "outputId": "ce5c33bb-3521-46d0-ad72-3f219dfe3cd7"
      },
      "execution_count": null,
      "outputs": [
        {
          "output_type": "execute_result",
          "data": {
            "text/plain": [
              "Partner  Dependents\n",
              "No       No            3280\n",
              "         Yes            359\n",
              "Yes      No            1653\n",
              "         Yes           1740\n",
              "Name: Dependents, dtype: int64"
            ]
          },
          "metadata": {},
          "execution_count": 268
        }
      ]
    },
    {
      "cell_type": "code",
      "source": [
        "df.groupby(['Partner'])['Dependents'].value_counts().unstack()"
      ],
      "metadata": {
        "colab": {
          "base_uri": "https://localhost:8080/",
          "height": 143
        },
        "id": "C0sUM64zIwck",
        "outputId": "179e0f48-e342-494e-b071-30b12f41ad31"
      },
      "execution_count": null,
      "outputs": [
        {
          "output_type": "execute_result",
          "data": {
            "text/plain": [
              "Dependents    No   Yes\n",
              "Partner               \n",
              "No          3280   359\n",
              "Yes         1653  1740"
            ],
            "text/html": [
              "\n",
              "  <div id=\"df-49eacc56-24f9-46d3-86cc-843b45ae5c46\">\n",
              "    <div class=\"colab-df-container\">\n",
              "      <div>\n",
              "<style scoped>\n",
              "    .dataframe tbody tr th:only-of-type {\n",
              "        vertical-align: middle;\n",
              "    }\n",
              "\n",
              "    .dataframe tbody tr th {\n",
              "        vertical-align: top;\n",
              "    }\n",
              "\n",
              "    .dataframe thead th {\n",
              "        text-align: right;\n",
              "    }\n",
              "</style>\n",
              "<table border=\"1\" class=\"dataframe\">\n",
              "  <thead>\n",
              "    <tr style=\"text-align: right;\">\n",
              "      <th>Dependents</th>\n",
              "      <th>No</th>\n",
              "      <th>Yes</th>\n",
              "    </tr>\n",
              "    <tr>\n",
              "      <th>Partner</th>\n",
              "      <th></th>\n",
              "      <th></th>\n",
              "    </tr>\n",
              "  </thead>\n",
              "  <tbody>\n",
              "    <tr>\n",
              "      <th>No</th>\n",
              "      <td>3280</td>\n",
              "      <td>359</td>\n",
              "    </tr>\n",
              "    <tr>\n",
              "      <th>Yes</th>\n",
              "      <td>1653</td>\n",
              "      <td>1740</td>\n",
              "    </tr>\n",
              "  </tbody>\n",
              "</table>\n",
              "</div>\n",
              "      <button class=\"colab-df-convert\" onclick=\"convertToInteractive('df-49eacc56-24f9-46d3-86cc-843b45ae5c46')\"\n",
              "              title=\"Convert this dataframe to an interactive table.\"\n",
              "              style=\"display:none;\">\n",
              "        \n",
              "  <svg xmlns=\"http://www.w3.org/2000/svg\" height=\"24px\"viewBox=\"0 0 24 24\"\n",
              "       width=\"24px\">\n",
              "    <path d=\"M0 0h24v24H0V0z\" fill=\"none\"/>\n",
              "    <path d=\"M18.56 5.44l.94 2.06.94-2.06 2.06-.94-2.06-.94-.94-2.06-.94 2.06-2.06.94zm-11 1L8.5 8.5l.94-2.06 2.06-.94-2.06-.94L8.5 2.5l-.94 2.06-2.06.94zm10 10l.94 2.06.94-2.06 2.06-.94-2.06-.94-.94-2.06-.94 2.06-2.06.94z\"/><path d=\"M17.41 7.96l-1.37-1.37c-.4-.4-.92-.59-1.43-.59-.52 0-1.04.2-1.43.59L10.3 9.45l-7.72 7.72c-.78.78-.78 2.05 0 2.83L4 21.41c.39.39.9.59 1.41.59.51 0 1.02-.2 1.41-.59l7.78-7.78 2.81-2.81c.8-.78.8-2.07 0-2.86zM5.41 20L4 18.59l7.72-7.72 1.47 1.35L5.41 20z\"/>\n",
              "  </svg>\n",
              "      </button>\n",
              "      \n",
              "  <style>\n",
              "    .colab-df-container {\n",
              "      display:flex;\n",
              "      flex-wrap:wrap;\n",
              "      gap: 12px;\n",
              "    }\n",
              "\n",
              "    .colab-df-convert {\n",
              "      background-color: #E8F0FE;\n",
              "      border: none;\n",
              "      border-radius: 50%;\n",
              "      cursor: pointer;\n",
              "      display: none;\n",
              "      fill: #1967D2;\n",
              "      height: 32px;\n",
              "      padding: 0 0 0 0;\n",
              "      width: 32px;\n",
              "    }\n",
              "\n",
              "    .colab-df-convert:hover {\n",
              "      background-color: #E2EBFA;\n",
              "      box-shadow: 0px 1px 2px rgba(60, 64, 67, 0.3), 0px 1px 3px 1px rgba(60, 64, 67, 0.15);\n",
              "      fill: #174EA6;\n",
              "    }\n",
              "\n",
              "    [theme=dark] .colab-df-convert {\n",
              "      background-color: #3B4455;\n",
              "      fill: #D2E3FC;\n",
              "    }\n",
              "\n",
              "    [theme=dark] .colab-df-convert:hover {\n",
              "      background-color: #434B5C;\n",
              "      box-shadow: 0px 1px 3px 1px rgba(0, 0, 0, 0.15);\n",
              "      filter: drop-shadow(0px 1px 2px rgba(0, 0, 0, 0.3));\n",
              "      fill: #FFFFFF;\n",
              "    }\n",
              "  </style>\n",
              "\n",
              "      <script>\n",
              "        const buttonEl =\n",
              "          document.querySelector('#df-49eacc56-24f9-46d3-86cc-843b45ae5c46 button.colab-df-convert');\n",
              "        buttonEl.style.display =\n",
              "          google.colab.kernel.accessAllowed ? 'block' : 'none';\n",
              "\n",
              "        async function convertToInteractive(key) {\n",
              "          const element = document.querySelector('#df-49eacc56-24f9-46d3-86cc-843b45ae5c46');\n",
              "          const dataTable =\n",
              "            await google.colab.kernel.invokeFunction('convertToInteractive',\n",
              "                                                     [key], {});\n",
              "          if (!dataTable) return;\n",
              "\n",
              "          const docLinkHtml = 'Like what you see? Visit the ' +\n",
              "            '<a target=\"_blank\" href=https://colab.research.google.com/notebooks/data_table.ipynb>data table notebook</a>'\n",
              "            + ' to learn more about interactive tables.';\n",
              "          element.innerHTML = '';\n",
              "          dataTable['output_type'] = 'display_data';\n",
              "          await google.colab.output.renderOutput(dataTable, element);\n",
              "          const docLink = document.createElement('div');\n",
              "          docLink.innerHTML = docLinkHtml;\n",
              "          element.appendChild(docLink);\n",
              "        }\n",
              "      </script>\n",
              "    </div>\n",
              "  </div>\n",
              "  "
            ]
          },
          "metadata": {},
          "execution_count": 269
        }
      ]
    },
    {
      "cell_type": "code",
      "source": [
        "df.groupby(['Partner','Dependents'])['Dependents'].count().unstack().plot.bar(stacked=True,color=['b','r'])\n",
        "# définir les étiquettes pour les barres\n",
        "labels = ['no_partner', 'with_partner']\n",
        "# définir les étiquettes pour les barres\n",
        "plt.xticks(range(len(labels)), labels)\n",
        "plt.xlabel('partner')\n",
        "plt.ylabel('customers')\n",
        "plt.title(\"customer dependent and partner\")\n",
        "plt.legend(loc='center')\n",
        "plt.show()"
      ],
      "metadata": {
        "colab": {
          "base_uri": "https://localhost:8080/",
          "height": 349
        },
        "id": "7tsdPbxVHp2X",
        "outputId": "4440d8f4-280d-46a8-8c77-95d53fb5893d"
      },
      "execution_count": null,
      "outputs": [
        {
          "output_type": "display_data",
          "data": {
            "text/plain": [
              "<Figure size 432x288 with 1 Axes>"
            ],
            "image/png": "[encoded data removed]"
          },
          "metadata": {
            "needs_background": "light"
          }
        }
      ]
    },
    {
      "cell_type": "code",
      "source": [
        "df.groupby(['Partner'])['Dependents'].value_counts().unstack().plot.bar(stacked=True,color=['b','r'])\n",
        "# définir les étiquettes pour les barres\n",
        "labels = ['no_partner', 'with_partner']\n",
        "# définir les étiquettes pour les barres\n",
        "plt.xticks(range(len(labels)), labels)\n",
        "plt.xlabel('')\n",
        "plt.ylabel('customers')\n",
        "plt.title(\"customer dependent and partner\")\n",
        "plt.legend(loc='center')\n",
        "plt.show()"
      ],
      "metadata": {
        "colab": {
          "base_uri": "https://localhost:8080/",
          "height": 335
        },
        "id": "EiTBrufKJXsQ",
        "outputId": "6ce488a5-0e60-459f-b7c5-a01df8117060"
      },
      "execution_count": null,
      "outputs": [
        {
          "output_type": "display_data",
          "data": {
            "text/plain": [
              "<Figure size 432x288 with 1 Axes>"
            ],
            "image/png": "[encoded data removed]"
          },
          "metadata": {
            "needs_background": "light"
          }
        }
      ]
    },
    {
      "cell_type": "code",
      "source": [
        "df['tenure'].value_counts().reset_index().head()"
      ],
      "metadata": {
        "colab": {
          "base_uri": "https://localhost:8080/",
          "height": 206
        },
        "id": "3QdtvVa2h0Dz",
        "outputId": "411f6ded-9652-490c-ff1e-34123a44347d"
      },
      "execution_count": null,
      "outputs": [
        {
          "output_type": "execute_result",
          "data": {
            "text/plain": [
              "   index  tenure\n",
              "0      1     613\n",
              "1     72     362\n",
              "2      2     238\n",
              "3      3     200\n",
              "4      4     176"
            ],
            "text/html": [
              "\n",
              "  <div id=\"df-9da9dc71-942c-4708-9ef7-456f21d7c501\">\n",
              "    <div class=\"colab-df-container\">\n",
              "      <div>\n",
              "<style scoped>\n",
              "    .dataframe tbody tr th:only-of-type {\n",
              "        vertical-align: middle;\n",
              "    }\n",
              "\n",
              "    .dataframe tbody tr th {\n",
              "        vertical-align: top;\n",
              "    }\n",
              "\n",
              "    .dataframe thead th {\n",
              "        text-align: right;\n",
              "    }\n",
              "</style>\n",
              "<table border=\"1\" class=\"dataframe\">\n",
              "  <thead>\n",
              "    <tr style=\"text-align: right;\">\n",
              "      <th></th>\n",
              "      <th>index</th>\n",
              "      <th>tenure</th>\n",
              "    </tr>\n",
              "  </thead>\n",
              "  <tbody>\n",
              "    <tr>\n",
              "      <th>0</th>\n",
              "      <td>1</td>\n",
              "      <td>613</td>\n",
              "    </tr>\n",
              "    <tr>\n",
              "      <th>1</th>\n",
              "      <td>72</td>\n",
              "      <td>362</td>\n",
              "    </tr>\n",
              "    <tr>\n",
              "      <th>2</th>\n",
              "      <td>2</td>\n",
              "      <td>238</td>\n",
              "    </tr>\n",
              "    <tr>\n",
              "      <th>3</th>\n",
              "      <td>3</td>\n",
              "      <td>200</td>\n",
              "    </tr>\n",
              "    <tr>\n",
              "      <th>4</th>\n",
              "      <td>4</td>\n",
              "      <td>176</td>\n",
              "    </tr>\n",
              "  </tbody>\n",
              "</table>\n",
              "</div>\n",
              "      <button class=\"colab-df-convert\" onclick=\"convertToInteractive('df-9da9dc71-942c-4708-9ef7-456f21d7c501')\"\n",
              "              title=\"Convert this dataframe to an interactive table.\"\n",
              "              style=\"display:none;\">\n",
              "        \n",
              "  <svg xmlns=\"http://www.w3.org/2000/svg\" height=\"24px\"viewBox=\"0 0 24 24\"\n",
              "       width=\"24px\">\n",
              "    <path d=\"M0 0h24v24H0V0z\" fill=\"none\"/>\n",
              "    <path d=\"M18.56 5.44l.94 2.06.94-2.06 2.06-.94-2.06-.94-.94-2.06-.94 2.06-2.06.94zm-11 1L8.5 8.5l.94-2.06 2.06-.94-2.06-.94L8.5 2.5l-.94 2.06-2.06.94zm10 10l.94 2.06.94-2.06 2.06-.94-2.06-.94-.94-2.06-.94 2.06-2.06.94z\"/><path d=\"M17.41 7.96l-1.37-1.37c-.4-.4-.92-.59-1.43-.59-.52 0-1.04.2-1.43.59L10.3 9.45l-7.72 7.72c-.78.78-.78 2.05 0 2.83L4 21.41c.39.39.9.59 1.41.59.51 0 1.02-.2 1.41-.59l7.78-7.78 2.81-2.81c.8-.78.8-2.07 0-2.86zM5.41 20L4 18.59l7.72-7.72 1.47 1.35L5.41 20z\"/>\n",
              "  </svg>\n",
              "      </button>\n",
              "      \n",
              "  <style>\n",
              "    .colab-df-container {\n",
              "      display:flex;\n",
              "      flex-wrap:wrap;\n",
              "      gap: 12px;\n",
              "    }\n",
              "\n",
              "    .colab-df-convert {\n",
              "      background-color: #E8F0FE;\n",
              "      border: none;\n",
              "      border-radius: 50%;\n",
              "      cursor: pointer;\n",
              "      display: none;\n",
              "      fill: #1967D2;\n",
              "      height: 32px;\n",
              "      padding: 0 0 0 0;\n",
              "      width: 32px;\n",
              "    }\n",
              "\n",
              "    .colab-df-convert:hover {\n",
              "      background-color: #E2EBFA;\n",
              "      box-shadow: 0px 1px 2px rgba(60, 64, 67, 0.3), 0px 1px 3px 1px rgba(60, 64, 67, 0.15);\n",
              "      fill: #174EA6;\n",
              "    }\n",
              "\n",
              "    [theme=dark] .colab-df-convert {\n",
              "      background-color: #3B4455;\n",
              "      fill: #D2E3FC;\n",
              "    }\n",
              "\n",
              "    [theme=dark] .colab-df-convert:hover {\n",
              "      background-color: #434B5C;\n",
              "      box-shadow: 0px 1px 3px 1px rgba(0, 0, 0, 0.15);\n",
              "      filter: drop-shadow(0px 1px 2px rgba(0, 0, 0, 0.3));\n",
              "      fill: #FFFFFF;\n",
              "    }\n",
              "  </style>\n",
              "\n",
              "      <script>\n",
              "        const buttonEl =\n",
              "          document.querySelector('#df-9da9dc71-942c-4708-9ef7-456f21d7c501 button.colab-df-convert');\n",
              "        buttonEl.style.display =\n",
              "          google.colab.kernel.accessAllowed ? 'block' : 'none';\n",
              "\n",
              "        async function convertToInteractive(key) {\n",
              "          const element = document.querySelector('#df-9da9dc71-942c-4708-9ef7-456f21d7c501');\n",
              "          const dataTable =\n",
              "            await google.colab.kernel.invokeFunction('convertToInteractive',\n",
              "                                                     [key], {});\n",
              "          if (!dataTable) return;\n",
              "\n",
              "          const docLinkHtml = 'Like what you see? Visit the ' +\n",
              "            '<a target=\"_blank\" href=https://colab.research.google.com/notebooks/data_table.ipynb>data table notebook</a>'\n",
              "            + ' to learn more about interactive tables.';\n",
              "          element.innerHTML = '';\n",
              "          dataTable['output_type'] = 'display_data';\n",
              "          await google.colab.output.renderOutput(dataTable, element);\n",
              "          const docLink = document.createElement('div');\n",
              "          docLink.innerHTML = docLinkHtml;\n",
              "          element.appendChild(docLink);\n",
              "        }\n",
              "      </script>\n",
              "    </div>\n",
              "  </div>\n",
              "  "
            ]
          },
          "metadata": {},
          "execution_count": 272
        }
      ]
    },
    {
      "cell_type": "code",
      "source": [
        "#faire histogramme sur la fidèlité des clients\n",
        "plt.figure(figsize=(12,6))\n",
        "sns.histplot(data=df, x=df['tenure'],bins=72, color='blue', alpha=0.5)\n",
        "plt.xlabel('tenure(mois)',fontsize=14)\n",
        "plt.ylabel('nombre de customers',size=14)\n",
        "plt.title(\"Nombre des customers par le mois de fidélité\",fontsize=16)\n",
        "plt.axvline(0, color='red')\n",
        "plt.show()"
      ],
      "metadata": {
        "colab": {
          "base_uri": "https://localhost:8080/",
          "height": 411
        },
        "id": "daHxFKcUQRtN",
        "outputId": "3d1321ae-eeed-4d98-8ded-01da9430216b"
      },
      "execution_count": null,
      "outputs": [
        {
          "output_type": "display_data",
          "data": {
            "text/plain": [
              "<Figure size 864x432 with 1 Axes>"
            ],
            "image/png": "[encoded data removed]"
          },
          "metadata": {
            "needs_background": "light"
          }
        }
      ]
    },
    {
      "cell_type": "code",
      "source": [
        "#faire histogramme sur la fidèlité des clients\n",
        "plt.figure(figsize=(12,6))\n",
        "sns.histplot(data=df, x=df['tenure'],bins=72, color='blue', alpha=0.5,hue='Churn')\n",
        "plt.xlabel('tenure(mois)',fontsize=14)\n",
        "plt.ylabel('nombre de customers',size=14)\n",
        "plt.title(\"Nombre des customers par le mois de fidélité\",fontsize=16)\n",
        "plt.axvline(0, color='red')\n",
        "plt.show()"
      ],
      "metadata": {
        "colab": {
          "base_uri": "https://localhost:8080/",
          "height": 411
        },
        "id": "poWBDJBe7H0C",
        "outputId": "4f0f12c6-0630-43d0-bc66-ac4e2abc761c"
      },
      "execution_count": null,
      "outputs": [
        {
          "output_type": "display_data",
          "data": {
            "text/plain": [
              "<Figure size 864x432 with 1 Axes>"
            ],
            "image/png": "[encoded data removed]"
          },
          "metadata": {
            "needs_background": "light"
          }
        }
      ]
    },
    {
      "cell_type": "code",
      "source": [
        "df['Contract'].value_counts()"
      ],
      "metadata": {
        "colab": {
          "base_uri": "https://localhost:8080/"
        },
        "id": "V4VTlk-0cgNw",
        "outputId": "d544f744-cdb3-4ecc-ec61-f6be76219244"
      },
      "execution_count": null,
      "outputs": [
        {
          "output_type": "execute_result",
          "data": {
            "text/plain": [
              "Month-to-month    3875\n",
              "Two year          1685\n",
              "One year          1472\n",
              "Name: Contract, dtype: int64"
            ]
          },
          "metadata": {},
          "execution_count": 275
        }
      ]
    },
    {
      "cell_type": "code",
      "source": [
        "df['Contract'].value_counts().plot.bar()\n",
        "plt.xlabel('type du contrat ',fontsize=14)\n",
        "plt.ylabel('nombre de customers',size=14)\n",
        "plt.title(\"Nombre des customers par le type du contrat \",fontsize=16)"
      ],
      "metadata": {
        "colab": {
          "base_uri": "https://localhost:8080/",
          "height": 390
        },
        "id": "4loTagSSVvRk",
        "outputId": "59b2b643-621b-4f1e-c3df-a8ce6c24fa28"
      },
      "execution_count": null,
      "outputs": [
        {
          "output_type": "execute_result",
          "data": {
            "text/plain": [
              "Text(0.5, 1.0, 'Nombre des customers par le type du contrat ')"
            ]
          },
          "metadata": {},
          "execution_count": 276
        },
        {
          "output_type": "display_data",
          "data": {
            "text/plain": [
              "<Figure size 432x288 with 1 Axes>"
            ],
            "image/png": "[encoded data removed]"
          },
          "metadata": {
            "needs_background": "light"
          }
        }
      ]
    },
    {
      "cell_type": "code",
      "source": [
        "df.groupby('Contract')['tenure'].count().reset_index()"
      ],
      "metadata": {
        "colab": {
          "base_uri": "https://localhost:8080/",
          "height": 143
        },
        "id": "bD7OAjwDDzgc",
        "outputId": "1225c3a0-69b0-43d0-9f3c-28f96001bec9"
      },
      "execution_count": null,
      "outputs": [
        {
          "output_type": "execute_result",
          "data": {
            "text/plain": [
              "         Contract  tenure\n",
              "0  Month-to-month    3875\n",
              "1        One year    1472\n",
              "2        Two year    1685"
            ],
            "text/html": [
              "\n",
              "  <div id=\"df-04bea6ae-df4d-48b9-873a-da2938e69da2\">\n",
              "    <div class=\"colab-df-container\">\n",
              "      <div>\n",
              "<style scoped>\n",
              "    .dataframe tbody tr th:only-of-type {\n",
              "        vertical-align: middle;\n",
              "    }\n",
              "\n",
              "    .dataframe tbody tr th {\n",
              "        vertical-align: top;\n",
              "    }\n",
              "\n",
              "    .dataframe thead th {\n",
              "        text-align: right;\n",
              "    }\n",
              "</style>\n",
              "<table border=\"1\" class=\"dataframe\">\n",
              "  <thead>\n",
              "    <tr style=\"text-align: right;\">\n",
              "      <th></th>\n",
              "      <th>Contract</th>\n",
              "      <th>tenure</th>\n",
              "    </tr>\n",
              "  </thead>\n",
              "  <tbody>\n",
              "    <tr>\n",
              "      <th>0</th>\n",
              "      <td>Month-to-month</td>\n",
              "      <td>3875</td>\n",
              "    </tr>\n",
              "    <tr>\n",
              "      <th>1</th>\n",
              "      <td>One year</td>\n",
              "      <td>1472</td>\n",
              "    </tr>\n",
              "    <tr>\n",
              "      <th>2</th>\n",
              "      <td>Two year</td>\n",
              "      <td>1685</td>\n",
              "    </tr>\n",
              "  </tbody>\n",
              "</table>\n",
              "</div>\n",
              "      <button class=\"colab-df-convert\" onclick=\"convertToInteractive('df-04bea6ae-df4d-48b9-873a-da2938e69da2')\"\n",
              "              title=\"Convert this dataframe to an interactive table.\"\n",
              "              style=\"display:none;\">\n",
              "        \n",
              "  <svg xmlns=\"http://www.w3.org/2000/svg\" height=\"24px\"viewBox=\"0 0 24 24\"\n",
              "       width=\"24px\">\n",
              "    <path d=\"M0 0h24v24H0V0z\" fill=\"none\"/>\n",
              "    <path d=\"M18.56 5.44l.94 2.06.94-2.06 2.06-.94-2.06-.94-.94-2.06-.94 2.06-2.06.94zm-11 1L8.5 8.5l.94-2.06 2.06-.94-2.06-.94L8.5 2.5l-.94 2.06-2.06.94zm10 10l.94 2.06.94-2.06 2.06-.94-2.06-.94-.94-2.06-.94 2.06-2.06.94z\"/><path d=\"M17.41 7.96l-1.37-1.37c-.4-.4-.92-.59-1.43-.59-.52 0-1.04.2-1.43.59L10.3 9.45l-7.72 7.72c-.78.78-.78 2.05 0 2.83L4 21.41c.39.39.9.59 1.41.59.51 0 1.02-.2 1.41-.59l7.78-7.78 2.81-2.81c.8-.78.8-2.07 0-2.86zM5.41 20L4 18.59l7.72-7.72 1.47 1.35L5.41 20z\"/>\n",
              "  </svg>\n",
              "      </button>\n",
              "      \n",
              "  <style>\n",
              "    .colab-df-container {\n",
              "      display:flex;\n",
              "      flex-wrap:wrap;\n",
              "      gap: 12px;\n",
              "    }\n",
              "\n",
              "    .colab-df-convert {\n",
              "      background-color: #E8F0FE;\n",
              "      border: none;\n",
              "      border-radius: 50%;\n",
              "      cursor: pointer;\n",
              "      display: none;\n",
              "      fill: #1967D2;\n",
              "      height: 32px;\n",
              "      padding: 0 0 0 0;\n",
              "      width: 32px;\n",
              "    }\n",
              "\n",
              "    .colab-df-convert:hover {\n",
              "      background-color: #E2EBFA;\n",
              "      box-shadow: 0px 1px 2px rgba(60, 64, 67, 0.3), 0px 1px 3px 1px rgba(60, 64, 67, 0.15);\n",
              "      fill: #174EA6;\n",
              "    }\n",
              "\n",
              "    [theme=dark] .colab-df-convert {\n",
              "      background-color: #3B4455;\n",
              "      fill: #D2E3FC;\n",
              "    }\n",
              "\n",
              "    [theme=dark] .colab-df-convert:hover {\n",
              "      background-color: #434B5C;\n",
              "      box-shadow: 0px 1px 3px 1px rgba(0, 0, 0, 0.15);\n",
              "      filter: drop-shadow(0px 1px 2px rgba(0, 0, 0, 0.3));\n",
              "      fill: #FFFFFF;\n",
              "    }\n",
              "  </style>\n",
              "\n",
              "      <script>\n",
              "        const buttonEl =\n",
              "          document.querySelector('#df-04bea6ae-df4d-48b9-873a-da2938e69da2 button.colab-df-convert');\n",
              "        buttonEl.style.display =\n",
              "          google.colab.kernel.accessAllowed ? 'block' : 'none';\n",
              "\n",
              "        async function convertToInteractive(key) {\n",
              "          const element = document.querySelector('#df-04bea6ae-df4d-48b9-873a-da2938e69da2');\n",
              "          const dataTable =\n",
              "            await google.colab.kernel.invokeFunction('convertToInteractive',\n",
              "                                                     [key], {});\n",
              "          if (!dataTable) return;\n",
              "\n",
              "          const docLinkHtml = 'Like what you see? Visit the ' +\n",
              "            '<a target=\"_blank\" href=https://colab.research.google.com/notebooks/data_table.ipynb>data table notebook</a>'\n",
              "            + ' to learn more about interactive tables.';\n",
              "          element.innerHTML = '';\n",
              "          dataTable['output_type'] = 'display_data';\n",
              "          await google.colab.output.renderOutput(dataTable, element);\n",
              "          const docLink = document.createElement('div');\n",
              "          docLink.innerHTML = docLinkHtml;\n",
              "          element.appendChild(docLink);\n",
              "        }\n",
              "      </script>\n",
              "    </div>\n",
              "  </div>\n",
              "  "
            ]
          },
          "metadata": {},
          "execution_count": 277
        }
      ]
    },
    {
      "cell_type": "code",
      "source": [
        "dfc_t=df.groupby('Contract')['tenure'].value_counts().unstack().reset_index()\n",
        "dfc_t"
      ],
      "metadata": {
        "colab": {
          "base_uri": "https://localhost:8080/",
          "height": 173
        },
        "id": "HqKm8OCeE9Ps",
        "outputId": "e386dbe5-0681-49b9-9424-d0b02c989986"
      },
      "execution_count": null,
      "outputs": [
        {
          "output_type": "execute_result",
          "data": {
            "text/plain": [
              "tenure        Contract    1    2    3    4    5   6    7    8    9  ...  63  \\\n",
              "0       Month-to-month  604  230  191  165  128  95  113  101  105  ...  12   \n",
              "1             One year    7    7    6    7    4   7   14    9   11  ...  21   \n",
              "2             Two year    2    1    3    4    1   8    4   13    3  ...  39   \n",
              "\n",
              "tenure  64  65  66  67  68  69  70   71   72  \n",
              "0       11  16  11   8  10   6   4    5    2  \n",
              "1       29  18  35  34  25  23  27   28   17  \n",
              "2       40  42  43  56  65  66  88  137  343  \n",
              "\n",
              "[3 rows x 73 columns]"
            ],
            "text/html": [
              "\n",
              "  <div id=\"df-05093ead-fe32-44cd-8a15-d12804edb675\">\n",
              "    <div class=\"colab-df-container\">\n",
              "      <div>\n",
              "<style scoped>\n",
              "    .dataframe tbody tr th:only-of-type {\n",
              "        vertical-align: middle;\n",
              "    }\n",
              "\n",
              "    .dataframe tbody tr th {\n",
              "        vertical-align: top;\n",
              "    }\n",
              "\n",
              "    .dataframe thead th {\n",
              "        text-align: right;\n",
              "    }\n",
              "</style>\n",
              "<table border=\"1\" class=\"dataframe\">\n",
              "  <thead>\n",
              "    <tr style=\"text-align: right;\">\n",
              "      <th>tenure</th>\n",
              "      <th>Contract</th>\n",
              "      <th>1</th>\n",
              "      <th>2</th>\n",
              "      <th>3</th>\n",
              "      <th>4</th>\n",
              "      <th>5</th>\n",
              "      <th>6</th>\n",
              "      <th>7</th>\n",
              "      <th>8</th>\n",
              "      <th>9</th>\n",
              "      <th>...</th>\n",
              "      <th>63</th>\n",
              "      <th>64</th>\n",
              "      <th>65</th>\n",
              "      <th>66</th>\n",
              "      <th>67</th>\n",
              "      <th>68</th>\n",
              "      <th>69</th>\n",
              "      <th>70</th>\n",
              "      <th>71</th>\n",
              "      <th>72</th>\n",
              "    </tr>\n",
              "  </thead>\n",
              "  <tbody>\n",
              "    <tr>\n",
              "      <th>0</th>\n",
              "      <td>Month-to-month</td>\n",
              "      <td>604</td>\n",
              "      <td>230</td>\n",
              "      <td>191</td>\n",
              "      <td>165</td>\n",
              "      <td>128</td>\n",
              "      <td>95</td>\n",
              "      <td>113</td>\n",
              "      <td>101</td>\n",
              "      <td>105</td>\n",
              "      <td>...</td>\n",
              "      <td>12</td>\n",
              "      <td>11</td>\n",
              "      <td>16</td>\n",
              "      <td>11</td>\n",
              "      <td>8</td>\n",
              "      <td>10</td>\n",
              "      <td>6</td>\n",
              "      <td>4</td>\n",
              "      <td>5</td>\n",
              "      <td>2</td>\n",
              "    </tr>\n",
              "    <tr>\n",
              "      <th>1</th>\n",
              "      <td>One year</td>\n",
              "      <td>7</td>\n",
              "      <td>7</td>\n",
              "      <td>6</td>\n",
              "      <td>7</td>\n",
              "      <td>4</td>\n",
              "      <td>7</td>\n",
              "      <td>14</td>\n",
              "      <td>9</td>\n",
              "      <td>11</td>\n",
              "      <td>...</td>\n",
              "      <td>21</td>\n",
              "      <td>29</td>\n",
              "      <td>18</td>\n",
              "      <td>35</td>\n",
              "      <td>34</td>\n",
              "      <td>25</td>\n",
              "      <td>23</td>\n",
              "      <td>27</td>\n",
              "      <td>28</td>\n",
              "      <td>17</td>\n",
              "    </tr>\n",
              "    <tr>\n",
              "      <th>2</th>\n",
              "      <td>Two year</td>\n",
              "      <td>2</td>\n",
              "      <td>1</td>\n",
              "      <td>3</td>\n",
              "      <td>4</td>\n",
              "      <td>1</td>\n",
              "      <td>8</td>\n",
              "      <td>4</td>\n",
              "      <td>13</td>\n",
              "      <td>3</td>\n",
              "      <td>...</td>\n",
              "      <td>39</td>\n",
              "      <td>40</td>\n",
              "      <td>42</td>\n",
              "      <td>43</td>\n",
              "      <td>56</td>\n",
              "      <td>65</td>\n",
              "      <td>66</td>\n",
              "      <td>88</td>\n",
              "      <td>137</td>\n",
              "      <td>343</td>\n",
              "    </tr>\n",
              "  </tbody>\n",
              "</table>\n",
              "<p>3 rows × 73 columns</p>\n",
              "</div>\n",
              "      <button class=\"colab-df-convert\" onclick=\"convertToInteractive('df-05093ead-fe32-44cd-8a15-d12804edb675')\"\n",
              "              title=\"Convert this dataframe to an interactive table.\"\n",
              "              style=\"display:none;\">\n",
              "        \n",
              "  <svg xmlns=\"http://www.w3.org/2000/svg\" height=\"24px\"viewBox=\"0 0 24 24\"\n",
              "       width=\"24px\">\n",
              "    <path d=\"M0 0h24v24H0V0z\" fill=\"none\"/>\n",
              "    <path d=\"M18.56 5.44l.94 2.06.94-2.06 2.06-.94-2.06-.94-.94-2.06-.94 2.06-2.06.94zm-11 1L8.5 8.5l.94-2.06 2.06-.94-2.06-.94L8.5 2.5l-.94 2.06-2.06.94zm10 10l.94 2.06.94-2.06 2.06-.94-2.06-.94-.94-2.06-.94 2.06-2.06.94z\"/><path d=\"M17.41 7.96l-1.37-1.37c-.4-.4-.92-.59-1.43-.59-.52 0-1.04.2-1.43.59L10.3 9.45l-7.72 7.72c-.78.78-.78 2.05 0 2.83L4 21.41c.39.39.9.59 1.41.59.51 0 1.02-.2 1.41-.59l7.78-7.78 2.81-2.81c.8-.78.8-2.07 0-2.86zM5.41 20L4 18.59l7.72-7.72 1.47 1.35L5.41 20z\"/>\n",
              "  </svg>\n",
              "      </button>\n",
              "      \n",
              "  <style>\n",
              "    .colab-df-container {\n",
              "      display:flex;\n",
              "      flex-wrap:wrap;\n",
              "      gap: 12px;\n",
              "    }\n",
              "\n",
              "    .colab-df-convert {\n",
              "      background-color: #E8F0FE;\n",
              "      border: none;\n",
              "      border-radius: 50%;\n",
              "      cursor: pointer;\n",
              "      display: none;\n",
              "      fill: #1967D2;\n",
              "      height: 32px;\n",
              "      padding: 0 0 0 0;\n",
              "      width: 32px;\n",
              "    }\n",
              "\n",
              "    .colab-df-convert:hover {\n",
              "      background-color: #E2EBFA;\n",
              "      box-shadow: 0px 1px 2px rgba(60, 64, 67, 0.3), 0px 1px 3px 1px rgba(60, 64, 67, 0.15);\n",
              "      fill: #174EA6;\n",
              "    }\n",
              "\n",
              "    [theme=dark] .colab-df-convert {\n",
              "      background-color: #3B4455;\n",
              "      fill: #D2E3FC;\n",
              "    }\n",
              "\n",
              "    [theme=dark] .colab-df-convert:hover {\n",
              "      background-color: #434B5C;\n",
              "      box-shadow: 0px 1px 3px 1px rgba(0, 0, 0, 0.15);\n",
              "      filter: drop-shadow(0px 1px 2px rgba(0, 0, 0, 0.3));\n",
              "      fill: #FFFFFF;\n",
              "    }\n",
              "  </style>\n",
              "\n",
              "      <script>\n",
              "        const buttonEl =\n",
              "          document.querySelector('#df-05093ead-fe32-44cd-8a15-d12804edb675 button.colab-df-convert');\n",
              "        buttonEl.style.display =\n",
              "          google.colab.kernel.accessAllowed ? 'block' : 'none';\n",
              "\n",
              "        async function convertToInteractive(key) {\n",
              "          const element = document.querySelector('#df-05093ead-fe32-44cd-8a15-d12804edb675');\n",
              "          const dataTable =\n",
              "            await google.colab.kernel.invokeFunction('convertToInteractive',\n",
              "                                                     [key], {});\n",
              "          if (!dataTable) return;\n",
              "\n",
              "          const docLinkHtml = 'Like what you see? Visit the ' +\n",
              "            '<a target=\"_blank\" href=https://colab.research.google.com/notebooks/data_table.ipynb>data table notebook</a>'\n",
              "            + ' to learn more about interactive tables.';\n",
              "          element.innerHTML = '';\n",
              "          dataTable['output_type'] = 'display_data';\n",
              "          await google.colab.output.renderOutput(dataTable, element);\n",
              "          const docLink = document.createElement('div');\n",
              "          docLink.innerHTML = docLinkHtml;\n",
              "          element.appendChild(docLink);\n",
              "        }\n",
              "      </script>\n",
              "    </div>\n",
              "  </div>\n",
              "  "
            ]
          },
          "metadata": {},
          "execution_count": 278
        }
      ]
    },
    {
      "cell_type": "code",
      "source": [
        "#df[['Contract','tenure']]\n",
        "dfctt=df.groupby(['Contract','tenure','Churn'])['tenure'].agg(nombre_customer='count').reset_index()\n",
        "dfctt"
      ],
      "metadata": {
        "colab": {
          "base_uri": "https://localhost:8080/",
          "height": 424
        },
        "id": "xcNHH_D8FvBR",
        "outputId": "5e14da4f-3ff1-4ac5-8c5e-e6f18a835b59"
      },
      "execution_count": null,
      "outputs": [
        {
          "output_type": "execute_result",
          "data": {
            "text/plain": [
              "           Contract  tenure Churn  nombre_customer\n",
              "0    Month-to-month       1    No              114\n",
              "1    Month-to-month       1   Yes              490\n",
              "2    Month-to-month       2    No               50\n",
              "3    Month-to-month       2   Yes              180\n",
              "4    Month-to-month       3    No               52\n",
              "..              ...     ...   ...              ...\n",
              "373        Two year      70   Yes                5\n",
              "374        Two year      71    No              132\n",
              "375        Two year      71   Yes                5\n",
              "376        Two year      72    No              339\n",
              "377        Two year      72   Yes                4\n",
              "\n",
              "[378 rows x 4 columns]"
            ],
            "text/html": [
              "\n",
              "  <div id=\"df-e2c91cc9-9ca8-4eec-bb1a-893893e3a4d5\">\n",
              "    <div class=\"colab-df-container\">\n",
              "      <div>\n",
              "<style scoped>\n",
              "    .dataframe tbody tr th:only-of-type {\n",
              "        vertical-align: middle;\n",
              "    }\n",
              "\n",
              "    .dataframe tbody tr th {\n",
              "        vertical-align: top;\n",
              "    }\n",
              "\n",
              "    .dataframe thead th {\n",
              "        text-align: right;\n",
              "    }\n",
              "</style>\n",
              "<table border=\"1\" class=\"dataframe\">\n",
              "  <thead>\n",
              "    <tr style=\"text-align: right;\">\n",
              "      <th></th>\n",
              "      <th>Contract</th>\n",
              "      <th>tenure</th>\n",
              "      <th>Churn</th>\n",
              "      <th>nombre_customer</th>\n",
              "    </tr>\n",
              "  </thead>\n",
              "  <tbody>\n",
              "    <tr>\n",
              "      <th>0</th>\n",
              "      <td>Month-to-month</td>\n",
              "      <td>1</td>\n",
              "      <td>No</td>\n",
              "      <td>114</td>\n",
              "    </tr>\n",
              "    <tr>\n",
              "      <th>1</th>\n",
              "      <td>Month-to-month</td>\n",
              "      <td>1</td>\n",
              "      <td>Yes</td>\n",
              "      <td>490</td>\n",
              "    </tr>\n",
              "    <tr>\n",
              "      <th>2</th>\n",
              "      <td>Month-to-month</td>\n",
              "      <td>2</td>\n",
              "      <td>No</td>\n",
              "      <td>50</td>\n",
              "    </tr>\n",
              "    <tr>\n",
              "      <th>3</th>\n",
              "      <td>Month-to-month</td>\n",
              "      <td>2</td>\n",
              "      <td>Yes</td>\n",
              "      <td>180</td>\n",
              "    </tr>\n",
              "    <tr>\n",
              "      <th>4</th>\n",
              "      <td>Month-to-month</td>\n",
              "      <td>3</td>\n",
              "      <td>No</td>\n",
              "      <td>52</td>\n",
              "    </tr>\n",
              "    <tr>\n",
              "      <th>...</th>\n",
              "      <td>...</td>\n",
              "      <td>...</td>\n",
              "      <td>...</td>\n",
              "      <td>...</td>\n",
              "    </tr>\n",
              "    <tr>\n",
              "      <th>373</th>\n",
              "      <td>Two year</td>\n",
              "      <td>70</td>\n",
              "      <td>Yes</td>\n",
              "      <td>5</td>\n",
              "    </tr>\n",
              "    <tr>\n",
              "      <th>374</th>\n",
              "      <td>Two year</td>\n",
              "      <td>71</td>\n",
              "      <td>No</td>\n",
              "      <td>132</td>\n",
              "    </tr>\n",
              "    <tr>\n",
              "      <th>375</th>\n",
              "      <td>Two year</td>\n",
              "      <td>71</td>\n",
              "      <td>Yes</td>\n",
              "      <td>5</td>\n",
              "    </tr>\n",
              "    <tr>\n",
              "      <th>376</th>\n",
              "      <td>Two year</td>\n",
              "      <td>72</td>\n",
              "      <td>No</td>\n",
              "      <td>339</td>\n",
              "    </tr>\n",
              "    <tr>\n",
              "      <th>377</th>\n",
              "      <td>Two year</td>\n",
              "      <td>72</td>\n",
              "      <td>Yes</td>\n",
              "      <td>4</td>\n",
              "    </tr>\n",
              "  </tbody>\n",
              "</table>\n",
              "<p>378 rows × 4 columns</p>\n",
              "</div>\n",
              "      <button class=\"colab-df-convert\" onclick=\"convertToInteractive('df-e2c91cc9-9ca8-4eec-bb1a-893893e3a4d5')\"\n",
              "              title=\"Convert this dataframe to an interactive table.\"\n",
              "              style=\"display:none;\">\n",
              "        \n",
              "  <svg xmlns=\"http://www.w3.org/2000/svg\" height=\"24px\"viewBox=\"0 0 24 24\"\n",
              "       width=\"24px\">\n",
              "    <path d=\"M0 0h24v24H0V0z\" fill=\"none\"/>\n",
              "    <path d=\"M18.56 5.44l.94 2.06.94-2.06 2.06-.94-2.06-.94-.94-2.06-.94 2.06-2.06.94zm-11 1L8.5 8.5l.94-2.06 2.06-.94-2.06-.94L8.5 2.5l-.94 2.06-2.06.94zm10 10l.94 2.06.94-2.06 2.06-.94-2.06-.94-.94-2.06-.94 2.06-2.06.94z\"/><path d=\"M17.41 7.96l-1.37-1.37c-.4-.4-.92-.59-1.43-.59-.52 0-1.04.2-1.43.59L10.3 9.45l-7.72 7.72c-.78.78-.78 2.05 0 2.83L4 21.41c.39.39.9.59 1.41.59.51 0 1.02-.2 1.41-.59l7.78-7.78 2.81-2.81c.8-.78.8-2.07 0-2.86zM5.41 20L4 18.59l7.72-7.72 1.47 1.35L5.41 20z\"/>\n",
              "  </svg>\n",
              "      </button>\n",
              "      \n",
              "  <style>\n",
              "    .colab-df-container {\n",
              "      display:flex;\n",
              "      flex-wrap:wrap;\n",
              "      gap: 12px;\n",
              "    }\n",
              "\n",
              "    .colab-df-convert {\n",
              "      background-color: #E8F0FE;\n",
              "      border: none;\n",
              "      border-radius: 50%;\n",
              "      cursor: pointer;\n",
              "      display: none;\n",
              "      fill: #1967D2;\n",
              "      height: 32px;\n",
              "      padding: 0 0 0 0;\n",
              "      width: 32px;\n",
              "    }\n",
              "\n",
              "    .colab-df-convert:hover {\n",
              "      background-color: #E2EBFA;\n",
              "      box-shadow: 0px 1px 2px rgba(60, 64, 67, 0.3), 0px 1px 3px 1px rgba(60, 64, 67, 0.15);\n",
              "      fill: #174EA6;\n",
              "    }\n",
              "\n",
              "    [theme=dark] .colab-df-convert {\n",
              "      background-color: #3B4455;\n",
              "      fill: #D2E3FC;\n",
              "    }\n",
              "\n",
              "    [theme=dark] .colab-df-convert:hover {\n",
              "      background-color: #434B5C;\n",
              "      box-shadow: 0px 1px 3px 1px rgba(0, 0, 0, 0.15);\n",
              "      filter: drop-shadow(0px 1px 2px rgba(0, 0, 0, 0.3));\n",
              "      fill: #FFFFFF;\n",
              "    }\n",
              "  </style>\n",
              "\n",
              "      <script>\n",
              "        const buttonEl =\n",
              "          document.querySelector('#df-e2c91cc9-9ca8-4eec-bb1a-893893e3a4d5 button.colab-df-convert');\n",
              "        buttonEl.style.display =\n",
              "          google.colab.kernel.accessAllowed ? 'block' : 'none';\n",
              "\n",
              "        async function convertToInteractive(key) {\n",
              "          const element = document.querySelector('#df-e2c91cc9-9ca8-4eec-bb1a-893893e3a4d5');\n",
              "          const dataTable =\n",
              "            await google.colab.kernel.invokeFunction('convertToInteractive',\n",
              "                                                     [key], {});\n",
              "          if (!dataTable) return;\n",
              "\n",
              "          const docLinkHtml = 'Like what you see? Visit the ' +\n",
              "            '<a target=\"_blank\" href=https://colab.research.google.com/notebooks/data_table.ipynb>data table notebook</a>'\n",
              "            + ' to learn more about interactive tables.';\n",
              "          element.innerHTML = '';\n",
              "          dataTable['output_type'] = 'display_data';\n",
              "          await google.colab.output.renderOutput(dataTable, element);\n",
              "          const docLink = document.createElement('div');\n",
              "          docLink.innerHTML = docLinkHtml;\n",
              "          element.appendChild(docLink);\n",
              "        }\n",
              "      </script>\n",
              "    </div>\n",
              "  </div>\n",
              "  "
            ]
          },
          "metadata": {},
          "execution_count": 279
        }
      ]
    },
    {
      "cell_type": "code",
      "source": [
        "sns.catplot(kind='bar',data=dfctt, x='tenure', y='nombre_customer',col='Contract', sharex=False,hue='Churn')"
      ],
      "metadata": {
        "colab": {
          "base_uri": "https://localhost:8080/",
          "height": 387
        },
        "id": "WjO2Kex_FcwU",
        "outputId": "9aca3dec-1ead-4710-9ceb-710499283172"
      },
      "execution_count": null,
      "outputs": [
        {
          "output_type": "execute_result",
          "data": {
            "text/plain": [
              "<seaborn.axisgrid.FacetGrid at 0x7f9c324f2310>"
            ]
          },
          "metadata": {},
          "execution_count": 280
        },
        {
          "output_type": "display_data",
          "data": {
            "text/plain": [
              "<Figure size 1132x360 with 3 Axes>"
            ],
            "image/png": "[encoded data removed]"
          },
          "metadata": {
            "needs_background": "light"
          }
        }
      ]
    },
    {
      "cell_type": "code",
      "source": [
        "df[['MonthlyCharges','TotalCharges']].corr()"
      ],
      "metadata": {
        "colab": {
          "base_uri": "https://localhost:8080/",
          "height": 112
        },
        "id": "WEVTYrH9RdLA",
        "outputId": "19785d30-0be8-4937-f50c-8cd170eabe6b"
      },
      "execution_count": null,
      "outputs": [
        {
          "output_type": "execute_result",
          "data": {
            "text/plain": [
              "                MonthlyCharges  TotalCharges\n",
              "MonthlyCharges        1.000000      0.651065\n",
              "TotalCharges          0.651065      1.000000"
            ],
            "text/html": [
              "\n",
              "  <div id=\"df-579f95b1-56af-4103-af8c-e5d8d2829ac9\">\n",
              "    <div class=\"colab-df-container\">\n",
              "      <div>\n",
              "<style scoped>\n",
              "    .dataframe tbody tr th:only-of-type {\n",
              "        vertical-align: middle;\n",
              "    }\n",
              "\n",
              "    .dataframe tbody tr th {\n",
              "        vertical-align: top;\n",
              "    }\n",
              "\n",
              "    .dataframe thead th {\n",
              "        text-align: right;\n",
              "    }\n",
              "</style>\n",
              "<table border=\"1\" class=\"dataframe\">\n",
              "  <thead>\n",
              "    <tr style=\"text-align: right;\">\n",
              "      <th></th>\n",
              "      <th>MonthlyCharges</th>\n",
              "      <th>TotalCharges</th>\n",
              "    </tr>\n",
              "  </thead>\n",
              "  <tbody>\n",
              "    <tr>\n",
              "      <th>MonthlyCharges</th>\n",
              "      <td>1.000000</td>\n",
              "      <td>0.651065</td>\n",
              "    </tr>\n",
              "    <tr>\n",
              "      <th>TotalCharges</th>\n",
              "      <td>0.651065</td>\n",
              "      <td>1.000000</td>\n",
              "    </tr>\n",
              "  </tbody>\n",
              "</table>\n",
              "</div>\n",
              "      <button class=\"colab-df-convert\" onclick=\"convertToInteractive('df-579f95b1-56af-4103-af8c-e5d8d2829ac9')\"\n",
              "              title=\"Convert this dataframe to an interactive table.\"\n",
              "              style=\"display:none;\">\n",
              "        \n",
              "  <svg xmlns=\"http://www.w3.org/2000/svg\" height=\"24px\"viewBox=\"0 0 24 24\"\n",
              "       width=\"24px\">\n",
              "    <path d=\"M0 0h24v24H0V0z\" fill=\"none\"/>\n",
              "    <path d=\"M18.56 5.44l.94 2.06.94-2.06 2.06-.94-2.06-.94-.94-2.06-.94 2.06-2.06.94zm-11 1L8.5 8.5l.94-2.06 2.06-.94-2.06-.94L8.5 2.5l-.94 2.06-2.06.94zm10 10l.94 2.06.94-2.06 2.06-.94-2.06-.94-.94-2.06-.94 2.06-2.06.94z\"/><path d=\"M17.41 7.96l-1.37-1.37c-.4-.4-.92-.59-1.43-.59-.52 0-1.04.2-1.43.59L10.3 9.45l-7.72 7.72c-.78.78-.78 2.05 0 2.83L4 21.41c.39.39.9.59 1.41.59.51 0 1.02-.2 1.41-.59l7.78-7.78 2.81-2.81c.8-.78.8-2.07 0-2.86zM5.41 20L4 18.59l7.72-7.72 1.47 1.35L5.41 20z\"/>\n",
              "  </svg>\n",
              "      </button>\n",
              "      \n",
              "  <style>\n",
              "    .colab-df-container {\n",
              "      display:flex;\n",
              "      flex-wrap:wrap;\n",
              "      gap: 12px;\n",
              "    }\n",
              "\n",
              "    .colab-df-convert {\n",
              "      background-color: #E8F0FE;\n",
              "      border: none;\n",
              "      border-radius: 50%;\n",
              "      cursor: pointer;\n",
              "      display: none;\n",
              "      fill: #1967D2;\n",
              "      height: 32px;\n",
              "      padding: 0 0 0 0;\n",
              "      width: 32px;\n",
              "    }\n",
              "\n",
              "    .colab-df-convert:hover {\n",
              "      background-color: #E2EBFA;\n",
              "      box-shadow: 0px 1px 2px rgba(60, 64, 67, 0.3), 0px 1px 3px 1px rgba(60, 64, 67, 0.15);\n",
              "      fill: #174EA6;\n",
              "    }\n",
              "\n",
              "    [theme=dark] .colab-df-convert {\n",
              "      background-color: #3B4455;\n",
              "      fill: #D2E3FC;\n",
              "    }\n",
              "\n",
              "    [theme=dark] .colab-df-convert:hover {\n",
              "      background-color: #434B5C;\n",
              "      box-shadow: 0px 1px 3px 1px rgba(0, 0, 0, 0.15);\n",
              "      filter: drop-shadow(0px 1px 2px rgba(0, 0, 0, 0.3));\n",
              "      fill: #FFFFFF;\n",
              "    }\n",
              "  </style>\n",
              "\n",
              "      <script>\n",
              "        const buttonEl =\n",
              "          document.querySelector('#df-579f95b1-56af-4103-af8c-e5d8d2829ac9 button.colab-df-convert');\n",
              "        buttonEl.style.display =\n",
              "          google.colab.kernel.accessAllowed ? 'block' : 'none';\n",
              "\n",
              "        async function convertToInteractive(key) {\n",
              "          const element = document.querySelector('#df-579f95b1-56af-4103-af8c-e5d8d2829ac9');\n",
              "          const dataTable =\n",
              "            await google.colab.kernel.invokeFunction('convertToInteractive',\n",
              "                                                     [key], {});\n",
              "          if (!dataTable) return;\n",
              "\n",
              "          const docLinkHtml = 'Like what you see? Visit the ' +\n",
              "            '<a target=\"_blank\" href=https://colab.research.google.com/notebooks/data_table.ipynb>data table notebook</a>'\n",
              "            + ' to learn more about interactive tables.';\n",
              "          element.innerHTML = '';\n",
              "          dataTable['output_type'] = 'display_data';\n",
              "          await google.colab.output.renderOutput(dataTable, element);\n",
              "          const docLink = document.createElement('div');\n",
              "          docLink.innerHTML = docLinkHtml;\n",
              "          element.appendChild(docLink);\n",
              "        }\n",
              "      </script>\n",
              "    </div>\n",
              "  </div>\n",
              "  "
            ]
          },
          "metadata": {},
          "execution_count": 281
        }
      ]
    },
    {
      "cell_type": "code",
      "source": [
        "df[['MonthlyCharges','TotalCharges']].plot.scatter(x='MonthlyCharges', y='TotalCharges')"
      ],
      "metadata": {
        "colab": {
          "base_uri": "https://localhost:8080/",
          "height": 297
        },
        "id": "ksFSOezmMmlf",
        "outputId": "53b88f27-338b-4bbf-bfe5-2230ab833a89"
      },
      "execution_count": null,
      "outputs": [
        {
          "output_type": "execute_result",
          "data": {
            "text/plain": [
              "<matplotlib.axes._subplots.AxesSubplot at 0x7f9c323f1760>"
            ]
          },
          "metadata": {},
          "execution_count": 282
        },
        {
          "output_type": "display_data",
          "data": {
            "text/plain": [
              "<Figure size 432x288 with 1 Axes>"
            ],
            "image/png": "[encoded data removed]"
          },
          "metadata": {
            "needs_background": "light"
          }
        }
      ]
    },
    {
      "cell_type": "code",
      "source": [
        "df2=df.iloc[:,1:]\n",
        "df2.head()"
      ],
      "metadata": {
        "colab": {
          "base_uri": "https://localhost:8080/",
          "height": 340
        },
        "id": "1OrT1sltyh20",
        "outputId": "087d0cca-42d5-4c97-9266-331a720a6f19"
      },
      "execution_count": null,
      "outputs": [
        {
          "output_type": "execute_result",
          "data": {
            "text/plain": [
              "   gender  SeniorCitizen Partner Dependents  tenure PhoneService  \\\n",
              "0  Female              0     Yes         No       1           No   \n",
              "1    Male              0      No         No      34          Yes   \n",
              "2    Male              0      No         No       2          Yes   \n",
              "3    Male              0      No         No      45           No   \n",
              "4  Female              0      No         No       2          Yes   \n",
              "\n",
              "      MultipleLines InternetService OnlineSecurity OnlineBackup  \\\n",
              "0  No phone service     Fiber optic             No          Yes   \n",
              "1                No     Fiber optic            Yes           No   \n",
              "2                No             DSL            Yes          Yes   \n",
              "3  No phone service     Fiber optic            Yes           No   \n",
              "4                No             DSL             No           No   \n",
              "\n",
              "  DeviceProtection TechSupport StreamingTV StreamingMovies        Contract  \\\n",
              "0               No          No          No              No  Month-to-month   \n",
              "1              Yes          No          No              No        One year   \n",
              "2               No          No          No              No  Month-to-month   \n",
              "3              Yes         Yes          No              No        One year   \n",
              "4               No          No          No              No  Month-to-month   \n",
              "\n",
              "  PaperlessBilling              PaymentMethod  MonthlyCharges  TotalCharges  \\\n",
              "0              Yes           Electronic check           29.85         29.85   \n",
              "1               No               Mailed check           56.95       1889.50   \n",
              "2              Yes               Mailed check           53.85        108.15   \n",
              "3               No  Bank transfer (automatic)           42.30       1840.75   \n",
              "4              Yes           Electronic check           70.70        151.65   \n",
              "\n",
              "  Churn  \n",
              "0   Yes  \n",
              "1    No  \n",
              "2   Yes  \n",
              "3    No  \n",
              "4   Yes  "
            ],
            "text/html": [
              "\n",
              "  <div id=\"df-358e4e7c-83ad-4e83-b215-933f48d477b9\">\n",
              "    <div class=\"colab-df-container\">\n",
              "      <div>\n",
              "<style scoped>\n",
              "    .dataframe tbody tr th:only-of-type {\n",
              "        vertical-align: middle;\n",
              "    }\n",
              "\n",
              "    .dataframe tbody tr th {\n",
              "        vertical-align: top;\n",
              "    }\n",
              "\n",
              "    .dataframe thead th {\n",
              "        text-align: right;\n",
              "    }\n",
              "</style>\n",
              "<table border=\"1\" class=\"dataframe\">\n",
              "  <thead>\n",
              "    <tr style=\"text-align: right;\">\n",
              "      <th></th>\n",
              "      <th>gender</th>\n",
              "      <th>SeniorCitizen</th>\n",
              "      <th>Partner</th>\n",
              "      <th>Dependents</th>\n",
              "      <th>tenure</th>\n",
              "      <th>PhoneService</th>\n",
              "      <th>MultipleLines</th>\n",
              "      <th>InternetService</th>\n",
              "      <th>OnlineSecurity</th>\n",
              "      <th>OnlineBackup</th>\n",
              "      <th>DeviceProtection</th>\n",
              "      <th>TechSupport</th>\n",
              "      <th>StreamingTV</th>\n",
              "      <th>StreamingMovies</th>\n",
              "      <th>Contract</th>\n",
              "      <th>PaperlessBilling</th>\n",
              "      <th>PaymentMethod</th>\n",
              "      <th>MonthlyCharges</th>\n",
              "      <th>TotalCharges</th>\n",
              "      <th>Churn</th>\n",
              "    </tr>\n",
              "  </thead>\n",
              "  <tbody>\n",
              "    <tr>\n",
              "      <th>0</th>\n",
              "      <td>Female</td>\n",
              "      <td>0</td>\n",
              "      <td>Yes</td>\n",
              "      <td>No</td>\n",
              "      <td>1</td>\n",
              "      <td>No</td>\n",
              "      <td>No phone service</td>\n",
              "      <td>Fiber optic</td>\n",
              "      <td>No</td>\n",
              "      <td>Yes</td>\n",
              "      <td>No</td>\n",
              "      <td>No</td>\n",
              "      <td>No</td>\n",
              "      <td>No</td>\n",
              "      <td>Month-to-month</td>\n",
              "      <td>Yes</td>\n",
              "      <td>Electronic check</td>\n",
              "      <td>29.85</td>\n",
              "      <td>29.85</td>\n",
              "      <td>Yes</td>\n",
              "    </tr>\n",
              "    <tr>\n",
              "      <th>1</th>\n",
              "      <td>Male</td>\n",
              "      <td>0</td>\n",
              "      <td>No</td>\n",
              "      <td>No</td>\n",
              "      <td>34</td>\n",
              "      <td>Yes</td>\n",
              "      <td>No</td>\n",
              "      <td>Fiber optic</td>\n",
              "      <td>Yes</td>\n",
              "      <td>No</td>\n",
              "      <td>Yes</td>\n",
              "      <td>No</td>\n",
              "      <td>No</td>\n",
              "      <td>No</td>\n",
              "      <td>One year</td>\n",
              "      <td>No</td>\n",
              "      <td>Mailed check</td>\n",
              "      <td>56.95</td>\n",
              "      <td>1889.50</td>\n",
              "      <td>No</td>\n",
              "    </tr>\n",
              "    <tr>\n",
              "      <th>2</th>\n",
              "      <td>Male</td>\n",
              "      <td>0</td>\n",
              "      <td>No</td>\n",
              "      <td>No</td>\n",
              "      <td>2</td>\n",
              "      <td>Yes</td>\n",
              "      <td>No</td>\n",
              "      <td>DSL</td>\n",
              "      <td>Yes</td>\n",
              "      <td>Yes</td>\n",
              "      <td>No</td>\n",
              "      <td>No</td>\n",
              "      <td>No</td>\n",
              "      <td>No</td>\n",
              "      <td>Month-to-month</td>\n",
              "      <td>Yes</td>\n",
              "      <td>Mailed check</td>\n",
              "      <td>53.85</td>\n",
              "      <td>108.15</td>\n",
              "      <td>Yes</td>\n",
              "    </tr>\n",
              "    <tr>\n",
              "      <th>3</th>\n",
              "      <td>Male</td>\n",
              "      <td>0</td>\n",
              "      <td>No</td>\n",
              "      <td>No</td>\n",
              "      <td>45</td>\n",
              "      <td>No</td>\n",
              "      <td>No phone service</td>\n",
              "      <td>Fiber optic</td>\n",
              "      <td>Yes</td>\n",
              "      <td>No</td>\n",
              "      <td>Yes</td>\n",
              "      <td>Yes</td>\n",
              "      <td>No</td>\n",
              "      <td>No</td>\n",
              "      <td>One year</td>\n",
              "      <td>No</td>\n",
              "      <td>Bank transfer (automatic)</td>\n",
              "      <td>42.30</td>\n",
              "      <td>1840.75</td>\n",
              "      <td>No</td>\n",
              "    </tr>\n",
              "    <tr>\n",
              "      <th>4</th>\n",
              "      <td>Female</td>\n",
              "      <td>0</td>\n",
              "      <td>No</td>\n",
              "      <td>No</td>\n",
              "      <td>2</td>\n",
              "      <td>Yes</td>\n",
              "      <td>No</td>\n",
              "      <td>DSL</td>\n",
              "      <td>No</td>\n",
              "      <td>No</td>\n",
              "      <td>No</td>\n",
              "      <td>No</td>\n",
              "      <td>No</td>\n",
              "      <td>No</td>\n",
              "      <td>Month-to-month</td>\n",
              "      <td>Yes</td>\n",
              "      <td>Electronic check</td>\n",
              "      <td>70.70</td>\n",
              "      <td>151.65</td>\n",
              "      <td>Yes</td>\n",
              "    </tr>\n",
              "  </tbody>\n",
              "</table>\n",
              "</div>\n",
              "      <button class=\"colab-df-convert\" onclick=\"convertToInteractive('df-358e4e7c-83ad-4e83-b215-933f48d477b9')\"\n",
              "              title=\"Convert this dataframe to an interactive table.\"\n",
              "              style=\"display:none;\">\n",
              "        \n",
              "  <svg xmlns=\"http://www.w3.org/2000/svg\" height=\"24px\"viewBox=\"0 0 24 24\"\n",
              "       width=\"24px\">\n",
              "    <path d=\"M0 0h24v24H0V0z\" fill=\"none\"/>\n",
              "    <path d=\"M18.56 5.44l.94 2.06.94-2.06 2.06-.94-2.06-.94-.94-2.06-.94 2.06-2.06.94zm-11 1L8.5 8.5l.94-2.06 2.06-.94-2.06-.94L8.5 2.5l-.94 2.06-2.06.94zm10 10l.94 2.06.94-2.06 2.06-.94-2.06-.94-.94-2.06-.94 2.06-2.06.94z\"/><path d=\"M17.41 7.96l-1.37-1.37c-.4-.4-.92-.59-1.43-.59-.52 0-1.04.2-1.43.59L10.3 9.45l-7.72 7.72c-.78.78-.78 2.05 0 2.83L4 21.41c.39.39.9.59 1.41.59.51 0 1.02-.2 1.41-.59l7.78-7.78 2.81-2.81c.8-.78.8-2.07 0-2.86zM5.41 20L4 18.59l7.72-7.72 1.47 1.35L5.41 20z\"/>\n",
              "  </svg>\n",
              "      </button>\n",
              "      \n",
              "  <style>\n",
              "    .colab-df-container {\n",
              "      display:flex;\n",
              "      flex-wrap:wrap;\n",
              "      gap: 12px;\n",
              "    }\n",
              "\n",
              "    .colab-df-convert {\n",
              "      background-color: #E8F0FE;\n",
              "      border: none;\n",
              "      border-radius: 50%;\n",
              "      cursor: pointer;\n",
              "      display: none;\n",
              "      fill: #1967D2;\n",
              "      height: 32px;\n",
              "      padding: 0 0 0 0;\n",
              "      width: 32px;\n",
              "    }\n",
              "\n",
              "    .colab-df-convert:hover {\n",
              "      background-color: #E2EBFA;\n",
              "      box-shadow: 0px 1px 2px rgba(60, 64, 67, 0.3), 0px 1px 3px 1px rgba(60, 64, 67, 0.15);\n",
              "      fill: #174EA6;\n",
              "    }\n",
              "\n",
              "    [theme=dark] .colab-df-convert {\n",
              "      background-color: #3B4455;\n",
              "      fill: #D2E3FC;\n",
              "    }\n",
              "\n",
              "    [theme=dark] .colab-df-convert:hover {\n",
              "      background-color: #434B5C;\n",
              "      box-shadow: 0px 1px 3px 1px rgba(0, 0, 0, 0.15);\n",
              "      filter: drop-shadow(0px 1px 2px rgba(0, 0, 0, 0.3));\n",
              "      fill: #FFFFFF;\n",
              "    }\n",
              "  </style>\n",
              "\n",
              "      <script>\n",
              "        const buttonEl =\n",
              "          document.querySelector('#df-358e4e7c-83ad-4e83-b215-933f48d477b9 button.colab-df-convert');\n",
              "        buttonEl.style.display =\n",
              "          google.colab.kernel.accessAllowed ? 'block' : 'none';\n",
              "\n",
              "        async function convertToInteractive(key) {\n",
              "          const element = document.querySelector('#df-358e4e7c-83ad-4e83-b215-933f48d477b9');\n",
              "          const dataTable =\n",
              "            await google.colab.kernel.invokeFunction('convertToInteractive',\n",
              "                                                     [key], {});\n",
              "          if (!dataTable) return;\n",
              "\n",
              "          const docLinkHtml = 'Like what you see? Visit the ' +\n",
              "            '<a target=\"_blank\" href=https://colab.research.google.com/notebooks/data_table.ipynb>data table notebook</a>'\n",
              "            + ' to learn more about interactive tables.';\n",
              "          element.innerHTML = '';\n",
              "          dataTable['output_type'] = 'display_data';\n",
              "          await google.colab.output.renderOutput(dataTable, element);\n",
              "          const docLink = document.createElement('div');\n",
              "          docLink.innerHTML = docLinkHtml;\n",
              "          element.appendChild(docLink);\n",
              "        }\n",
              "      </script>\n",
              "    </div>\n",
              "  </div>\n",
              "  "
            ]
          },
          "metadata": {},
          "execution_count": 283
        }
      ]
    },
    {
      "cell_type": "code",
      "source": [
        "\n",
        "#https://stackoverflow.com/questions/40901770/is-there-a-simple-way-to-change-a-column-of-yes-no-to-1-0-in-a-pandas-dataframe\n",
        "df2['Churn']= df2['Churn'].apply(lambda x: 0 if x=='No' else 1)\n",
        "df2.info()"
      ],
      "metadata": {
        "colab": {
          "base_uri": "https://localhost:8080/"
        },
        "id": "pvVEXAo5yu4E",
        "outputId": "13fa6adf-dc8d-43db-af3a-f56e92435da7"
      },
      "execution_count": null,
      "outputs": [
        {
          "output_type": "stream",
          "name": "stdout",
          "text": [
            "<class 'pandas.core.frame.DataFrame'>\n",
            "Int64Index: 7032 entries, 0 to 7042\n",
            "Data columns (total 20 columns):\n",
            " #   Column            Non-Null Count  Dtype  \n",
            "---  ------            --------------  -----  \n",
            " 0   gender            7032 non-null   object \n",
            " 1   SeniorCitizen     7032 non-null   int64  \n",
            " 2   Partner           7032 non-null   object \n",
            " 3   Dependents        7032 non-null   object \n",
            " 4   tenure            7032 non-null   int64  \n",
            " 5   PhoneService      7032 non-null   object \n",
            " 6   MultipleLines     7032 non-null   object \n",
            " 7   InternetService   7032 non-null   object \n",
            " 8   OnlineSecurity    7032 non-null   object \n",
            " 9   OnlineBackup      7032 non-null   object \n",
            " 10  DeviceProtection  7032 non-null   object \n",
            " 11  TechSupport       7032 non-null   object \n",
            " 12  StreamingTV       7032 non-null   object \n",
            " 13  StreamingMovies   7032 non-null   object \n",
            " 14  Contract          7032 non-null   object \n",
            " 15  PaperlessBilling  7032 non-null   object \n",
            " 16  PaymentMethod     7032 non-null   object \n",
            " 17  MonthlyCharges    7032 non-null   float64\n",
            " 18  TotalCharges      7032 non-null   float64\n",
            " 19  Churn             7032 non-null   int64  \n",
            "dtypes: float64(2), int64(3), object(15)\n",
            "memory usage: 1.4+ MB\n"
          ]
        }
      ]
    },
    {
      "cell_type": "code",
      "source": [
        "# https://www.geeksforgeeks.org/convert-a-categorical-variable-into-dummy-variables/\n",
        "#returns the dummies for all\n",
        "# categorical columns\n",
        "df2 = pd.get_dummies(df2)\n",
        "df2"
      ],
      "metadata": {
        "colab": {
          "base_uri": "https://localhost:8080/",
          "height": 523
        },
        "id": "idCr1-FH10rW",
        "outputId": "d11eced5-219b-45ab-ab4e-16a1ec9a64a2"
      },
      "execution_count": null,
      "outputs": [
        {
          "output_type": "execute_result",
          "data": {
            "text/plain": [
              "      SeniorCitizen  tenure  MonthlyCharges  TotalCharges  Churn  \\\n",
              "0                 0       1           29.85         29.85      1   \n",
              "1                 0      34           56.95       1889.50      0   \n",
              "2                 0       2           53.85        108.15      1   \n",
              "3                 0      45           42.30       1840.75      0   \n",
              "4                 0       2           70.70        151.65      1   \n",
              "...             ...     ...             ...           ...    ...   \n",
              "7038              0      24           84.80       1990.50      0   \n",
              "7039              0      72          103.20       7362.90      0   \n",
              "7040              0      11           29.60        346.45      0   \n",
              "7041              1       4           74.40        306.60      1   \n",
              "7042              0      66          105.65       6844.50      0   \n",
              "\n",
              "      gender_Female  gender_Male  Partner_No  Partner_Yes  Dependents_No  ...  \\\n",
              "0                 1            0           0            1              1  ...   \n",
              "1                 0            1           1            0              1  ...   \n",
              "2                 0            1           1            0              1  ...   \n",
              "3                 0            1           1            0              1  ...   \n",
              "4                 1            0           1            0              1  ...   \n",
              "...             ...          ...         ...          ...            ...  ...   \n",
              "7038              0            1           0            1              0  ...   \n",
              "7039              1            0           0            1              0  ...   \n",
              "7040              1            0           0            1              0  ...   \n",
              "7041              0            1           0            1              1  ...   \n",
              "7042              0            1           1            0              1  ...   \n",
              "\n",
              "      StreamingMovies_Yes  Contract_Month-to-month  Contract_One year  \\\n",
              "0                       0                        1                  0   \n",
              "1                       0                        0                  1   \n",
              "2                       0                        1                  0   \n",
              "3                       0                        0                  1   \n",
              "4                       0                        1                  0   \n",
              "...                   ...                      ...                ...   \n",
              "7038                    1                        0                  1   \n",
              "7039                    1                        0                  1   \n",
              "7040                    0                        1                  0   \n",
              "7041                    0                        1                  0   \n",
              "7042                    1                        0                  0   \n",
              "\n",
              "      Contract_Two year  PaperlessBilling_No  PaperlessBilling_Yes  \\\n",
              "0                     0                    0                     1   \n",
              "1                     0                    1                     0   \n",
              "2                     0                    0                     1   \n",
              "3                     0                    1                     0   \n",
              "4                     0                    0                     1   \n",
              "...                 ...                  ...                   ...   \n",
              "7038                  0                    0                     1   \n",
              "7039                  0                    0                     1   \n",
              "7040                  0                    0                     1   \n",
              "7041                  0                    0                     1   \n",
              "7042                  1                    0                     1   \n",
              "\n",
              "      PaymentMethod_Bank transfer (automatic)  \\\n",
              "0                                           0   \n",
              "1                                           0   \n",
              "2                                           0   \n",
              "3                                           1   \n",
              "4                                           0   \n",
              "...                                       ...   \n",
              "7038                                        0   \n",
              "7039                                        0   \n",
              "7040                                        0   \n",
              "7041                                        0   \n",
              "7042                                        1   \n",
              "\n",
              "      PaymentMethod_Credit card (automatic)  PaymentMethod_Electronic check  \\\n",
              "0                                         0                               1   \n",
              "1                                         0                               0   \n",
              "2                                         0                               0   \n",
              "3                                         0                               0   \n",
              "4                                         0                               1   \n",
              "...                                     ...                             ...   \n",
              "7038                                      0                               0   \n",
              "7039                                      1                               0   \n",
              "7040                                      0                               1   \n",
              "7041                                      0                               0   \n",
              "7042                                      0                               0   \n",
              "\n",
              "      PaymentMethod_Mailed check  \n",
              "0                              0  \n",
              "1                              1  \n",
              "2                              1  \n",
              "3                              0  \n",
              "4                              0  \n",
              "...                          ...  \n",
              "7038                           1  \n",
              "7039                           0  \n",
              "7040                           0  \n",
              "7041                           1  \n",
              "7042                           0  \n",
              "\n",
              "[7032 rows x 46 columns]"
            ],
            "text/html": [
              "\n",
              "  <div id=\"df-db8ace2a-0796-4e9b-9b06-f9a038a445de\">\n",
              "    <div class=\"colab-df-container\">\n",
              "      <div>\n",
              "<style scoped>\n",
              "    .dataframe tbody tr th:only-of-type {\n",
              "        vertical-align: middle;\n",
              "    }\n",
              "\n",
              "    .dataframe tbody tr th {\n",
              "        vertical-align: top;\n",
              "    }\n",
              "\n",
              "    .dataframe thead th {\n",
              "        text-align: right;\n",
              "    }\n",
              "</style>\n",
              "<table border=\"1\" class=\"dataframe\">\n",
              "  <thead>\n",
              "    <tr style=\"text-align: right;\">\n",
              "      <th></th>\n",
              "      <th>SeniorCitizen</th>\n",
              "      <th>tenure</th>\n",
              "      <th>MonthlyCharges</th>\n",
              "      <th>TotalCharges</th>\n",
              "      <th>Churn</th>\n",
              "      <th>gender_Female</th>\n",
              "      <th>gender_Male</th>\n",
              "      <th>Partner_No</th>\n",
              "      <th>Partner_Yes</th>\n",
              "      <th>Dependents_No</th>\n",
              "      <th>...</th>\n",
              "      <th>StreamingMovies_Yes</th>\n",
              "      <th>Contract_Month-to-month</th>\n",
              "      <th>Contract_One year</th>\n",
              "      <th>Contract_Two year</th>\n",
              "      <th>PaperlessBilling_No</th>\n",
              "      <th>PaperlessBilling_Yes</th>\n",
              "      <th>PaymentMethod_Bank transfer (automatic)</th>\n",
              "      <th>PaymentMethod_Credit card (automatic)</th>\n",
              "      <th>PaymentMethod_Electronic check</th>\n",
              "      <th>PaymentMethod_Mailed check</th>\n",
              "    </tr>\n",
              "  </thead>\n",
              "  <tbody>\n",
              "    <tr>\n",
              "      <th>0</th>\n",
              "      <td>0</td>\n",
              "      <td>1</td>\n",
              "      <td>29.85</td>\n",
              "      <td>29.85</td>\n",
              "      <td>1</td>\n",
              "      <td>1</td>\n",
              "      <td>0</td>\n",
              "      <td>0</td>\n",
              "      <td>1</td>\n",
              "      <td>1</td>\n",
              "      <td>...</td>\n",
              "      <td>0</td>\n",
              "      <td>1</td>\n",
              "      <td>0</td>\n",
              "      <td>0</td>\n",
              "      <td>0</td>\n",
              "      <td>1</td>\n",
              "      <td>0</td>\n",
              "      <td>0</td>\n",
              "      <td>1</td>\n",
              "      <td>0</td>\n",
              "    </tr>\n",
              "    <tr>\n",
              "      <th>1</th>\n",
              "      <td>0</td>\n",
              "      <td>34</td>\n",
              "      <td>56.95</td>\n",
              "      <td>1889.50</td>\n",
              "      <td>0</td>\n",
              "      <td>0</td>\n",
              "      <td>1</td>\n",
              "      <td>1</td>\n",
              "      <td>0</td>\n",
              "      <td>1</td>\n",
              "      <td>...</td>\n",
              "      <td>0</td>\n",
              "      <td>0</td>\n",
              "      <td>1</td>\n",
              "      <td>0</td>\n",
              "      <td>1</td>\n",
              "      <td>0</td>\n",
              "      <td>0</td>\n",
              "      <td>0</td>\n",
              "      <td>0</td>\n",
              "      <td>1</td>\n",
              "    </tr>\n",
              "    <tr>\n",
              "      <th>2</th>\n",
              "      <td>0</td>\n",
              "      <td>2</td>\n",
              "      <td>53.85</td>\n",
              "      <td>108.15</td>\n",
              "      <td>1</td>\n",
              "      <td>0</td>\n",
              "      <td>1</td>\n",
              "      <td>1</td>\n",
              "      <td>0</td>\n",
              "      <td>1</td>\n",
              "      <td>...</td>\n",
              "      <td>0</td>\n",
              "      <td>1</td>\n",
              "      <td>0</td>\n",
              "      <td>0</td>\n",
              "      <td>0</td>\n",
              "      <td>1</td>\n",
              "      <td>0</td>\n",
              "      <td>0</td>\n",
              "      <td>0</td>\n",
              "      <td>1</td>\n",
              "    </tr>\n",
              "    <tr>\n",
              "      <th>3</th>\n",
              "      <td>0</td>\n",
              "      <td>45</td>\n",
              "      <td>42.30</td>\n",
              "      <td>1840.75</td>\n",
              "      <td>0</td>\n",
              "      <td>0</td>\n",
              "      <td>1</td>\n",
              "      <td>1</td>\n",
              "      <td>0</td>\n",
              "      <td>1</td>\n",
              "      <td>...</td>\n",
              "      <td>0</td>\n",
              "      <td>0</td>\n",
              "      <td>1</td>\n",
              "      <td>0</td>\n",
              "      <td>1</td>\n",
              "      <td>0</td>\n",
              "      <td>1</td>\n",
              "      <td>0</td>\n",
              "      <td>0</td>\n",
              "      <td>0</td>\n",
              "    </tr>\n",
              "    <tr>\n",
              "      <th>4</th>\n",
              "      <td>0</td>\n",
              "      <td>2</td>\n",
              "      <td>70.70</td>\n",
              "      <td>151.65</td>\n",
              "      <td>1</td>\n",
              "      <td>1</td>\n",
              "      <td>0</td>\n",
              "      <td>1</td>\n",
              "      <td>0</td>\n",
              "      <td>1</td>\n",
              "      <td>...</td>\n",
              "      <td>0</td>\n",
              "      <td>1</td>\n",
              "      <td>0</td>\n",
              "      <td>0</td>\n",
              "      <td>0</td>\n",
              "      <td>1</td>\n",
              "      <td>0</td>\n",
              "      <td>0</td>\n",
              "      <td>1</td>\n",
              "      <td>0</td>\n",
              "    </tr>\n",
              "    <tr>\n",
              "      <th>...</th>\n",
              "      <td>...</td>\n",
              "      <td>...</td>\n",
              "      <td>...</td>\n",
              "      <td>...</td>\n",
              "      <td>...</td>\n",
              "      <td>...</td>\n",
              "      <td>...</td>\n",
              "      <td>...</td>\n",
              "      <td>...</td>\n",
              "      <td>...</td>\n",
              "      <td>...</td>\n",
              "      <td>...</td>\n",
              "      <td>...</td>\n",
              "      <td>...</td>\n",
              "      <td>...</td>\n",
              "      <td>...</td>\n",
              "      <td>...</td>\n",
              "      <td>...</td>\n",
              "      <td>...</td>\n",
              "      <td>...</td>\n",
              "      <td>...</td>\n",
              "    </tr>\n",
              "    <tr>\n",
              "      <th>7038</th>\n",
              "      <td>0</td>\n",
              "      <td>24</td>\n",
              "      <td>84.80</td>\n",
              "      <td>1990.50</td>\n",
              "      <td>0</td>\n",
              "      <td>0</td>\n",
              "      <td>1</td>\n",
              "      <td>0</td>\n",
              "      <td>1</td>\n",
              "      <td>0</td>\n",
              "      <td>...</td>\n",
              "      <td>1</td>\n",
              "      <td>0</td>\n",
              "      <td>1</td>\n",
              "      <td>0</td>\n",
              "      <td>0</td>\n",
              "      <td>1</td>\n",
              "      <td>0</td>\n",
              "      <td>0</td>\n",
              "      <td>0</td>\n",
              "      <td>1</td>\n",
              "    </tr>\n",
              "    <tr>\n",
              "      <th>7039</th>\n",
              "      <td>0</td>\n",
              "      <td>72</td>\n",
              "      <td>103.20</td>\n",
              "      <td>7362.90</td>\n",
              "      <td>0</td>\n",
              "      <td>1</td>\n",
              "      <td>0</td>\n",
              "      <td>0</td>\n",
              "      <td>1</td>\n",
              "      <td>0</td>\n",
              "      <td>...</td>\n",
              "      <td>1</td>\n",
              "      <td>0</td>\n",
              "      <td>1</td>\n",
              "      <td>0</td>\n",
              "      <td>0</td>\n",
              "      <td>1</td>\n",
              "      <td>0</td>\n",
              "      <td>1</td>\n",
              "      <td>0</td>\n",
              "      <td>0</td>\n",
              "    </tr>\n",
              "    <tr>\n",
              "      <th>7040</th>\n",
              "      <td>0</td>\n",
              "      <td>11</td>\n",
              "      <td>29.60</td>\n",
              "      <td>346.45</td>\n",
              "      <td>0</td>\n",
              "      <td>1</td>\n",
              "      <td>0</td>\n",
              "      <td>0</td>\n",
              "      <td>1</td>\n",
              "      <td>0</td>\n",
              "      <td>...</td>\n",
              "      <td>0</td>\n",
              "      <td>1</td>\n",
              "      <td>0</td>\n",
              "      <td>0</td>\n",
              "      <td>0</td>\n",
              "      <td>1</td>\n",
              "      <td>0</td>\n",
              "      <td>0</td>\n",
              "      <td>1</td>\n",
              "      <td>0</td>\n",
              "    </tr>\n",
              "    <tr>\n",
              "      <th>7041</th>\n",
              "      <td>1</td>\n",
              "      <td>4</td>\n",
              "      <td>74.40</td>\n",
              "      <td>306.60</td>\n",
              "      <td>1</td>\n",
              "      <td>0</td>\n",
              "      <td>1</td>\n",
              "      <td>0</td>\n",
              "      <td>1</td>\n",
              "      <td>1</td>\n",
              "      <td>...</td>\n",
              "      <td>0</td>\n",
              "      <td>1</td>\n",
              "      <td>0</td>\n",
              "      <td>0</td>\n",
              "      <td>0</td>\n",
              "      <td>1</td>\n",
              "      <td>0</td>\n",
              "      <td>0</td>\n",
              "      <td>0</td>\n",
              "      <td>1</td>\n",
              "    </tr>\n",
              "    <tr>\n",
              "      <th>7042</th>\n",
              "      <td>0</td>\n",
              "      <td>66</td>\n",
              "      <td>105.65</td>\n",
              "      <td>6844.50</td>\n",
              "      <td>0</td>\n",
              "      <td>0</td>\n",
              "      <td>1</td>\n",
              "      <td>1</td>\n",
              "      <td>0</td>\n",
              "      <td>1</td>\n",
              "      <td>...</td>\n",
              "      <td>1</td>\n",
              "      <td>0</td>\n",
              "      <td>0</td>\n",
              "      <td>1</td>\n",
              "      <td>0</td>\n",
              "      <td>1</td>\n",
              "      <td>1</td>\n",
              "      <td>0</td>\n",
              "      <td>0</td>\n",
              "      <td>0</td>\n",
              "    </tr>\n",
              "  </tbody>\n",
              "</table>\n",
              "<p>7032 rows × 46 columns</p>\n",
              "</div>\n",
              "      <button class=\"colab-df-convert\" onclick=\"convertToInteractive('df-db8ace2a-0796-4e9b-9b06-f9a038a445de')\"\n",
              "              title=\"Convert this dataframe to an interactive table.\"\n",
              "              style=\"display:none;\">\n",
              "        \n",
              "  <svg xmlns=\"http://www.w3.org/2000/svg\" height=\"24px\"viewBox=\"0 0 24 24\"\n",
              "       width=\"24px\">\n",
              "    <path d=\"M0 0h24v24H0V0z\" fill=\"none\"/>\n",
              "    <path d=\"M18.56 5.44l.94 2.06.94-2.06 2.06-.94-2.06-.94-.94-2.06-.94 2.06-2.06.94zm-11 1L8.5 8.5l.94-2.06 2.06-.94-2.06-.94L8.5 2.5l-.94 2.06-2.06.94zm10 10l.94 2.06.94-2.06 2.06-.94-2.06-.94-.94-2.06-.94 2.06-2.06.94z\"/><path d=\"M17.41 7.96l-1.37-1.37c-.4-.4-.92-.59-1.43-.59-.52 0-1.04.2-1.43.59L10.3 9.45l-7.72 7.72c-.78.78-.78 2.05 0 2.83L4 21.41c.39.39.9.59 1.41.59.51 0 1.02-.2 1.41-.59l7.78-7.78 2.81-2.81c.8-.78.8-2.07 0-2.86zM5.41 20L4 18.59l7.72-7.72 1.47 1.35L5.41 20z\"/>\n",
              "  </svg>\n",
              "      </button>\n",
              "      \n",
              "  <style>\n",
              "    .colab-df-container {\n",
              "      display:flex;\n",
              "      flex-wrap:wrap;\n",
              "      gap: 12px;\n",
              "    }\n",
              "\n",
              "    .colab-df-convert {\n",
              "      background-color: #E8F0FE;\n",
              "      border: none;\n",
              "      border-radius: 50%;\n",
              "      cursor: pointer;\n",
              "      display: none;\n",
              "      fill: #1967D2;\n",
              "      height: 32px;\n",
              "      padding: 0 0 0 0;\n",
              "      width: 32px;\n",
              "    }\n",
              "\n",
              "    .colab-df-convert:hover {\n",
              "      background-color: #E2EBFA;\n",
              "      box-shadow: 0px 1px 2px rgba(60, 64, 67, 0.3), 0px 1px 3px 1px rgba(60, 64, 67, 0.15);\n",
              "      fill: #174EA6;\n",
              "    }\n",
              "\n",
              "    [theme=dark] .colab-df-convert {\n",
              "      background-color: #3B4455;\n",
              "      fill: #D2E3FC;\n",
              "    }\n",
              "\n",
              "    [theme=dark] .colab-df-convert:hover {\n",
              "      background-color: #434B5C;\n",
              "      box-shadow: 0px 1px 3px 1px rgba(0, 0, 0, 0.15);\n",
              "      filter: drop-shadow(0px 1px 2px rgba(0, 0, 0, 0.3));\n",
              "      fill: #FFFFFF;\n",
              "    }\n",
              "  </style>\n",
              "\n",
              "      <script>\n",
              "        const buttonEl =\n",
              "          document.querySelector('#df-db8ace2a-0796-4e9b-9b06-f9a038a445de button.colab-df-convert');\n",
              "        buttonEl.style.display =\n",
              "          google.colab.kernel.accessAllowed ? 'block' : 'none';\n",
              "\n",
              "        async function convertToInteractive(key) {\n",
              "          const element = document.querySelector('#df-db8ace2a-0796-4e9b-9b06-f9a038a445de');\n",
              "          const dataTable =\n",
              "            await google.colab.kernel.invokeFunction('convertToInteractive',\n",
              "                                                     [key], {});\n",
              "          if (!dataTable) return;\n",
              "\n",
              "          const docLinkHtml = 'Like what you see? Visit the ' +\n",
              "            '<a target=\"_blank\" href=https://colab.research.google.com/notebooks/data_table.ipynb>data table notebook</a>'\n",
              "            + ' to learn more about interactive tables.';\n",
              "          element.innerHTML = '';\n",
              "          dataTable['output_type'] = 'display_data';\n",
              "          await google.colab.output.renderOutput(dataTable, element);\n",
              "          const docLink = document.createElement('div');\n",
              "          docLink.innerHTML = docLinkHtml;\n",
              "          element.appendChild(docLink);\n",
              "        }\n",
              "      </script>\n",
              "    </div>\n",
              "  </div>\n",
              "  "
            ]
          },
          "metadata": {},
          "execution_count": 285
        }
      ]
    },
    {
      "cell_type": "code",
      "source": [
        "df2.info()"
      ],
      "metadata": {
        "colab": {
          "base_uri": "https://localhost:8080/"
        },
        "id": "NRwfAwjl2FWF",
        "outputId": "b2161186-4399-43c9-debb-9fe58fe403b9"
      },
      "execution_count": null,
      "outputs": [
        {
          "output_type": "stream",
          "name": "stdout",
          "text": [
            "<class 'pandas.core.frame.DataFrame'>\n",
            "Int64Index: 7032 entries, 0 to 7042\n",
            "Data columns (total 46 columns):\n",
            " #   Column                                   Non-Null Count  Dtype  \n",
            "---  ------                                   --------------  -----  \n",
            " 0   SeniorCitizen                            7032 non-null   int64  \n",
            " 1   tenure                                   7032 non-null   int64  \n",
            " 2   MonthlyCharges                           7032 non-null   float64\n",
            " 3   TotalCharges                             7032 non-null   float64\n",
            " 4   Churn                                    7032 non-null   int64  \n",
            " 5   gender_Female                            7032 non-null   uint8  \n",
            " 6   gender_Male                              7032 non-null   uint8  \n",
            " 7   Partner_No                               7032 non-null   uint8  \n",
            " 8   Partner_Yes                              7032 non-null   uint8  \n",
            " 9   Dependents_No                            7032 non-null   uint8  \n",
            " 10  Dependents_Yes                           7032 non-null   uint8  \n",
            " 11  PhoneService_No                          7032 non-null   uint8  \n",
            " 12  PhoneService_Yes                         7032 non-null   uint8  \n",
            " 13  MultipleLines_No                         7032 non-null   uint8  \n",
            " 14  MultipleLines_No phone service           7032 non-null   uint8  \n",
            " 15  MultipleLines_Yes                        7032 non-null   uint8  \n",
            " 16  InternetService_DSL                      7032 non-null   uint8  \n",
            " 17  InternetService_Fiber optic              7032 non-null   uint8  \n",
            " 18  InternetService_No                       7032 non-null   uint8  \n",
            " 19  OnlineSecurity_No                        7032 non-null   uint8  \n",
            " 20  OnlineSecurity_No internet service       7032 non-null   uint8  \n",
            " 21  OnlineSecurity_Yes                       7032 non-null   uint8  \n",
            " 22  OnlineBackup_No                          7032 non-null   uint8  \n",
            " 23  OnlineBackup_No internet service         7032 non-null   uint8  \n",
            " 24  OnlineBackup_Yes                         7032 non-null   uint8  \n",
            " 25  DeviceProtection_No                      7032 non-null   uint8  \n",
            " 26  DeviceProtection_No internet service     7032 non-null   uint8  \n",
            " 27  DeviceProtection_Yes                     7032 non-null   uint8  \n",
            " 28  TechSupport_No                           7032 non-null   uint8  \n",
            " 29  TechSupport_No internet service          7032 non-null   uint8  \n",
            " 30  TechSupport_Yes                          7032 non-null   uint8  \n",
            " 31  StreamingTV_No                           7032 non-null   uint8  \n",
            " 32  StreamingTV_No internet service          7032 non-null   uint8  \n",
            " 33  StreamingTV_Yes                          7032 non-null   uint8  \n",
            " 34  StreamingMovies_No                       7032 non-null   uint8  \n",
            " 35  StreamingMovies_No internet service      7032 non-null   uint8  \n",
            " 36  StreamingMovies_Yes                      7032 non-null   uint8  \n",
            " 37  Contract_Month-to-month                  7032 non-null   uint8  \n",
            " 38  Contract_One year                        7032 non-null   uint8  \n",
            " 39  Contract_Two year                        7032 non-null   uint8  \n",
            " 40  PaperlessBilling_No                      7032 non-null   uint8  \n",
            " 41  PaperlessBilling_Yes                     7032 non-null   uint8  \n",
            " 42  PaymentMethod_Bank transfer (automatic)  7032 non-null   uint8  \n",
            " 43  PaymentMethod_Credit card (automatic)    7032 non-null   uint8  \n",
            " 44  PaymentMethod_Electronic check           7032 non-null   uint8  \n",
            " 45  PaymentMethod_Mailed check               7032 non-null   uint8  \n",
            "dtypes: float64(2), int64(3), uint8(41)\n",
            "memory usage: 869.2 KB\n"
          ]
        }
      ]
    },
    {
      "cell_type": "markdown",
      "source": [
        "***uint8 ***   ======      Unsigned integer (0 to 255)"
      ],
      "metadata": {
        "id": "Qw5hY45v2XIZ"
      }
    },
    {
      "cell_type": "code",
      "source": [
        "\"\"\"plt.figure(figsize=(20,10))\n",
        "sns.heatmap(df2.corr())\n",
        "plt.show()\"\"\""
      ],
      "metadata": {
        "colab": {
          "base_uri": "https://localhost:8080/",
          "height": 35
        },
        "id": "z2m58KOa2bos",
        "outputId": "e72eeac2-24b0-4dbf-eb70-a4fcd3c07a7f"
      },
      "execution_count": null,
      "outputs": [
        {
          "output_type": "execute_result",
          "data": {
            "text/plain": [
              "'plt.figure(figsize=(20,10))\\nsns.heatmap(df2.corr())\\nplt.show()'"
            ],
            "application/vnd.google.colaboratory.intrinsic+json": {
              "type": "string"
            }
          },
          "metadata": {},
          "execution_count": 287
        }
      ]
    },
    {
      "cell_type": "code",
      "source": [
        "plt.figure(figsize=(20,10))\n",
        "df2.corr()['Churn'].sort_values(ascending=False).plot(kind='bar')"
      ],
      "metadata": {
        "colab": {
          "base_uri": "https://localhost:8080/",
          "height": 815
        },
        "id": "9JcR3k-j4MTg",
        "outputId": "42797cf1-8e6f-4342-8683-39bbf8fc43fa"
      },
      "execution_count": null,
      "outputs": [
        {
          "output_type": "execute_result",
          "data": {
            "text/plain": [
              "<matplotlib.axes._subplots.AxesSubplot at 0x7f9c321c1c10>"
            ]
          },
          "metadata": {},
          "execution_count": 288
        },
        {
          "output_type": "display_data",
          "data": {
            "text/plain": [
              "<Figure size 1440x720 with 1 Axes>"
            ],
            "image/png": "[encoded data removed]"
          },
          "metadata": {
            "needs_background": "light"
          }
        }
      ]
    },
    {
      "cell_type": "code",
      "source": [
        "df2.corr()['Churn'].sort_values(ascending=False)[[\"InternetService_DSL\",'Contract_Month-to-month','OnlineSecurity_No','TotalCharges','Contract_Two year','InternetService_Fiber optic','tenure']]"
      ],
      "metadata": {
        "colab": {
          "base_uri": "https://localhost:8080/"
        },
        "id": "n8t1faQo4vdj",
        "outputId": "eeef5962-dfb5-4a88-96f2-e620289ec856"
      },
      "execution_count": null,
      "outputs": [
        {
          "output_type": "execute_result",
          "data": {
            "text/plain": [
              "InternetService_DSL            0.575152\n",
              "Contract_Month-to-month        0.464481\n",
              "OnlineSecurity_No              0.324697\n",
              "TotalCharges                  -0.289025\n",
              "Contract_Two year             -0.339132\n",
              "InternetService_Fiber optic   -0.371066\n",
              "tenure                        -0.463014\n",
              "Name: Churn, dtype: float64"
            ]
          },
          "metadata": {},
          "execution_count": 289
        }
      ]
    },
    {
      "cell_type": "code",
      "source": [
        "df2.corr()['Churn'].sort_values(ascending=False)[[\"InternetService_DSL\",'Contract_Month-to-month','OnlineSecurity_No','TotalCharges','Contract_Two year','InternetService_Fiber optic','tenure']].plot(kind='bar')"
      ],
      "metadata": {
        "colab": {
          "base_uri": "https://localhost:8080/",
          "height": 407
        },
        "id": "7z5NYfWW6CK7",
        "outputId": "f69f8d71-4c31-497b-c4f2-5f34de4e9d26"
      },
      "execution_count": null,
      "outputs": [
        {
          "output_type": "execute_result",
          "data": {
            "text/plain": [
              "<matplotlib.axes._subplots.AxesSubplot at 0x7f9c32396c10>"
            ]
          },
          "metadata": {},
          "execution_count": 290
        },
        {
          "output_type": "display_data",
          "data": {
            "text/plain": [
              "<Figure size 432x288 with 1 Axes>"
            ],
            "image/png": "[encoded data removed]"
          },
          "metadata": {
            "needs_background": "light"
          }
        }
      ]
    },
    {
      "cell_type": "code",
      "source": [
        "#https://www.projectpro.io/recipes/optimize-hyper-parameters-of-logistic-regression-model-using-grid-search-in-python\n",
        "#https://philippe-preux.github.io/ensg/miashs/l3-ap/tps/reglog/index.html\n",
        "#https://machinelearningmastery.com/hyperparameters-for-classification-machine-learning-algorithms/\n",
        "# Import\n",
        "\n",
        "from sklearn.preprocessing import StandardScaler\n",
        "from sklearn.model_selection import train_test_split"
      ],
      "metadata": {
        "id": "pp6RqtfpBgsE"
      },
      "execution_count": null,
      "outputs": []
    },
    {
      "cell_type": "code",
      "source": [
        "X=df2.drop(['Churn'],axis=1)\n",
        "y=df2['Churn']"
      ],
      "metadata": {
        "id": "P4l7kD_Y-sR2"
      },
      "execution_count": null,
      "outputs": []
    },
    {
      "cell_type": "code",
      "source": [
        "X_train, X_test, y_train, y_test = train_test_split(X, y, train_size = 0.75 ,random_state = 2)\n",
        "\n",
        "\n",
        "# Create and fit a scaler model\n",
        "\n",
        "scaler = StandardScaler().fit(X_train)\n",
        "\n",
        "\n",
        "# Your scaler model can now transform your data\n",
        "\n",
        "X_train = scaler.transform(X_train)\n",
        "\n",
        "X_test = scaler.transform(X_test)"
      ],
      "metadata": {
        "id": "taIh8DOFA0O0"
      },
      "execution_count": null,
      "outputs": []
    },
    {
      "cell_type": "code",
      "source": [
        "from sklearn.neighbors import KNeighborsClassifier\n",
        "from sklearn.linear_model import LogisticRegression\n",
        "from sklearn.tree import DecisionTreeClassifier\n",
        "from sklearn.ensemble import RandomForestClassifier\n",
        "from sklearn import tree"
      ],
      "metadata": {
        "id": "1Ckvqa_NOztY"
      },
      "execution_count": null,
      "outputs": []
    },
    {
      "cell_type": "code",
      "source": [
        "modelR = LogisticRegression().fit(X_train,y_train)\n",
        "print(\"score d'exactitude (accuracy) sur l'ensemble d'entraînement :\",modelR.score(X_train, y_train))\n",
        "print(\"score d'exactitude (accuracy) sur l'ensemble de test :\",modelR.score(X_test, y_test))"
      ],
      "metadata": {
        "colab": {
          "base_uri": "https://localhost:8080/"
        },
        "id": "7Ve6rfuYDOUT",
        "outputId": "b9814c19-8f24-4ff3-a6cd-6d574985dbe7"
      },
      "execution_count": null,
      "outputs": [
        {
          "output_type": "stream",
          "name": "stdout",
          "text": [
            "score d'exactitude (accuracy) sur l'ensemble d'entraînement : 0.8801668562760713\n",
            "score d'exactitude (accuracy) sur l'ensemble de test : 0.8748577929465301\n"
          ]
        }
      ]
    },
    {
      "cell_type": "code",
      "source": [
        "X_test_proba=modelR.predict_proba(X_test)\n",
        "X_test_proba"
      ],
      "metadata": {
        "colab": {
          "base_uri": "https://localhost:8080/"
        },
        "id": "_-nTVPvvDZ1L",
        "outputId": "3adb2e8d-2c16-40c8-a46f-1d769e7a15cf"
      },
      "execution_count": null,
      "outputs": [
        {
          "output_type": "execute_result",
          "data": {
            "text/plain": [
              "array([[4.41678853e-01, 5.58321147e-01],\n",
              "       [9.99844588e-01, 1.55411753e-04],\n",
              "       [9.99710052e-01, 2.89947638e-04],\n",
              "       ...,\n",
              "       [9.64132113e-01, 3.58678867e-02],\n",
              "       [9.99114467e-01, 8.85532663e-04],\n",
              "       [9.92256790e-01, 7.74321048e-03]])"
            ]
          },
          "metadata": {},
          "execution_count": 327
        }
      ]
    },
    {
      "cell_type": "code",
      "source": [
        "modelR.classes_  # 0: rester,1:partir"
      ],
      "metadata": {
        "colab": {
          "base_uri": "https://localhost:8080/"
        },
        "id": "W2DqTZbGD4cH",
        "outputId": "e7f3fa7d-be93-471b-cbff-e4fea58f9f94"
      },
      "execution_count": null,
      "outputs": [
        {
          "output_type": "execute_result",
          "data": {
            "text/plain": [
              "array([0, 1])"
            ]
          },
          "metadata": {},
          "execution_count": 313
        }
      ]
    },
    {
      "cell_type": "code",
      "source": [
        "df_prob = pd.DataFrame(modelR.predict_proba(X_test), columns = ['rester','partir'])\n",
        "df_prob"
      ],
      "metadata": {
        "colab": {
          "base_uri": "https://localhost:8080/",
          "height": 424
        },
        "id": "uOiJmeBi3Ijq",
        "outputId": "e7d85ea6-1b31-4646-f18c-2075485806ff"
      },
      "execution_count": null,
      "outputs": [
        {
          "output_type": "execute_result",
          "data": {
            "text/plain": [
              "        rester    partir\n",
              "0     0.441679  0.558321\n",
              "1     0.999845  0.000155\n",
              "2     0.999710  0.000290\n",
              "3     0.994357  0.005643\n",
              "4     0.951661  0.048339\n",
              "...        ...       ...\n",
              "1753  0.999242  0.000758\n",
              "1754  0.082740  0.917260\n",
              "1755  0.964132  0.035868\n",
              "1756  0.999114  0.000886\n",
              "1757  0.992257  0.007743\n",
              "\n",
              "[1758 rows x 2 columns]"
            ],
            "text/html": [
              "\n",
              "  <div id=\"df-0969e4d9-7651-4e6a-b8de-ec7a7fcef2ec\">\n",
              "    <div class=\"colab-df-container\">\n",
              "      <div>\n",
              "<style scoped>\n",
              "    .dataframe tbody tr th:only-of-type {\n",
              "        vertical-align: middle;\n",
              "    }\n",
              "\n",
              "    .dataframe tbody tr th {\n",
              "        vertical-align: top;\n",
              "    }\n",
              "\n",
              "    .dataframe thead th {\n",
              "        text-align: right;\n",
              "    }\n",
              "</style>\n",
              "<table border=\"1\" class=\"dataframe\">\n",
              "  <thead>\n",
              "    <tr style=\"text-align: right;\">\n",
              "      <th></th>\n",
              "      <th>rester</th>\n",
              "      <th>partir</th>\n",
              "    </tr>\n",
              "  </thead>\n",
              "  <tbody>\n",
              "    <tr>\n",
              "      <th>0</th>\n",
              "      <td>0.441679</td>\n",
              "      <td>0.558321</td>\n",
              "    </tr>\n",
              "    <tr>\n",
              "      <th>1</th>\n",
              "      <td>0.999845</td>\n",
              "      <td>0.000155</td>\n",
              "    </tr>\n",
              "    <tr>\n",
              "      <th>2</th>\n",
              "      <td>0.999710</td>\n",
              "      <td>0.000290</td>\n",
              "    </tr>\n",
              "    <tr>\n",
              "      <th>3</th>\n",
              "      <td>0.994357</td>\n",
              "      <td>0.005643</td>\n",
              "    </tr>\n",
              "    <tr>\n",
              "      <th>4</th>\n",
              "      <td>0.951661</td>\n",
              "      <td>0.048339</td>\n",
              "    </tr>\n",
              "    <tr>\n",
              "      <th>...</th>\n",
              "      <td>...</td>\n",
              "      <td>...</td>\n",
              "    </tr>\n",
              "    <tr>\n",
              "      <th>1753</th>\n",
              "      <td>0.999242</td>\n",
              "      <td>0.000758</td>\n",
              "    </tr>\n",
              "    <tr>\n",
              "      <th>1754</th>\n",
              "      <td>0.082740</td>\n",
              "      <td>0.917260</td>\n",
              "    </tr>\n",
              "    <tr>\n",
              "      <th>1755</th>\n",
              "      <td>0.964132</td>\n",
              "      <td>0.035868</td>\n",
              "    </tr>\n",
              "    <tr>\n",
              "      <th>1756</th>\n",
              "      <td>0.999114</td>\n",
              "      <td>0.000886</td>\n",
              "    </tr>\n",
              "    <tr>\n",
              "      <th>1757</th>\n",
              "      <td>0.992257</td>\n",
              "      <td>0.007743</td>\n",
              "    </tr>\n",
              "  </tbody>\n",
              "</table>\n",
              "<p>1758 rows × 2 columns</p>\n",
              "</div>\n",
              "      <button class=\"colab-df-convert\" onclick=\"convertToInteractive('df-0969e4d9-7651-4e6a-b8de-ec7a7fcef2ec')\"\n",
              "              title=\"Convert this dataframe to an interactive table.\"\n",
              "              style=\"display:none;\">\n",
              "        \n",
              "  <svg xmlns=\"http://www.w3.org/2000/svg\" height=\"24px\"viewBox=\"0 0 24 24\"\n",
              "       width=\"24px\">\n",
              "    <path d=\"M0 0h24v24H0V0z\" fill=\"none\"/>\n",
              "    <path d=\"M18.56 5.44l.94 2.06.94-2.06 2.06-.94-2.06-.94-.94-2.06-.94 2.06-2.06.94zm-11 1L8.5 8.5l.94-2.06 2.06-.94-2.06-.94L8.5 2.5l-.94 2.06-2.06.94zm10 10l.94 2.06.94-2.06 2.06-.94-2.06-.94-.94-2.06-.94 2.06-2.06.94z\"/><path d=\"M17.41 7.96l-1.37-1.37c-.4-.4-.92-.59-1.43-.59-.52 0-1.04.2-1.43.59L10.3 9.45l-7.72 7.72c-.78.78-.78 2.05 0 2.83L4 21.41c.39.39.9.59 1.41.59.51 0 1.02-.2 1.41-.59l7.78-7.78 2.81-2.81c.8-.78.8-2.07 0-2.86zM5.41 20L4 18.59l7.72-7.72 1.47 1.35L5.41 20z\"/>\n",
              "  </svg>\n",
              "      </button>\n",
              "      \n",
              "  <style>\n",
              "    .colab-df-container {\n",
              "      display:flex;\n",
              "      flex-wrap:wrap;\n",
              "      gap: 12px;\n",
              "    }\n",
              "\n",
              "    .colab-df-convert {\n",
              "      background-color: #E8F0FE;\n",
              "      border: none;\n",
              "      border-radius: 50%;\n",
              "      cursor: pointer;\n",
              "      display: none;\n",
              "      fill: #1967D2;\n",
              "      height: 32px;\n",
              "      padding: 0 0 0 0;\n",
              "      width: 32px;\n",
              "    }\n",
              "\n",
              "    .colab-df-convert:hover {\n",
              "      background-color: #E2EBFA;\n",
              "      box-shadow: 0px 1px 2px rgba(60, 64, 67, 0.3), 0px 1px 3px 1px rgba(60, 64, 67, 0.15);\n",
              "      fill: #174EA6;\n",
              "    }\n",
              "\n",
              "    [theme=dark] .colab-df-convert {\n",
              "      background-color: #3B4455;\n",
              "      fill: #D2E3FC;\n",
              "    }\n",
              "\n",
              "    [theme=dark] .colab-df-convert:hover {\n",
              "      background-color: #434B5C;\n",
              "      box-shadow: 0px 1px 3px 1px rgba(0, 0, 0, 0.15);\n",
              "      filter: drop-shadow(0px 1px 2px rgba(0, 0, 0, 0.3));\n",
              "      fill: #FFFFFF;\n",
              "    }\n",
              "  </style>\n",
              "\n",
              "      <script>\n",
              "        const buttonEl =\n",
              "          document.querySelector('#df-0969e4d9-7651-4e6a-b8de-ec7a7fcef2ec button.colab-df-convert');\n",
              "        buttonEl.style.display =\n",
              "          google.colab.kernel.accessAllowed ? 'block' : 'none';\n",
              "\n",
              "        async function convertToInteractive(key) {\n",
              "          const element = document.querySelector('#df-0969e4d9-7651-4e6a-b8de-ec7a7fcef2ec');\n",
              "          const dataTable =\n",
              "            await google.colab.kernel.invokeFunction('convertToInteractive',\n",
              "                                                     [key], {});\n",
              "          if (!dataTable) return;\n",
              "\n",
              "          const docLinkHtml = 'Like what you see? Visit the ' +\n",
              "            '<a target=\"_blank\" href=https://colab.research.google.com/notebooks/data_table.ipynb>data table notebook</a>'\n",
              "            + ' to learn more about interactive tables.';\n",
              "          element.innerHTML = '';\n",
              "          dataTable['output_type'] = 'display_data';\n",
              "          await google.colab.output.renderOutput(dataTable, element);\n",
              "          const docLink = document.createElement('div');\n",
              "          docLink.innerHTML = docLinkHtml;\n",
              "          element.appendChild(docLink);\n",
              "        }\n",
              "      </script>\n",
              "    </div>\n",
              "  </div>\n",
              "  "
            ]
          },
          "metadata": {},
          "execution_count": 314
        }
      ]
    },
    {
      "cell_type": "code",
      "source": [
        "df_prob.sort_values(by='partir',ascending=False)"
      ],
      "metadata": {
        "colab": {
          "base_uri": "https://localhost:8080/",
          "height": 424
        },
        "id": "vgZjFrIB6-oK",
        "outputId": "cceb601e-52f3-42c1-c1fc-9d9617544ea7"
      },
      "execution_count": null,
      "outputs": [
        {
          "output_type": "execute_result",
          "data": {
            "text/plain": [
              "        rester    partir\n",
              "526   0.008011  0.991989\n",
              "1701  0.008352  0.991648\n",
              "525   0.008614  0.991386\n",
              "132   0.009134  0.990866\n",
              "1633  0.009138  0.990862\n",
              "...        ...       ...\n",
              "503   0.999876  0.000124\n",
              "523   0.999877  0.000123\n",
              "1644  0.999880  0.000120\n",
              "945   0.999889  0.000111\n",
              "1206  0.999890  0.000110\n",
              "\n",
              "[1758 rows x 2 columns]"
            ],
            "text/html": [
              "\n",
              "  <div id=\"df-c088dff5-a108-42c2-b16f-646f760e8168\">\n",
              "    <div class=\"colab-df-container\">\n",
              "      <div>\n",
              "<style scoped>\n",
              "    .dataframe tbody tr th:only-of-type {\n",
              "        vertical-align: middle;\n",
              "    }\n",
              "\n",
              "    .dataframe tbody tr th {\n",
              "        vertical-align: top;\n",
              "    }\n",
              "\n",
              "    .dataframe thead th {\n",
              "        text-align: right;\n",
              "    }\n",
              "</style>\n",
              "<table border=\"1\" class=\"dataframe\">\n",
              "  <thead>\n",
              "    <tr style=\"text-align: right;\">\n",
              "      <th></th>\n",
              "      <th>rester</th>\n",
              "      <th>partir</th>\n",
              "    </tr>\n",
              "  </thead>\n",
              "  <tbody>\n",
              "    <tr>\n",
              "      <th>526</th>\n",
              "      <td>0.008011</td>\n",
              "      <td>0.991989</td>\n",
              "    </tr>\n",
              "    <tr>\n",
              "      <th>1701</th>\n",
              "      <td>0.008352</td>\n",
              "      <td>0.991648</td>\n",
              "    </tr>\n",
              "    <tr>\n",
              "      <th>525</th>\n",
              "      <td>0.008614</td>\n",
              "      <td>0.991386</td>\n",
              "    </tr>\n",
              "    <tr>\n",
              "      <th>132</th>\n",
              "      <td>0.009134</td>\n",
              "      <td>0.990866</td>\n",
              "    </tr>\n",
              "    <tr>\n",
              "      <th>1633</th>\n",
              "      <td>0.009138</td>\n",
              "      <td>0.990862</td>\n",
              "    </tr>\n",
              "    <tr>\n",
              "      <th>...</th>\n",
              "      <td>...</td>\n",
              "      <td>...</td>\n",
              "    </tr>\n",
              "    <tr>\n",
              "      <th>503</th>\n",
              "      <td>0.999876</td>\n",
              "      <td>0.000124</td>\n",
              "    </tr>\n",
              "    <tr>\n",
              "      <th>523</th>\n",
              "      <td>0.999877</td>\n",
              "      <td>0.000123</td>\n",
              "    </tr>\n",
              "    <tr>\n",
              "      <th>1644</th>\n",
              "      <td>0.999880</td>\n",
              "      <td>0.000120</td>\n",
              "    </tr>\n",
              "    <tr>\n",
              "      <th>945</th>\n",
              "      <td>0.999889</td>\n",
              "      <td>0.000111</td>\n",
              "    </tr>\n",
              "    <tr>\n",
              "      <th>1206</th>\n",
              "      <td>0.999890</td>\n",
              "      <td>0.000110</td>\n",
              "    </tr>\n",
              "  </tbody>\n",
              "</table>\n",
              "<p>1758 rows × 2 columns</p>\n",
              "</div>\n",
              "      <button class=\"colab-df-convert\" onclick=\"convertToInteractive('df-c088dff5-a108-42c2-b16f-646f760e8168')\"\n",
              "              title=\"Convert this dataframe to an interactive table.\"\n",
              "              style=\"display:none;\">\n",
              "        \n",
              "  <svg xmlns=\"http://www.w3.org/2000/svg\" height=\"24px\"viewBox=\"0 0 24 24\"\n",
              "       width=\"24px\">\n",
              "    <path d=\"M0 0h24v24H0V0z\" fill=\"none\"/>\n",
              "    <path d=\"M18.56 5.44l.94 2.06.94-2.06 2.06-.94-2.06-.94-.94-2.06-.94 2.06-2.06.94zm-11 1L8.5 8.5l.94-2.06 2.06-.94-2.06-.94L8.5 2.5l-.94 2.06-2.06.94zm10 10l.94 2.06.94-2.06 2.06-.94-2.06-.94-.94-2.06-.94 2.06-2.06.94z\"/><path d=\"M17.41 7.96l-1.37-1.37c-.4-.4-.92-.59-1.43-.59-.52 0-1.04.2-1.43.59L10.3 9.45l-7.72 7.72c-.78.78-.78 2.05 0 2.83L4 21.41c.39.39.9.59 1.41.59.51 0 1.02-.2 1.41-.59l7.78-7.78 2.81-2.81c.8-.78.8-2.07 0-2.86zM5.41 20L4 18.59l7.72-7.72 1.47 1.35L5.41 20z\"/>\n",
              "  </svg>\n",
              "      </button>\n",
              "      \n",
              "  <style>\n",
              "    .colab-df-container {\n",
              "      display:flex;\n",
              "      flex-wrap:wrap;\n",
              "      gap: 12px;\n",
              "    }\n",
              "\n",
              "    .colab-df-convert {\n",
              "      background-color: #E8F0FE;\n",
              "      border: none;\n",
              "      border-radius: 50%;\n",
              "      cursor: pointer;\n",
              "      display: none;\n",
              "      fill: #1967D2;\n",
              "      height: 32px;\n",
              "      padding: 0 0 0 0;\n",
              "      width: 32px;\n",
              "    }\n",
              "\n",
              "    .colab-df-convert:hover {\n",
              "      background-color: #E2EBFA;\n",
              "      box-shadow: 0px 1px 2px rgba(60, 64, 67, 0.3), 0px 1px 3px 1px rgba(60, 64, 67, 0.15);\n",
              "      fill: #174EA6;\n",
              "    }\n",
              "\n",
              "    [theme=dark] .colab-df-convert {\n",
              "      background-color: #3B4455;\n",
              "      fill: #D2E3FC;\n",
              "    }\n",
              "\n",
              "    [theme=dark] .colab-df-convert:hover {\n",
              "      background-color: #434B5C;\n",
              "      box-shadow: 0px 1px 3px 1px rgba(0, 0, 0, 0.15);\n",
              "      filter: drop-shadow(0px 1px 2px rgba(0, 0, 0, 0.3));\n",
              "      fill: #FFFFFF;\n",
              "    }\n",
              "  </style>\n",
              "\n",
              "      <script>\n",
              "        const buttonEl =\n",
              "          document.querySelector('#df-c088dff5-a108-42c2-b16f-646f760e8168 button.colab-df-convert');\n",
              "        buttonEl.style.display =\n",
              "          google.colab.kernel.accessAllowed ? 'block' : 'none';\n",
              "\n",
              "        async function convertToInteractive(key) {\n",
              "          const element = document.querySelector('#df-c088dff5-a108-42c2-b16f-646f760e8168');\n",
              "          const dataTable =\n",
              "            await google.colab.kernel.invokeFunction('convertToInteractive',\n",
              "                                                     [key], {});\n",
              "          if (!dataTable) return;\n",
              "\n",
              "          const docLinkHtml = 'Like what you see? Visit the ' +\n",
              "            '<a target=\"_blank\" href=https://colab.research.google.com/notebooks/data_table.ipynb>data table notebook</a>'\n",
              "            + ' to learn more about interactive tables.';\n",
              "          element.innerHTML = '';\n",
              "          dataTable['output_type'] = 'display_data';\n",
              "          await google.colab.output.renderOutput(dataTable, element);\n",
              "          const docLink = document.createElement('div');\n",
              "          docLink.innerHTML = docLinkHtml;\n",
              "          element.appendChild(docLink);\n",
              "        }\n",
              "      </script>\n",
              "    </div>\n",
              "  </div>\n",
              "  "
            ]
          },
          "metadata": {},
          "execution_count": 315
        }
      ]
    },
    {
      "cell_type": "code",
      "source": [
        "X_test = pd.DataFrame(X_test, columns=['SeniorCitizen', 'tenure', 'MonthlyCharges', 'TotalCharges',\n",
        "       'gender_Female', 'gender_Male', 'Partner_No', 'Partner_Yes',\n",
        "       'Dependents_No', 'Dependents_Yes', 'PhoneService_No',\n",
        "       'PhoneService_Yes', 'MultipleLines_No',\n",
        "       'MultipleLines_No phone service', 'MultipleLines_Yes',\n",
        "       'InternetService_DSL', 'InternetService_Fiber optic',\n",
        "       'InternetService_No', 'OnlineSecurity_No',\n",
        "       'OnlineSecurity_No internet service', 'OnlineSecurity_Yes',\n",
        "       'OnlineBackup_No', 'OnlineBackup_No internet service',\n",
        "       'OnlineBackup_Yes', 'DeviceProtection_No',\n",
        "       'DeviceProtection_No internet service', 'DeviceProtection_Yes',\n",
        "       'TechSupport_No', 'TechSupport_No internet service', 'TechSupport_Yes',\n",
        "       'StreamingTV_No', 'StreamingTV_No internet service', 'StreamingTV_Yes',\n",
        "       'StreamingMovies_No', 'StreamingMovies_No internet service',\n",
        "       'StreamingMovies_Yes', 'Contract_Month-to-month', 'Contract_One year',\n",
        "       'Contract_Two year', 'PaperlessBilling_No', 'PaperlessBilling_Yes',\n",
        "       'PaymentMethod_Bank transfer (automatic)',\n",
        "       'PaymentMethod_Credit card (automatic)',\n",
        "       'PaymentMethod_Electronic check', 'PaymentMethod_Mailed check'])\n",
        "X_test"
      ],
      "metadata": {
        "colab": {
          "base_uri": "https://localhost:8080/",
          "height": 523
        },
        "id": "3iYA6H-4DaLW",
        "outputId": "4c507f50-9d4d-4a07-8fed-1b3a79be5ad5"
      },
      "execution_count": null,
      "outputs": [
        {
          "output_type": "execute_result",
          "data": {
            "text/plain": [
              "      SeniorCitizen    tenure  MonthlyCharges  TotalCharges  gender_Female  \\\n",
              "0         -0.438945 -1.280601        0.481011     -0.973302       1.000759   \n",
              "1         -0.438945  1.578707       -1.356746     -0.272734       1.000759   \n",
              "2         -0.438945  1.619554        0.515937      1.518405       1.000759   \n",
              "3         -0.438945  0.680067       -0.799598     -0.092656       1.000759   \n",
              "4         -0.438945  1.251929        1.334196      1.908872      -0.999242   \n",
              "...             ...       ...             ...           ...            ...   \n",
              "1753      -0.438945  1.578707        0.838584      1.846923      -0.999242   \n",
              "1754      -0.438945 -1.280601       -0.182577     -0.982124       1.000759   \n",
              "1755      -0.438945 -0.545350       -0.136010     -0.434440       1.000759   \n",
              "1756      -0.438945  1.537860        0.833595      1.807148       1.000759   \n",
              "1757      -0.438945  0.108206       -0.791282     -0.396501       1.000759   \n",
              "\n",
              "      gender_Male  Partner_No  Partner_Yes  Dependents_No  Dependents_Yes  \\\n",
              "0       -1.000759    0.960944    -0.960944       0.653117       -0.653117   \n",
              "1       -1.000759   -1.040643     1.040643      -1.531119        1.531119   \n",
              "2       -1.000759   -1.040643     1.040643      -1.531119        1.531119   \n",
              "3       -1.000759   -1.040643     1.040643       0.653117       -0.653117   \n",
              "4        0.999242   -1.040643     1.040643      -1.531119        1.531119   \n",
              "...           ...         ...          ...            ...             ...   \n",
              "1753     0.999242   -1.040643     1.040643      -1.531119        1.531119   \n",
              "1754    -1.000759    0.960944    -0.960944      -1.531119        1.531119   \n",
              "1755    -1.000759    0.960944    -0.960944      -1.531119        1.531119   \n",
              "1756    -1.000759    0.960944    -0.960944       0.653117       -0.653117   \n",
              "1757    -1.000759   -1.040643     1.040643      -1.531119        1.531119   \n",
              "\n",
              "      ...  StreamingMovies_Yes  Contract_Month-to-month  Contract_One year  \\\n",
              "0     ...            -0.796452                 0.902699          -0.513358   \n",
              "1     ...            -0.796452                -1.107789          -0.513358   \n",
              "2     ...            -0.796452                -1.107789          -0.513358   \n",
              "3     ...            -0.796452                 0.902699          -0.513358   \n",
              "4     ...             1.255569                -1.107789          -0.513358   \n",
              "...   ...                  ...                      ...                ...   \n",
              "1753  ...             1.255569                -1.107789          -0.513358   \n",
              "1754  ...             1.255569                 0.902699          -0.513358   \n",
              "1755  ...            -0.796452                 0.902699          -0.513358   \n",
              "1756  ...             1.255569                -1.107789          -0.513358   \n",
              "1757  ...            -0.796452                -1.107789           1.947959   \n",
              "\n",
              "      Contract_Two year  PaperlessBilling_No  PaperlessBilling_Yes  \\\n",
              "0             -0.562606            -0.829265              0.829265   \n",
              "1              1.777444             1.205888             -1.205888   \n",
              "2              1.777444             1.205888             -1.205888   \n",
              "3             -0.562606             1.205888             -1.205888   \n",
              "4              1.777444            -0.829265              0.829265   \n",
              "...                 ...                  ...                   ...   \n",
              "1753           1.777444             1.205888             -1.205888   \n",
              "1754          -0.562606             1.205888             -1.205888   \n",
              "1755          -0.562606            -0.829265              0.829265   \n",
              "1756           1.777444             1.205888             -1.205888   \n",
              "1757          -0.562606             1.205888             -1.205888   \n",
              "\n",
              "      PaymentMethod_Bank transfer (automatic)  \\\n",
              "0                                   -0.526599   \n",
              "1                                   -0.526599   \n",
              "2                                    1.898977   \n",
              "3                                    1.898977   \n",
              "4                                    1.898977   \n",
              "...                                       ...   \n",
              "1753                                -0.526599   \n",
              "1754                                -0.526599   \n",
              "1755                                -0.526599   \n",
              "1756                                -0.526599   \n",
              "1757                                -0.526599   \n",
              "\n",
              "      PaymentMethod_Credit card (automatic)  PaymentMethod_Electronic check  \\\n",
              "0                                 -0.532176                       -0.703189   \n",
              "1                                  1.879076                       -0.703189   \n",
              "2                                 -0.532176                       -0.703189   \n",
              "3                                 -0.532176                       -0.703189   \n",
              "4                                 -0.532176                       -0.703189   \n",
              "...                                     ...                             ...   \n",
              "1753                               1.879076                       -0.703189   \n",
              "1754                              -0.532176                        1.422093   \n",
              "1755                              -0.532176                        1.422093   \n",
              "1756                               1.879076                       -0.703189   \n",
              "1757                              -0.532176                       -0.703189   \n",
              "\n",
              "      PaymentMethod_Mailed check  \n",
              "0                       1.822896  \n",
              "1                      -0.548578  \n",
              "2                      -0.548578  \n",
              "3                      -0.548578  \n",
              "4                      -0.548578  \n",
              "...                          ...  \n",
              "1753                   -0.548578  \n",
              "1754                   -0.548578  \n",
              "1755                   -0.548578  \n",
              "1756                   -0.548578  \n",
              "1757                    1.822896  \n",
              "\n",
              "[1758 rows x 45 columns]"
            ],
            "text/html": [
              "\n",
              "  <div id=\"df-1d808a61-be8f-4497-bc08-5c04c64632a2\">\n",
              "    <div class=\"colab-df-container\">\n",
              "      <div>\n",
              "<style scoped>\n",
              "    .dataframe tbody tr th:only-of-type {\n",
              "        vertical-align: middle;\n",
              "    }\n",
              "\n",
              "    .dataframe tbody tr th {\n",
              "        vertical-align: top;\n",
              "    }\n",
              "\n",
              "    .dataframe thead th {\n",
              "        text-align: right;\n",
              "    }\n",
              "</style>\n",
              "<table border=\"1\" class=\"dataframe\">\n",
              "  <thead>\n",
              "    <tr style=\"text-align: right;\">\n",
              "      <th></th>\n",
              "      <th>SeniorCitizen</th>\n",
              "      <th>tenure</th>\n",
              "      <th>MonthlyCharges</th>\n",
              "      <th>TotalCharges</th>\n",
              "      <th>gender_Female</th>\n",
              "      <th>gender_Male</th>\n",
              "      <th>Partner_No</th>\n",
              "      <th>Partner_Yes</th>\n",
              "      <th>Dependents_No</th>\n",
              "      <th>Dependents_Yes</th>\n",
              "      <th>...</th>\n",
              "      <th>StreamingMovies_Yes</th>\n",
              "      <th>Contract_Month-to-month</th>\n",
              "      <th>Contract_One year</th>\n",
              "      <th>Contract_Two year</th>\n",
              "      <th>PaperlessBilling_No</th>\n",
              "      <th>PaperlessBilling_Yes</th>\n",
              "      <th>PaymentMethod_Bank transfer (automatic)</th>\n",
              "      <th>PaymentMethod_Credit card (automatic)</th>\n",
              "      <th>PaymentMethod_Electronic check</th>\n",
              "      <th>PaymentMethod_Mailed check</th>\n",
              "    </tr>\n",
              "  </thead>\n",
              "  <tbody>\n",
              "    <tr>\n",
              "      <th>0</th>\n",
              "      <td>-0.438945</td>\n",
              "      <td>-1.280601</td>\n",
              "      <td>0.481011</td>\n",
              "      <td>-0.973302</td>\n",
              "      <td>1.000759</td>\n",
              "      <td>-1.000759</td>\n",
              "      <td>0.960944</td>\n",
              "      <td>-0.960944</td>\n",
              "      <td>0.653117</td>\n",
              "      <td>-0.653117</td>\n",
              "      <td>...</td>\n",
              "      <td>-0.796452</td>\n",
              "      <td>0.902699</td>\n",
              "      <td>-0.513358</td>\n",
              "      <td>-0.562606</td>\n",
              "      <td>-0.829265</td>\n",
              "      <td>0.829265</td>\n",
              "      <td>-0.526599</td>\n",
              "      <td>-0.532176</td>\n",
              "      <td>-0.703189</td>\n",
              "      <td>1.822896</td>\n",
              "    </tr>\n",
              "    <tr>\n",
              "      <th>1</th>\n",
              "      <td>-0.438945</td>\n",
              "      <td>1.578707</td>\n",
              "      <td>-1.356746</td>\n",
              "      <td>-0.272734</td>\n",
              "      <td>1.000759</td>\n",
              "      <td>-1.000759</td>\n",
              "      <td>-1.040643</td>\n",
              "      <td>1.040643</td>\n",
              "      <td>-1.531119</td>\n",
              "      <td>1.531119</td>\n",
              "      <td>...</td>\n",
              "      <td>-0.796452</td>\n",
              "      <td>-1.107789</td>\n",
              "      <td>-0.513358</td>\n",
              "      <td>1.777444</td>\n",
              "      <td>1.205888</td>\n",
              "      <td>-1.205888</td>\n",
              "      <td>-0.526599</td>\n",
              "      <td>1.879076</td>\n",
              "      <td>-0.703189</td>\n",
              "      <td>-0.548578</td>\n",
              "    </tr>\n",
              "    <tr>\n",
              "      <th>2</th>\n",
              "      <td>-0.438945</td>\n",
              "      <td>1.619554</td>\n",
              "      <td>0.515937</td>\n",
              "      <td>1.518405</td>\n",
              "      <td>1.000759</td>\n",
              "      <td>-1.000759</td>\n",
              "      <td>-1.040643</td>\n",
              "      <td>1.040643</td>\n",
              "      <td>-1.531119</td>\n",
              "      <td>1.531119</td>\n",
              "      <td>...</td>\n",
              "      <td>-0.796452</td>\n",
              "      <td>-1.107789</td>\n",
              "      <td>-0.513358</td>\n",
              "      <td>1.777444</td>\n",
              "      <td>1.205888</td>\n",
              "      <td>-1.205888</td>\n",
              "      <td>1.898977</td>\n",
              "      <td>-0.532176</td>\n",
              "      <td>-0.703189</td>\n",
              "      <td>-0.548578</td>\n",
              "    </tr>\n",
              "    <tr>\n",
              "      <th>3</th>\n",
              "      <td>-0.438945</td>\n",
              "      <td>0.680067</td>\n",
              "      <td>-0.799598</td>\n",
              "      <td>-0.092656</td>\n",
              "      <td>1.000759</td>\n",
              "      <td>-1.000759</td>\n",
              "      <td>-1.040643</td>\n",
              "      <td>1.040643</td>\n",
              "      <td>0.653117</td>\n",
              "      <td>-0.653117</td>\n",
              "      <td>...</td>\n",
              "      <td>-0.796452</td>\n",
              "      <td>0.902699</td>\n",
              "      <td>-0.513358</td>\n",
              "      <td>-0.562606</td>\n",
              "      <td>1.205888</td>\n",
              "      <td>-1.205888</td>\n",
              "      <td>1.898977</td>\n",
              "      <td>-0.532176</td>\n",
              "      <td>-0.703189</td>\n",
              "      <td>-0.548578</td>\n",
              "    </tr>\n",
              "    <tr>\n",
              "      <th>4</th>\n",
              "      <td>-0.438945</td>\n",
              "      <td>1.251929</td>\n",
              "      <td>1.334196</td>\n",
              "      <td>1.908872</td>\n",
              "      <td>-0.999242</td>\n",
              "      <td>0.999242</td>\n",
              "      <td>-1.040643</td>\n",
              "      <td>1.040643</td>\n",
              "      <td>-1.531119</td>\n",
              "      <td>1.531119</td>\n",
              "      <td>...</td>\n",
              "      <td>1.255569</td>\n",
              "      <td>-1.107789</td>\n",
              "      <td>-0.513358</td>\n",
              "      <td>1.777444</td>\n",
              "      <td>-0.829265</td>\n",
              "      <td>0.829265</td>\n",
              "      <td>1.898977</td>\n",
              "      <td>-0.532176</td>\n",
              "      <td>-0.703189</td>\n",
              "      <td>-0.548578</td>\n",
              "    </tr>\n",
              "    <tr>\n",
              "      <th>...</th>\n",
              "      <td>...</td>\n",
              "      <td>...</td>\n",
              "      <td>...</td>\n",
              "      <td>...</td>\n",
              "      <td>...</td>\n",
              "      <td>...</td>\n",
              "      <td>...</td>\n",
              "      <td>...</td>\n",
              "      <td>...</td>\n",
              "      <td>...</td>\n",
              "      <td>...</td>\n",
              "      <td>...</td>\n",
              "      <td>...</td>\n",
              "      <td>...</td>\n",
              "      <td>...</td>\n",
              "      <td>...</td>\n",
              "      <td>...</td>\n",
              "      <td>...</td>\n",
              "      <td>...</td>\n",
              "      <td>...</td>\n",
              "      <td>...</td>\n",
              "    </tr>\n",
              "    <tr>\n",
              "      <th>1753</th>\n",
              "      <td>-0.438945</td>\n",
              "      <td>1.578707</td>\n",
              "      <td>0.838584</td>\n",
              "      <td>1.846923</td>\n",
              "      <td>-0.999242</td>\n",
              "      <td>0.999242</td>\n",
              "      <td>-1.040643</td>\n",
              "      <td>1.040643</td>\n",
              "      <td>-1.531119</td>\n",
              "      <td>1.531119</td>\n",
              "      <td>...</td>\n",
              "      <td>1.255569</td>\n",
              "      <td>-1.107789</td>\n",
              "      <td>-0.513358</td>\n",
              "      <td>1.777444</td>\n",
              "      <td>1.205888</td>\n",
              "      <td>-1.205888</td>\n",
              "      <td>-0.526599</td>\n",
              "      <td>1.879076</td>\n",
              "      <td>-0.703189</td>\n",
              "      <td>-0.548578</td>\n",
              "    </tr>\n",
              "    <tr>\n",
              "      <th>1754</th>\n",
              "      <td>-0.438945</td>\n",
              "      <td>-1.280601</td>\n",
              "      <td>-0.182577</td>\n",
              "      <td>-0.982124</td>\n",
              "      <td>1.000759</td>\n",
              "      <td>-1.000759</td>\n",
              "      <td>0.960944</td>\n",
              "      <td>-0.960944</td>\n",
              "      <td>-1.531119</td>\n",
              "      <td>1.531119</td>\n",
              "      <td>...</td>\n",
              "      <td>1.255569</td>\n",
              "      <td>0.902699</td>\n",
              "      <td>-0.513358</td>\n",
              "      <td>-0.562606</td>\n",
              "      <td>1.205888</td>\n",
              "      <td>-1.205888</td>\n",
              "      <td>-0.526599</td>\n",
              "      <td>-0.532176</td>\n",
              "      <td>1.422093</td>\n",
              "      <td>-0.548578</td>\n",
              "    </tr>\n",
              "    <tr>\n",
              "      <th>1755</th>\n",
              "      <td>-0.438945</td>\n",
              "      <td>-0.545350</td>\n",
              "      <td>-0.136010</td>\n",
              "      <td>-0.434440</td>\n",
              "      <td>1.000759</td>\n",
              "      <td>-1.000759</td>\n",
              "      <td>0.960944</td>\n",
              "      <td>-0.960944</td>\n",
              "      <td>-1.531119</td>\n",
              "      <td>1.531119</td>\n",
              "      <td>...</td>\n",
              "      <td>-0.796452</td>\n",
              "      <td>0.902699</td>\n",
              "      <td>-0.513358</td>\n",
              "      <td>-0.562606</td>\n",
              "      <td>-0.829265</td>\n",
              "      <td>0.829265</td>\n",
              "      <td>-0.526599</td>\n",
              "      <td>-0.532176</td>\n",
              "      <td>1.422093</td>\n",
              "      <td>-0.548578</td>\n",
              "    </tr>\n",
              "    <tr>\n",
              "      <th>1756</th>\n",
              "      <td>-0.438945</td>\n",
              "      <td>1.537860</td>\n",
              "      <td>0.833595</td>\n",
              "      <td>1.807148</td>\n",
              "      <td>1.000759</td>\n",
              "      <td>-1.000759</td>\n",
              "      <td>0.960944</td>\n",
              "      <td>-0.960944</td>\n",
              "      <td>0.653117</td>\n",
              "      <td>-0.653117</td>\n",
              "      <td>...</td>\n",
              "      <td>1.255569</td>\n",
              "      <td>-1.107789</td>\n",
              "      <td>-0.513358</td>\n",
              "      <td>1.777444</td>\n",
              "      <td>1.205888</td>\n",
              "      <td>-1.205888</td>\n",
              "      <td>-0.526599</td>\n",
              "      <td>1.879076</td>\n",
              "      <td>-0.703189</td>\n",
              "      <td>-0.548578</td>\n",
              "    </tr>\n",
              "    <tr>\n",
              "      <th>1757</th>\n",
              "      <td>-0.438945</td>\n",
              "      <td>0.108206</td>\n",
              "      <td>-0.791282</td>\n",
              "      <td>-0.396501</td>\n",
              "      <td>1.000759</td>\n",
              "      <td>-1.000759</td>\n",
              "      <td>-1.040643</td>\n",
              "      <td>1.040643</td>\n",
              "      <td>-1.531119</td>\n",
              "      <td>1.531119</td>\n",
              "      <td>...</td>\n",
              "      <td>-0.796452</td>\n",
              "      <td>-1.107789</td>\n",
              "      <td>1.947959</td>\n",
              "      <td>-0.562606</td>\n",
              "      <td>1.205888</td>\n",
              "      <td>-1.205888</td>\n",
              "      <td>-0.526599</td>\n",
              "      <td>-0.532176</td>\n",
              "      <td>-0.703189</td>\n",
              "      <td>1.822896</td>\n",
              "    </tr>\n",
              "  </tbody>\n",
              "</table>\n",
              "<p>1758 rows × 45 columns</p>\n",
              "</div>\n",
              "      <button class=\"colab-df-convert\" onclick=\"convertToInteractive('df-1d808a61-be8f-4497-bc08-5c04c64632a2')\"\n",
              "              title=\"Convert this dataframe to an interactive table.\"\n",
              "              style=\"display:none;\">\n",
              "        \n",
              "  <svg xmlns=\"http://www.w3.org/2000/svg\" height=\"24px\"viewBox=\"0 0 24 24\"\n",
              "       width=\"24px\">\n",
              "    <path d=\"M0 0h24v24H0V0z\" fill=\"none\"/>\n",
              "    <path d=\"M18.56 5.44l.94 2.06.94-2.06 2.06-.94-2.06-.94-.94-2.06-.94 2.06-2.06.94zm-11 1L8.5 8.5l.94-2.06 2.06-.94-2.06-.94L8.5 2.5l-.94 2.06-2.06.94zm10 10l.94 2.06.94-2.06 2.06-.94-2.06-.94-.94-2.06-.94 2.06-2.06.94z\"/><path d=\"M17.41 7.96l-1.37-1.37c-.4-.4-.92-.59-1.43-.59-.52 0-1.04.2-1.43.59L10.3 9.45l-7.72 7.72c-.78.78-.78 2.05 0 2.83L4 21.41c.39.39.9.59 1.41.59.51 0 1.02-.2 1.41-.59l7.78-7.78 2.81-2.81c.8-.78.8-2.07 0-2.86zM5.41 20L4 18.59l7.72-7.72 1.47 1.35L5.41 20z\"/>\n",
              "  </svg>\n",
              "      </button>\n",
              "      \n",
              "  <style>\n",
              "    .colab-df-container {\n",
              "      display:flex;\n",
              "      flex-wrap:wrap;\n",
              "      gap: 12px;\n",
              "    }\n",
              "\n",
              "    .colab-df-convert {\n",
              "      background-color: #E8F0FE;\n",
              "      border: none;\n",
              "      border-radius: 50%;\n",
              "      cursor: pointer;\n",
              "      display: none;\n",
              "      fill: #1967D2;\n",
              "      height: 32px;\n",
              "      padding: 0 0 0 0;\n",
              "      width: 32px;\n",
              "    }\n",
              "\n",
              "    .colab-df-convert:hover {\n",
              "      background-color: #E2EBFA;\n",
              "      box-shadow: 0px 1px 2px rgba(60, 64, 67, 0.3), 0px 1px 3px 1px rgba(60, 64, 67, 0.15);\n",
              "      fill: #174EA6;\n",
              "    }\n",
              "\n",
              "    [theme=dark] .colab-df-convert {\n",
              "      background-color: #3B4455;\n",
              "      fill: #D2E3FC;\n",
              "    }\n",
              "\n",
              "    [theme=dark] .colab-df-convert:hover {\n",
              "      background-color: #434B5C;\n",
              "      box-shadow: 0px 1px 3px 1px rgba(0, 0, 0, 0.15);\n",
              "      filter: drop-shadow(0px 1px 2px rgba(0, 0, 0, 0.3));\n",
              "      fill: #FFFFFF;\n",
              "    }\n",
              "  </style>\n",
              "\n",
              "      <script>\n",
              "        const buttonEl =\n",
              "          document.querySelector('#df-1d808a61-be8f-4497-bc08-5c04c64632a2 button.colab-df-convert');\n",
              "        buttonEl.style.display =\n",
              "          google.colab.kernel.accessAllowed ? 'block' : 'none';\n",
              "\n",
              "        async function convertToInteractive(key) {\n",
              "          const element = document.querySelector('#df-1d808a61-be8f-4497-bc08-5c04c64632a2');\n",
              "          const dataTable =\n",
              "            await google.colab.kernel.invokeFunction('convertToInteractive',\n",
              "                                                     [key], {});\n",
              "          if (!dataTable) return;\n",
              "\n",
              "          const docLinkHtml = 'Like what you see? Visit the ' +\n",
              "            '<a target=\"_blank\" href=https://colab.research.google.com/notebooks/data_table.ipynb>data table notebook</a>'\n",
              "            + ' to learn more about interactive tables.';\n",
              "          element.innerHTML = '';\n",
              "          dataTable['output_type'] = 'display_data';\n",
              "          await google.colab.output.renderOutput(dataTable, element);\n",
              "          const docLink = document.createElement('div');\n",
              "          docLink.innerHTML = docLinkHtml;\n",
              "          element.appendChild(docLink);\n",
              "        }\n",
              "      </script>\n",
              "    </div>\n",
              "  </div>\n",
              "  "
            ]
          },
          "metadata": {},
          "execution_count": 342
        }
      ]
    },
    {
      "cell_type": "code",
      "source": [
        "X_test_proba = modelR.predict_proba(X_test)\n",
        "X_test_proba"
      ],
      "metadata": {
        "colab": {
          "base_uri": "https://localhost:8080/"
        },
        "id": "dqGJh-LcD6he",
        "outputId": "c1110685-2919-4de5-d8ba-2bb1775c2a3d"
      },
      "execution_count": null,
      "outputs": [
        {
          "output_type": "stream",
          "name": "stderr",
          "text": [
            "/usr/local/lib/python3.8/dist-packages/sklearn/base.py:443: UserWarning: X has feature names, but LogisticRegression was fitted without feature names\n",
            "  warnings.warn(\n"
          ]
        },
        {
          "output_type": "execute_result",
          "data": {
            "text/plain": [
              "array([[4.41678853e-01, 5.58321147e-01],\n",
              "       [9.99844588e-01, 1.55411753e-04],\n",
              "       [9.99710052e-01, 2.89947638e-04],\n",
              "       ...,\n",
              "       [9.64132113e-01, 3.58678867e-02],\n",
              "       [9.99114467e-01, 8.85532663e-04],\n",
              "       [9.92256790e-01, 7.74321048e-03]])"
            ]
          },
          "metadata": {},
          "execution_count": 343
        }
      ]
    },
    {
      "cell_type": "code",
      "source": [
        "\"\"\"X_test['proba_partir'] = X_test_proba[:,1:]\n",
        "X_test['proba_partir']\n",
        "X_test['proba_partir'].sort_values(ascending=False)\"\"\""
      ],
      "metadata": {
        "colab": {
          "base_uri": "https://localhost:8080/"
        },
        "id": "RFi8fN5uEN6k",
        "outputId": "bd71e664-4288-448c-ff4e-247cf53fa355"
      },
      "execution_count": null,
      "outputs": [
        {
          "output_type": "execute_result",
          "data": {
            "text/plain": [
              "526     0.991989\n",
              "1701    0.991648\n",
              "525     0.991386\n",
              "132     0.990866\n",
              "1633    0.990862\n",
              "          ...   \n",
              "503     0.000124\n",
              "523     0.000123\n",
              "1644    0.000120\n",
              "945     0.000111\n",
              "1206    0.000110\n",
              "Name: proba_partir, Length: 1758, dtype: float64"
            ]
          },
          "metadata": {},
          "execution_count": 339
        }
      ]
    },
    {
      "cell_type": "code",
      "source": [
        "prob_with_prob=X_test.copy()\n",
        "prob_with_prob[['predict_rester','predict_partir']] = modelR.predict_proba(X_test)\n",
        "prob_with_prob"
      ],
      "metadata": {
        "colab": {
          "base_uri": "https://localhost:8080/",
          "height": 558
        },
        "id": "r5D-__0NKlWq",
        "outputId": "ad5785ab-d755-41fb-89e9-6c4006fcc3b6"
      },
      "execution_count": null,
      "outputs": [
        {
          "output_type": "stream",
          "name": "stderr",
          "text": [
            "/usr/local/lib/python3.8/dist-packages/sklearn/base.py:443: UserWarning: X has feature names, but LogisticRegression was fitted without feature names\n",
            "  warnings.warn(\n"
          ]
        },
        {
          "output_type": "execute_result",
          "data": {
            "text/plain": [
              "      SeniorCitizen    tenure  MonthlyCharges  TotalCharges  gender_Female  \\\n",
              "0         -0.438945 -1.280601        0.481011     -0.973302       1.000759   \n",
              "1         -0.438945  1.578707       -1.356746     -0.272734       1.000759   \n",
              "2         -0.438945  1.619554        0.515937      1.518405       1.000759   \n",
              "3         -0.438945  0.680067       -0.799598     -0.092656       1.000759   \n",
              "4         -0.438945  1.251929        1.334196      1.908872      -0.999242   \n",
              "...             ...       ...             ...           ...            ...   \n",
              "1753      -0.438945  1.578707        0.838584      1.846923      -0.999242   \n",
              "1754      -0.438945 -1.280601       -0.182577     -0.982124       1.000759   \n",
              "1755      -0.438945 -0.545350       -0.136010     -0.434440       1.000759   \n",
              "1756      -0.438945  1.537860        0.833595      1.807148       1.000759   \n",
              "1757      -0.438945  0.108206       -0.791282     -0.396501       1.000759   \n",
              "\n",
              "      gender_Male  Partner_No  Partner_Yes  Dependents_No  Dependents_Yes  \\\n",
              "0       -1.000759    0.960944    -0.960944       0.653117       -0.653117   \n",
              "1       -1.000759   -1.040643     1.040643      -1.531119        1.531119   \n",
              "2       -1.000759   -1.040643     1.040643      -1.531119        1.531119   \n",
              "3       -1.000759   -1.040643     1.040643       0.653117       -0.653117   \n",
              "4        0.999242   -1.040643     1.040643      -1.531119        1.531119   \n",
              "...           ...         ...          ...            ...             ...   \n",
              "1753     0.999242   -1.040643     1.040643      -1.531119        1.531119   \n",
              "1754    -1.000759    0.960944    -0.960944      -1.531119        1.531119   \n",
              "1755    -1.000759    0.960944    -0.960944      -1.531119        1.531119   \n",
              "1756    -1.000759    0.960944    -0.960944       0.653117       -0.653117   \n",
              "1757    -1.000759   -1.040643     1.040643      -1.531119        1.531119   \n",
              "\n",
              "      ...  Contract_One year  Contract_Two year  PaperlessBilling_No  \\\n",
              "0     ...          -0.513358          -0.562606            -0.829265   \n",
              "1     ...          -0.513358           1.777444             1.205888   \n",
              "2     ...          -0.513358           1.777444             1.205888   \n",
              "3     ...          -0.513358          -0.562606             1.205888   \n",
              "4     ...          -0.513358           1.777444            -0.829265   \n",
              "...   ...                ...                ...                  ...   \n",
              "1753  ...          -0.513358           1.777444             1.205888   \n",
              "1754  ...          -0.513358          -0.562606             1.205888   \n",
              "1755  ...          -0.513358          -0.562606            -0.829265   \n",
              "1756  ...          -0.513358           1.777444             1.205888   \n",
              "1757  ...           1.947959          -0.562606             1.205888   \n",
              "\n",
              "      PaperlessBilling_Yes  PaymentMethod_Bank transfer (automatic)  \\\n",
              "0                 0.829265                                -0.526599   \n",
              "1                -1.205888                                -0.526599   \n",
              "2                -1.205888                                 1.898977   \n",
              "3                -1.205888                                 1.898977   \n",
              "4                 0.829265                                 1.898977   \n",
              "...                    ...                                      ...   \n",
              "1753             -1.205888                                -0.526599   \n",
              "1754             -1.205888                                -0.526599   \n",
              "1755              0.829265                                -0.526599   \n",
              "1756             -1.205888                                -0.526599   \n",
              "1757             -1.205888                                -0.526599   \n",
              "\n",
              "      PaymentMethod_Credit card (automatic)  PaymentMethod_Electronic check  \\\n",
              "0                                 -0.532176                       -0.703189   \n",
              "1                                  1.879076                       -0.703189   \n",
              "2                                 -0.532176                       -0.703189   \n",
              "3                                 -0.532176                       -0.703189   \n",
              "4                                 -0.532176                       -0.703189   \n",
              "...                                     ...                             ...   \n",
              "1753                               1.879076                       -0.703189   \n",
              "1754                              -0.532176                        1.422093   \n",
              "1755                              -0.532176                        1.422093   \n",
              "1756                               1.879076                       -0.703189   \n",
              "1757                              -0.532176                       -0.703189   \n",
              "\n",
              "      PaymentMethod_Mailed check  predict_rester  predict_partir  \n",
              "0                       1.822896        0.441679        0.558321  \n",
              "1                      -0.548578        0.999845        0.000155  \n",
              "2                      -0.548578        0.999710        0.000290  \n",
              "3                      -0.548578        0.994357        0.005643  \n",
              "4                      -0.548578        0.951661        0.048339  \n",
              "...                          ...             ...             ...  \n",
              "1753                   -0.548578        0.999242        0.000758  \n",
              "1754                   -0.548578        0.082740        0.917260  \n",
              "1755                   -0.548578        0.964132        0.035868  \n",
              "1756                   -0.548578        0.999114        0.000886  \n",
              "1757                    1.822896        0.992257        0.007743  \n",
              "\n",
              "[1758 rows x 47 columns]"
            ],
            "text/html": [
              "\n",
              "  <div id=\"df-142a5059-c8ae-4cb7-9c79-a2a592cf94b3\">\n",
              "    <div class=\"colab-df-container\">\n",
              "      <div>\n",
              "<style scoped>\n",
              "    .dataframe tbody tr th:only-of-type {\n",
              "        vertical-align: middle;\n",
              "    }\n",
              "\n",
              "    .dataframe tbody tr th {\n",
              "        vertical-align: top;\n",
              "    }\n",
              "\n",
              "    .dataframe thead th {\n",
              "        text-align: right;\n",
              "    }\n",
              "</style>\n",
              "<table border=\"1\" class=\"dataframe\">\n",
              "  <thead>\n",
              "    <tr style=\"text-align: right;\">\n",
              "      <th></th>\n",
              "      <th>SeniorCitizen</th>\n",
              "      <th>tenure</th>\n",
              "      <th>MonthlyCharges</th>\n",
              "      <th>TotalCharges</th>\n",
              "      <th>gender_Female</th>\n",
              "      <th>gender_Male</th>\n",
              "      <th>Partner_No</th>\n",
              "      <th>Partner_Yes</th>\n",
              "      <th>Dependents_No</th>\n",
              "      <th>Dependents_Yes</th>\n",
              "      <th>...</th>\n",
              "      <th>Contract_One year</th>\n",
              "      <th>Contract_Two year</th>\n",
              "      <th>PaperlessBilling_No</th>\n",
              "      <th>PaperlessBilling_Yes</th>\n",
              "      <th>PaymentMethod_Bank transfer (automatic)</th>\n",
              "      <th>PaymentMethod_Credit card (automatic)</th>\n",
              "      <th>PaymentMethod_Electronic check</th>\n",
              "      <th>PaymentMethod_Mailed check</th>\n",
              "      <th>predict_rester</th>\n",
              "      <th>predict_partir</th>\n",
              "    </tr>\n",
              "  </thead>\n",
              "  <tbody>\n",
              "    <tr>\n",
              "      <th>0</th>\n",
              "      <td>-0.438945</td>\n",
              "      <td>-1.280601</td>\n",
              "      <td>0.481011</td>\n",
              "      <td>-0.973302</td>\n",
              "      <td>1.000759</td>\n",
              "      <td>-1.000759</td>\n",
              "      <td>0.960944</td>\n",
              "      <td>-0.960944</td>\n",
              "      <td>0.653117</td>\n",
              "      <td>-0.653117</td>\n",
              "      <td>...</td>\n",
              "      <td>-0.513358</td>\n",
              "      <td>-0.562606</td>\n",
              "      <td>-0.829265</td>\n",
              "      <td>0.829265</td>\n",
              "      <td>-0.526599</td>\n",
              "      <td>-0.532176</td>\n",
              "      <td>-0.703189</td>\n",
              "      <td>1.822896</td>\n",
              "      <td>0.441679</td>\n",
              "      <td>0.558321</td>\n",
              "    </tr>\n",
              "    <tr>\n",
              "      <th>1</th>\n",
              "      <td>-0.438945</td>\n",
              "      <td>1.578707</td>\n",
              "      <td>-1.356746</td>\n",
              "      <td>-0.272734</td>\n",
              "      <td>1.000759</td>\n",
              "      <td>-1.000759</td>\n",
              "      <td>-1.040643</td>\n",
              "      <td>1.040643</td>\n",
              "      <td>-1.531119</td>\n",
              "      <td>1.531119</td>\n",
              "      <td>...</td>\n",
              "      <td>-0.513358</td>\n",
              "      <td>1.777444</td>\n",
              "      <td>1.205888</td>\n",
              "      <td>-1.205888</td>\n",
              "      <td>-0.526599</td>\n",
              "      <td>1.879076</td>\n",
              "      <td>-0.703189</td>\n",
              "      <td>-0.548578</td>\n",
              "      <td>0.999845</td>\n",
              "      <td>0.000155</td>\n",
              "    </tr>\n",
              "    <tr>\n",
              "      <th>2</th>\n",
              "      <td>-0.438945</td>\n",
              "      <td>1.619554</td>\n",
              "      <td>0.515937</td>\n",
              "      <td>1.518405</td>\n",
              "      <td>1.000759</td>\n",
              "      <td>-1.000759</td>\n",
              "      <td>-1.040643</td>\n",
              "      <td>1.040643</td>\n",
              "      <td>-1.531119</td>\n",
              "      <td>1.531119</td>\n",
              "      <td>...</td>\n",
              "      <td>-0.513358</td>\n",
              "      <td>1.777444</td>\n",
              "      <td>1.205888</td>\n",
              "      <td>-1.205888</td>\n",
              "      <td>1.898977</td>\n",
              "      <td>-0.532176</td>\n",
              "      <td>-0.703189</td>\n",
              "      <td>-0.548578</td>\n",
              "      <td>0.999710</td>\n",
              "      <td>0.000290</td>\n",
              "    </tr>\n",
              "    <tr>\n",
              "      <th>3</th>\n",
              "      <td>-0.438945</td>\n",
              "      <td>0.680067</td>\n",
              "      <td>-0.799598</td>\n",
              "      <td>-0.092656</td>\n",
              "      <td>1.000759</td>\n",
              "      <td>-1.000759</td>\n",
              "      <td>-1.040643</td>\n",
              "      <td>1.040643</td>\n",
              "      <td>0.653117</td>\n",
              "      <td>-0.653117</td>\n",
              "      <td>...</td>\n",
              "      <td>-0.513358</td>\n",
              "      <td>-0.562606</td>\n",
              "      <td>1.205888</td>\n",
              "      <td>-1.205888</td>\n",
              "      <td>1.898977</td>\n",
              "      <td>-0.532176</td>\n",
              "      <td>-0.703189</td>\n",
              "      <td>-0.548578</td>\n",
              "      <td>0.994357</td>\n",
              "      <td>0.005643</td>\n",
              "    </tr>\n",
              "    <tr>\n",
              "      <th>4</th>\n",
              "      <td>-0.438945</td>\n",
              "      <td>1.251929</td>\n",
              "      <td>1.334196</td>\n",
              "      <td>1.908872</td>\n",
              "      <td>-0.999242</td>\n",
              "      <td>0.999242</td>\n",
              "      <td>-1.040643</td>\n",
              "      <td>1.040643</td>\n",
              "      <td>-1.531119</td>\n",
              "      <td>1.531119</td>\n",
              "      <td>...</td>\n",
              "      <td>-0.513358</td>\n",
              "      <td>1.777444</td>\n",
              "      <td>-0.829265</td>\n",
              "      <td>0.829265</td>\n",
              "      <td>1.898977</td>\n",
              "      <td>-0.532176</td>\n",
              "      <td>-0.703189</td>\n",
              "      <td>-0.548578</td>\n",
              "      <td>0.951661</td>\n",
              "      <td>0.048339</td>\n",
              "    </tr>\n",
              "    <tr>\n",
              "      <th>...</th>\n",
              "      <td>...</td>\n",
              "      <td>...</td>\n",
              "      <td>...</td>\n",
              "      <td>...</td>\n",
              "      <td>...</td>\n",
              "      <td>...</td>\n",
              "      <td>...</td>\n",
              "      <td>...</td>\n",
              "      <td>...</td>\n",
              "      <td>...</td>\n",
              "      <td>...</td>\n",
              "      <td>...</td>\n",
              "      <td>...</td>\n",
              "      <td>...</td>\n",
              "      <td>...</td>\n",
              "      <td>...</td>\n",
              "      <td>...</td>\n",
              "      <td>...</td>\n",
              "      <td>...</td>\n",
              "      <td>...</td>\n",
              "      <td>...</td>\n",
              "    </tr>\n",
              "    <tr>\n",
              "      <th>1753</th>\n",
              "      <td>-0.438945</td>\n",
              "      <td>1.578707</td>\n",
              "      <td>0.838584</td>\n",
              "      <td>1.846923</td>\n",
              "      <td>-0.999242</td>\n",
              "      <td>0.999242</td>\n",
              "      <td>-1.040643</td>\n",
              "      <td>1.040643</td>\n",
              "      <td>-1.531119</td>\n",
              "      <td>1.531119</td>\n",
              "      <td>...</td>\n",
              "      <td>-0.513358</td>\n",
              "      <td>1.777444</td>\n",
              "      <td>1.205888</td>\n",
              "      <td>-1.205888</td>\n",
              "      <td>-0.526599</td>\n",
              "      <td>1.879076</td>\n",
              "      <td>-0.703189</td>\n",
              "      <td>-0.548578</td>\n",
              "      <td>0.999242</td>\n",
              "      <td>0.000758</td>\n",
              "    </tr>\n",
              "    <tr>\n",
              "      <th>1754</th>\n",
              "      <td>-0.438945</td>\n",
              "      <td>-1.280601</td>\n",
              "      <td>-0.182577</td>\n",
              "      <td>-0.982124</td>\n",
              "      <td>1.000759</td>\n",
              "      <td>-1.000759</td>\n",
              "      <td>0.960944</td>\n",
              "      <td>-0.960944</td>\n",
              "      <td>-1.531119</td>\n",
              "      <td>1.531119</td>\n",
              "      <td>...</td>\n",
              "      <td>-0.513358</td>\n",
              "      <td>-0.562606</td>\n",
              "      <td>1.205888</td>\n",
              "      <td>-1.205888</td>\n",
              "      <td>-0.526599</td>\n",
              "      <td>-0.532176</td>\n",
              "      <td>1.422093</td>\n",
              "      <td>-0.548578</td>\n",
              "      <td>0.082740</td>\n",
              "      <td>0.917260</td>\n",
              "    </tr>\n",
              "    <tr>\n",
              "      <th>1755</th>\n",
              "      <td>-0.438945</td>\n",
              "      <td>-0.545350</td>\n",
              "      <td>-0.136010</td>\n",
              "      <td>-0.434440</td>\n",
              "      <td>1.000759</td>\n",
              "      <td>-1.000759</td>\n",
              "      <td>0.960944</td>\n",
              "      <td>-0.960944</td>\n",
              "      <td>-1.531119</td>\n",
              "      <td>1.531119</td>\n",
              "      <td>...</td>\n",
              "      <td>-0.513358</td>\n",
              "      <td>-0.562606</td>\n",
              "      <td>-0.829265</td>\n",
              "      <td>0.829265</td>\n",
              "      <td>-0.526599</td>\n",
              "      <td>-0.532176</td>\n",
              "      <td>1.422093</td>\n",
              "      <td>-0.548578</td>\n",
              "      <td>0.964132</td>\n",
              "      <td>0.035868</td>\n",
              "    </tr>\n",
              "    <tr>\n",
              "      <th>1756</th>\n",
              "      <td>-0.438945</td>\n",
              "      <td>1.537860</td>\n",
              "      <td>0.833595</td>\n",
              "      <td>1.807148</td>\n",
              "      <td>1.000759</td>\n",
              "      <td>-1.000759</td>\n",
              "      <td>0.960944</td>\n",
              "      <td>-0.960944</td>\n",
              "      <td>0.653117</td>\n",
              "      <td>-0.653117</td>\n",
              "      <td>...</td>\n",
              "      <td>-0.513358</td>\n",
              "      <td>1.777444</td>\n",
              "      <td>1.205888</td>\n",
              "      <td>-1.205888</td>\n",
              "      <td>-0.526599</td>\n",
              "      <td>1.879076</td>\n",
              "      <td>-0.703189</td>\n",
              "      <td>-0.548578</td>\n",
              "      <td>0.999114</td>\n",
              "      <td>0.000886</td>\n",
              "    </tr>\n",
              "    <tr>\n",
              "      <th>1757</th>\n",
              "      <td>-0.438945</td>\n",
              "      <td>0.108206</td>\n",
              "      <td>-0.791282</td>\n",
              "      <td>-0.396501</td>\n",
              "      <td>1.000759</td>\n",
              "      <td>-1.000759</td>\n",
              "      <td>-1.040643</td>\n",
              "      <td>1.040643</td>\n",
              "      <td>-1.531119</td>\n",
              "      <td>1.531119</td>\n",
              "      <td>...</td>\n",
              "      <td>1.947959</td>\n",
              "      <td>-0.562606</td>\n",
              "      <td>1.205888</td>\n",
              "      <td>-1.205888</td>\n",
              "      <td>-0.526599</td>\n",
              "      <td>-0.532176</td>\n",
              "      <td>-0.703189</td>\n",
              "      <td>1.822896</td>\n",
              "      <td>0.992257</td>\n",
              "      <td>0.007743</td>\n",
              "    </tr>\n",
              "  </tbody>\n",
              "</table>\n",
              "<p>1758 rows × 47 columns</p>\n",
              "</div>\n",
              "      <button class=\"colab-df-convert\" onclick=\"convertToInteractive('df-142a5059-c8ae-4cb7-9c79-a2a592cf94b3')\"\n",
              "              title=\"Convert this dataframe to an interactive table.\"\n",
              "              style=\"display:none;\">\n",
              "        \n",
              "  <svg xmlns=\"http://www.w3.org/2000/svg\" height=\"24px\"viewBox=\"0 0 24 24\"\n",
              "       width=\"24px\">\n",
              "    <path d=\"M0 0h24v24H0V0z\" fill=\"none\"/>\n",
              "    <path d=\"M18.56 5.44l.94 2.06.94-2.06 2.06-.94-2.06-.94-.94-2.06-.94 2.06-2.06.94zm-11 1L8.5 8.5l.94-2.06 2.06-.94-2.06-.94L8.5 2.5l-.94 2.06-2.06.94zm10 10l.94 2.06.94-2.06 2.06-.94-2.06-.94-.94-2.06-.94 2.06-2.06.94z\"/><path d=\"M17.41 7.96l-1.37-1.37c-.4-.4-.92-.59-1.43-.59-.52 0-1.04.2-1.43.59L10.3 9.45l-7.72 7.72c-.78.78-.78 2.05 0 2.83L4 21.41c.39.39.9.59 1.41.59.51 0 1.02-.2 1.41-.59l7.78-7.78 2.81-2.81c.8-.78.8-2.07 0-2.86zM5.41 20L4 18.59l7.72-7.72 1.47 1.35L5.41 20z\"/>\n",
              "  </svg>\n",
              "      </button>\n",
              "      \n",
              "  <style>\n",
              "    .colab-df-container {\n",
              "      display:flex;\n",
              "      flex-wrap:wrap;\n",
              "      gap: 12px;\n",
              "    }\n",
              "\n",
              "    .colab-df-convert {\n",
              "      background-color: #E8F0FE;\n",
              "      border: none;\n",
              "      border-radius: 50%;\n",
              "      cursor: pointer;\n",
              "      display: none;\n",
              "      fill: #1967D2;\n",
              "      height: 32px;\n",
              "      padding: 0 0 0 0;\n",
              "      width: 32px;\n",
              "    }\n",
              "\n",
              "    .colab-df-convert:hover {\n",
              "      background-color: #E2EBFA;\n",
              "      box-shadow: 0px 1px 2px rgba(60, 64, 67, 0.3), 0px 1px 3px 1px rgba(60, 64, 67, 0.15);\n",
              "      fill: #174EA6;\n",
              "    }\n",
              "\n",
              "    [theme=dark] .colab-df-convert {\n",
              "      background-color: #3B4455;\n",
              "      fill: #D2E3FC;\n",
              "    }\n",
              "\n",
              "    [theme=dark] .colab-df-convert:hover {\n",
              "      background-color: #434B5C;\n",
              "      box-shadow: 0px 1px 3px 1px rgba(0, 0, 0, 0.15);\n",
              "      filter: drop-shadow(0px 1px 2px rgba(0, 0, 0, 0.3));\n",
              "      fill: #FFFFFF;\n",
              "    }\n",
              "  </style>\n",
              "\n",
              "      <script>\n",
              "        const buttonEl =\n",
              "          document.querySelector('#df-142a5059-c8ae-4cb7-9c79-a2a592cf94b3 button.colab-df-convert');\n",
              "        buttonEl.style.display =\n",
              "          google.colab.kernel.accessAllowed ? 'block' : 'none';\n",
              "\n",
              "        async function convertToInteractive(key) {\n",
              "          const element = document.querySelector('#df-142a5059-c8ae-4cb7-9c79-a2a592cf94b3');\n",
              "          const dataTable =\n",
              "            await google.colab.kernel.invokeFunction('convertToInteractive',\n",
              "                                                     [key], {});\n",
              "          if (!dataTable) return;\n",
              "\n",
              "          const docLinkHtml = 'Like what you see? Visit the ' +\n",
              "            '<a target=\"_blank\" href=https://colab.research.google.com/notebooks/data_table.ipynb>data table notebook</a>'\n",
              "            + ' to learn more about interactive tables.';\n",
              "          element.innerHTML = '';\n",
              "          dataTable['output_type'] = 'display_data';\n",
              "          await google.colab.output.renderOutput(dataTable, element);\n",
              "          const docLink = document.createElement('div');\n",
              "          docLink.innerHTML = docLinkHtml;\n",
              "          element.appendChild(docLink);\n",
              "        }\n",
              "      </script>\n",
              "    </div>\n",
              "  </div>\n",
              "  "
            ]
          },
          "metadata": {},
          "execution_count": 344
        }
      ]
    },
    {
      "cell_type": "code",
      "source": [
        "prob_with_prob.sort_values(by='predict_partir' , ascending=False, inplace=True)\n",
        "prob_with_prob"
      ],
      "metadata": {
        "colab": {
          "base_uri": "https://localhost:8080/",
          "height": 523
        },
        "id": "abHK9N5rLt_p",
        "outputId": "f212945a-23bc-48d8-fdbf-a6c34bf6fe8c"
      },
      "execution_count": null,
      "outputs": [
        {
          "output_type": "execute_result",
          "data": {
            "text/plain": [
              "      SeniorCitizen    tenure  MonthlyCharges  TotalCharges  gender_Female  \\\n",
              "526        2.278188 -1.280601        0.677261     -0.970694       1.000759   \n",
              "1701       2.278188 -1.280601        0.974961     -0.966736      -0.999242   \n",
              "525        2.278188 -1.280601        1.011549     -0.966250      -0.999242   \n",
              "132        2.278188 -1.280601        0.332993     -0.975270      -0.999242   \n",
              "1633       2.278188 -1.198907        0.377897     -0.905804      -0.999242   \n",
              "...             ...       ...             ...           ...            ...   \n",
              "503       -0.438945  1.333624       -0.192556      0.697232       1.000759   \n",
              "523       -0.438945  1.619554       -1.501438     -0.361192       1.000759   \n",
              "1644      -0.438945  1.415318       -0.964248      0.117357       1.000759   \n",
              "945       -0.438945  1.456165       -0.067821      0.926591      -0.999242   \n",
              "1206      -0.438945  1.619554       -1.506428     -0.405499      -0.999242   \n",
              "\n",
              "      gender_Male  Partner_No  Partner_Yes  Dependents_No  Dependents_Yes  \\\n",
              "526     -1.000759    0.960944    -0.960944       0.653117       -0.653117   \n",
              "1701     0.999242    0.960944    -0.960944       0.653117       -0.653117   \n",
              "525      0.999242   -1.040643     1.040643       0.653117       -0.653117   \n",
              "132      0.999242    0.960944    -0.960944       0.653117       -0.653117   \n",
              "1633     0.999242    0.960944    -0.960944       0.653117       -0.653117   \n",
              "...           ...         ...          ...            ...             ...   \n",
              "503     -1.000759   -1.040643     1.040643       0.653117       -0.653117   \n",
              "523     -1.000759   -1.040643     1.040643      -1.531119        1.531119   \n",
              "1644    -1.000759   -1.040643     1.040643      -1.531119        1.531119   \n",
              "945      0.999242   -1.040643     1.040643      -1.531119        1.531119   \n",
              "1206     0.999242   -1.040643     1.040643      -1.531119        1.531119   \n",
              "\n",
              "      ...  Contract_One year  Contract_Two year  PaperlessBilling_No  \\\n",
              "526   ...          -0.513358          -0.562606            -0.829265   \n",
              "1701  ...          -0.513358          -0.562606            -0.829265   \n",
              "525   ...          -0.513358          -0.562606            -0.829265   \n",
              "132   ...          -0.513358          -0.562606            -0.829265   \n",
              "1633  ...          -0.513358          -0.562606            -0.829265   \n",
              "...   ...                ...                ...                  ...   \n",
              "503   ...          -0.513358           1.777444             1.205888   \n",
              "523   ...          -0.513358           1.777444             1.205888   \n",
              "1644  ...          -0.513358           1.777444             1.205888   \n",
              "945   ...          -0.513358           1.777444             1.205888   \n",
              "1206  ...          -0.513358           1.777444             1.205888   \n",
              "\n",
              "      PaperlessBilling_Yes  PaymentMethod_Bank transfer (automatic)  \\\n",
              "526               0.829265                                -0.526599   \n",
              "1701              0.829265                                -0.526599   \n",
              "525               0.829265                                -0.526599   \n",
              "132               0.829265                                -0.526599   \n",
              "1633              0.829265                                -0.526599   \n",
              "...                    ...                                      ...   \n",
              "503              -1.205888                                -0.526599   \n",
              "523              -1.205888                                 1.898977   \n",
              "1644             -1.205888                                -0.526599   \n",
              "945              -1.205888                                -0.526599   \n",
              "1206             -1.205888                                -0.526599   \n",
              "\n",
              "      PaymentMethod_Credit card (automatic)  PaymentMethod_Electronic check  \\\n",
              "526                               -0.532176                        1.422093   \n",
              "1701                              -0.532176                        1.422093   \n",
              "525                               -0.532176                        1.422093   \n",
              "132                               -0.532176                        1.422093   \n",
              "1633                              -0.532176                        1.422093   \n",
              "...                                     ...                             ...   \n",
              "503                                1.879076                       -0.703189   \n",
              "523                               -0.532176                       -0.703189   \n",
              "1644                               1.879076                       -0.703189   \n",
              "945                                1.879076                       -0.703189   \n",
              "1206                               1.879076                       -0.703189   \n",
              "\n",
              "      PaymentMethod_Mailed check  predict_rester  predict_partir  \n",
              "526                    -0.548578        0.008011        0.991989  \n",
              "1701                   -0.548578        0.008352        0.991648  \n",
              "525                    -0.548578        0.008614        0.991386  \n",
              "132                    -0.548578        0.009134        0.990866  \n",
              "1633                   -0.548578        0.009138        0.990862  \n",
              "...                          ...             ...             ...  \n",
              "503                    -0.548578        0.999876        0.000124  \n",
              "523                    -0.548578        0.999877        0.000123  \n",
              "1644                   -0.548578        0.999880        0.000120  \n",
              "945                    -0.548578        0.999889        0.000111  \n",
              "1206                   -0.548578        0.999890        0.000110  \n",
              "\n",
              "[1758 rows x 47 columns]"
            ],
            "text/html": [
              "\n",
              "  <div id=\"df-246a0119-bafb-45c5-a31e-59b0b908a1c6\">\n",
              "    <div class=\"colab-df-container\">\n",
              "      <div>\n",
              "<style scoped>\n",
              "    .dataframe tbody tr th:only-of-type {\n",
              "        vertical-align: middle;\n",
              "    }\n",
              "\n",
              "    .dataframe tbody tr th {\n",
              "        vertical-align: top;\n",
              "    }\n",
              "\n",
              "    .dataframe thead th {\n",
              "        text-align: right;\n",
              "    }\n",
              "</style>\n",
              "<table border=\"1\" class=\"dataframe\">\n",
              "  <thead>\n",
              "    <tr style=\"text-align: right;\">\n",
              "      <th></th>\n",
              "      <th>SeniorCitizen</th>\n",
              "      <th>tenure</th>\n",
              "      <th>MonthlyCharges</th>\n",
              "      <th>TotalCharges</th>\n",
              "      <th>gender_Female</th>\n",
              "      <th>gender_Male</th>\n",
              "      <th>Partner_No</th>\n",
              "      <th>Partner_Yes</th>\n",
              "      <th>Dependents_No</th>\n",
              "      <th>Dependents_Yes</th>\n",
              "      <th>...</th>\n",
              "      <th>Contract_One year</th>\n",
              "      <th>Contract_Two year</th>\n",
              "      <th>PaperlessBilling_No</th>\n",
              "      <th>PaperlessBilling_Yes</th>\n",
              "      <th>PaymentMethod_Bank transfer (automatic)</th>\n",
              "      <th>PaymentMethod_Credit card (automatic)</th>\n",
              "      <th>PaymentMethod_Electronic check</th>\n",
              "      <th>PaymentMethod_Mailed check</th>\n",
              "      <th>predict_rester</th>\n",
              "      <th>predict_partir</th>\n",
              "    </tr>\n",
              "  </thead>\n",
              "  <tbody>\n",
              "    <tr>\n",
              "      <th>526</th>\n",
              "      <td>2.278188</td>\n",
              "      <td>-1.280601</td>\n",
              "      <td>0.677261</td>\n",
              "      <td>-0.970694</td>\n",
              "      <td>1.000759</td>\n",
              "      <td>-1.000759</td>\n",
              "      <td>0.960944</td>\n",
              "      <td>-0.960944</td>\n",
              "      <td>0.653117</td>\n",
              "      <td>-0.653117</td>\n",
              "      <td>...</td>\n",
              "      <td>-0.513358</td>\n",
              "      <td>-0.562606</td>\n",
              "      <td>-0.829265</td>\n",
              "      <td>0.829265</td>\n",
              "      <td>-0.526599</td>\n",
              "      <td>-0.532176</td>\n",
              "      <td>1.422093</td>\n",
              "      <td>-0.548578</td>\n",
              "      <td>0.008011</td>\n",
              "      <td>0.991989</td>\n",
              "    </tr>\n",
              "    <tr>\n",
              "      <th>1701</th>\n",
              "      <td>2.278188</td>\n",
              "      <td>-1.280601</td>\n",
              "      <td>0.974961</td>\n",
              "      <td>-0.966736</td>\n",
              "      <td>-0.999242</td>\n",
              "      <td>0.999242</td>\n",
              "      <td>0.960944</td>\n",
              "      <td>-0.960944</td>\n",
              "      <td>0.653117</td>\n",
              "      <td>-0.653117</td>\n",
              "      <td>...</td>\n",
              "      <td>-0.513358</td>\n",
              "      <td>-0.562606</td>\n",
              "      <td>-0.829265</td>\n",
              "      <td>0.829265</td>\n",
              "      <td>-0.526599</td>\n",
              "      <td>-0.532176</td>\n",
              "      <td>1.422093</td>\n",
              "      <td>-0.548578</td>\n",
              "      <td>0.008352</td>\n",
              "      <td>0.991648</td>\n",
              "    </tr>\n",
              "    <tr>\n",
              "      <th>525</th>\n",
              "      <td>2.278188</td>\n",
              "      <td>-1.280601</td>\n",
              "      <td>1.011549</td>\n",
              "      <td>-0.966250</td>\n",
              "      <td>-0.999242</td>\n",
              "      <td>0.999242</td>\n",
              "      <td>-1.040643</td>\n",
              "      <td>1.040643</td>\n",
              "      <td>0.653117</td>\n",
              "      <td>-0.653117</td>\n",
              "      <td>...</td>\n",
              "      <td>-0.513358</td>\n",
              "      <td>-0.562606</td>\n",
              "      <td>-0.829265</td>\n",
              "      <td>0.829265</td>\n",
              "      <td>-0.526599</td>\n",
              "      <td>-0.532176</td>\n",
              "      <td>1.422093</td>\n",
              "      <td>-0.548578</td>\n",
              "      <td>0.008614</td>\n",
              "      <td>0.991386</td>\n",
              "    </tr>\n",
              "    <tr>\n",
              "      <th>132</th>\n",
              "      <td>2.278188</td>\n",
              "      <td>-1.280601</td>\n",
              "      <td>0.332993</td>\n",
              "      <td>-0.975270</td>\n",
              "      <td>-0.999242</td>\n",
              "      <td>0.999242</td>\n",
              "      <td>0.960944</td>\n",
              "      <td>-0.960944</td>\n",
              "      <td>0.653117</td>\n",
              "      <td>-0.653117</td>\n",
              "      <td>...</td>\n",
              "      <td>-0.513358</td>\n",
              "      <td>-0.562606</td>\n",
              "      <td>-0.829265</td>\n",
              "      <td>0.829265</td>\n",
              "      <td>-0.526599</td>\n",
              "      <td>-0.532176</td>\n",
              "      <td>1.422093</td>\n",
              "      <td>-0.548578</td>\n",
              "      <td>0.009134</td>\n",
              "      <td>0.990866</td>\n",
              "    </tr>\n",
              "    <tr>\n",
              "      <th>1633</th>\n",
              "      <td>2.278188</td>\n",
              "      <td>-1.198907</td>\n",
              "      <td>0.377897</td>\n",
              "      <td>-0.905804</td>\n",
              "      <td>-0.999242</td>\n",
              "      <td>0.999242</td>\n",
              "      <td>0.960944</td>\n",
              "      <td>-0.960944</td>\n",
              "      <td>0.653117</td>\n",
              "      <td>-0.653117</td>\n",
              "      <td>...</td>\n",
              "      <td>-0.513358</td>\n",
              "      <td>-0.562606</td>\n",
              "      <td>-0.829265</td>\n",
              "      <td>0.829265</td>\n",
              "      <td>-0.526599</td>\n",
              "      <td>-0.532176</td>\n",
              "      <td>1.422093</td>\n",
              "      <td>-0.548578</td>\n",
              "      <td>0.009138</td>\n",
              "      <td>0.990862</td>\n",
              "    </tr>\n",
              "    <tr>\n",
              "      <th>...</th>\n",
              "      <td>...</td>\n",
              "      <td>...</td>\n",
              "      <td>...</td>\n",
              "      <td>...</td>\n",
              "      <td>...</td>\n",
              "      <td>...</td>\n",
              "      <td>...</td>\n",
              "      <td>...</td>\n",
              "      <td>...</td>\n",
              "      <td>...</td>\n",
              "      <td>...</td>\n",
              "      <td>...</td>\n",
              "      <td>...</td>\n",
              "      <td>...</td>\n",
              "      <td>...</td>\n",
              "      <td>...</td>\n",
              "      <td>...</td>\n",
              "      <td>...</td>\n",
              "      <td>...</td>\n",
              "      <td>...</td>\n",
              "      <td>...</td>\n",
              "    </tr>\n",
              "    <tr>\n",
              "      <th>503</th>\n",
              "      <td>-0.438945</td>\n",
              "      <td>1.333624</td>\n",
              "      <td>-0.192556</td>\n",
              "      <td>0.697232</td>\n",
              "      <td>1.000759</td>\n",
              "      <td>-1.000759</td>\n",
              "      <td>-1.040643</td>\n",
              "      <td>1.040643</td>\n",
              "      <td>0.653117</td>\n",
              "      <td>-0.653117</td>\n",
              "      <td>...</td>\n",
              "      <td>-0.513358</td>\n",
              "      <td>1.777444</td>\n",
              "      <td>1.205888</td>\n",
              "      <td>-1.205888</td>\n",
              "      <td>-0.526599</td>\n",
              "      <td>1.879076</td>\n",
              "      <td>-0.703189</td>\n",
              "      <td>-0.548578</td>\n",
              "      <td>0.999876</td>\n",
              "      <td>0.000124</td>\n",
              "    </tr>\n",
              "    <tr>\n",
              "      <th>523</th>\n",
              "      <td>-0.438945</td>\n",
              "      <td>1.619554</td>\n",
              "      <td>-1.501438</td>\n",
              "      <td>-0.361192</td>\n",
              "      <td>1.000759</td>\n",
              "      <td>-1.000759</td>\n",
              "      <td>-1.040643</td>\n",
              "      <td>1.040643</td>\n",
              "      <td>-1.531119</td>\n",
              "      <td>1.531119</td>\n",
              "      <td>...</td>\n",
              "      <td>-0.513358</td>\n",
              "      <td>1.777444</td>\n",
              "      <td>1.205888</td>\n",
              "      <td>-1.205888</td>\n",
              "      <td>1.898977</td>\n",
              "      <td>-0.532176</td>\n",
              "      <td>-0.703189</td>\n",
              "      <td>-0.548578</td>\n",
              "      <td>0.999877</td>\n",
              "      <td>0.000123</td>\n",
              "    </tr>\n",
              "    <tr>\n",
              "      <th>1644</th>\n",
              "      <td>-0.438945</td>\n",
              "      <td>1.415318</td>\n",
              "      <td>-0.964248</td>\n",
              "      <td>0.117357</td>\n",
              "      <td>1.000759</td>\n",
              "      <td>-1.000759</td>\n",
              "      <td>-1.040643</td>\n",
              "      <td>1.040643</td>\n",
              "      <td>-1.531119</td>\n",
              "      <td>1.531119</td>\n",
              "      <td>...</td>\n",
              "      <td>-0.513358</td>\n",
              "      <td>1.777444</td>\n",
              "      <td>1.205888</td>\n",
              "      <td>-1.205888</td>\n",
              "      <td>-0.526599</td>\n",
              "      <td>1.879076</td>\n",
              "      <td>-0.703189</td>\n",
              "      <td>-0.548578</td>\n",
              "      <td>0.999880</td>\n",
              "      <td>0.000120</td>\n",
              "    </tr>\n",
              "    <tr>\n",
              "      <th>945</th>\n",
              "      <td>-0.438945</td>\n",
              "      <td>1.456165</td>\n",
              "      <td>-0.067821</td>\n",
              "      <td>0.926591</td>\n",
              "      <td>-0.999242</td>\n",
              "      <td>0.999242</td>\n",
              "      <td>-1.040643</td>\n",
              "      <td>1.040643</td>\n",
              "      <td>-1.531119</td>\n",
              "      <td>1.531119</td>\n",
              "      <td>...</td>\n",
              "      <td>-0.513358</td>\n",
              "      <td>1.777444</td>\n",
              "      <td>1.205888</td>\n",
              "      <td>-1.205888</td>\n",
              "      <td>-0.526599</td>\n",
              "      <td>1.879076</td>\n",
              "      <td>-0.703189</td>\n",
              "      <td>-0.548578</td>\n",
              "      <td>0.999889</td>\n",
              "      <td>0.000111</td>\n",
              "    </tr>\n",
              "    <tr>\n",
              "      <th>1206</th>\n",
              "      <td>-0.438945</td>\n",
              "      <td>1.619554</td>\n",
              "      <td>-1.506428</td>\n",
              "      <td>-0.405499</td>\n",
              "      <td>-0.999242</td>\n",
              "      <td>0.999242</td>\n",
              "      <td>-1.040643</td>\n",
              "      <td>1.040643</td>\n",
              "      <td>-1.531119</td>\n",
              "      <td>1.531119</td>\n",
              "      <td>...</td>\n",
              "      <td>-0.513358</td>\n",
              "      <td>1.777444</td>\n",
              "      <td>1.205888</td>\n",
              "      <td>-1.205888</td>\n",
              "      <td>-0.526599</td>\n",
              "      <td>1.879076</td>\n",
              "      <td>-0.703189</td>\n",
              "      <td>-0.548578</td>\n",
              "      <td>0.999890</td>\n",
              "      <td>0.000110</td>\n",
              "    </tr>\n",
              "  </tbody>\n",
              "</table>\n",
              "<p>1758 rows × 47 columns</p>\n",
              "</div>\n",
              "      <button class=\"colab-df-convert\" onclick=\"convertToInteractive('df-246a0119-bafb-45c5-a31e-59b0b908a1c6')\"\n",
              "              title=\"Convert this dataframe to an interactive table.\"\n",
              "              style=\"display:none;\">\n",
              "        \n",
              "  <svg xmlns=\"http://www.w3.org/2000/svg\" height=\"24px\"viewBox=\"0 0 24 24\"\n",
              "       width=\"24px\">\n",
              "    <path d=\"M0 0h24v24H0V0z\" fill=\"none\"/>\n",
              "    <path d=\"M18.56 5.44l.94 2.06.94-2.06 2.06-.94-2.06-.94-.94-2.06-.94 2.06-2.06.94zm-11 1L8.5 8.5l.94-2.06 2.06-.94-2.06-.94L8.5 2.5l-.94 2.06-2.06.94zm10 10l.94 2.06.94-2.06 2.06-.94-2.06-.94-.94-2.06-.94 2.06-2.06.94z\"/><path d=\"M17.41 7.96l-1.37-1.37c-.4-.4-.92-.59-1.43-.59-.52 0-1.04.2-1.43.59L10.3 9.45l-7.72 7.72c-.78.78-.78 2.05 0 2.83L4 21.41c.39.39.9.59 1.41.59.51 0 1.02-.2 1.41-.59l7.78-7.78 2.81-2.81c.8-.78.8-2.07 0-2.86zM5.41 20L4 18.59l7.72-7.72 1.47 1.35L5.41 20z\"/>\n",
              "  </svg>\n",
              "      </button>\n",
              "      \n",
              "  <style>\n",
              "    .colab-df-container {\n",
              "      display:flex;\n",
              "      flex-wrap:wrap;\n",
              "      gap: 12px;\n",
              "    }\n",
              "\n",
              "    .colab-df-convert {\n",
              "      background-color: #E8F0FE;\n",
              "      border: none;\n",
              "      border-radius: 50%;\n",
              "      cursor: pointer;\n",
              "      display: none;\n",
              "      fill: #1967D2;\n",
              "      height: 32px;\n",
              "      padding: 0 0 0 0;\n",
              "      width: 32px;\n",
              "    }\n",
              "\n",
              "    .colab-df-convert:hover {\n",
              "      background-color: #E2EBFA;\n",
              "      box-shadow: 0px 1px 2px rgba(60, 64, 67, 0.3), 0px 1px 3px 1px rgba(60, 64, 67, 0.15);\n",
              "      fill: #174EA6;\n",
              "    }\n",
              "\n",
              "    [theme=dark] .colab-df-convert {\n",
              "      background-color: #3B4455;\n",
              "      fill: #D2E3FC;\n",
              "    }\n",
              "\n",
              "    [theme=dark] .colab-df-convert:hover {\n",
              "      background-color: #434B5C;\n",
              "      box-shadow: 0px 1px 3px 1px rgba(0, 0, 0, 0.15);\n",
              "      filter: drop-shadow(0px 1px 2px rgba(0, 0, 0, 0.3));\n",
              "      fill: #FFFFFF;\n",
              "    }\n",
              "  </style>\n",
              "\n",
              "      <script>\n",
              "        const buttonEl =\n",
              "          document.querySelector('#df-246a0119-bafb-45c5-a31e-59b0b908a1c6 button.colab-df-convert');\n",
              "        buttonEl.style.display =\n",
              "          google.colab.kernel.accessAllowed ? 'block' : 'none';\n",
              "\n",
              "        async function convertToInteractive(key) {\n",
              "          const element = document.querySelector('#df-246a0119-bafb-45c5-a31e-59b0b908a1c6');\n",
              "          const dataTable =\n",
              "            await google.colab.kernel.invokeFunction('convertToInteractive',\n",
              "                                                     [key], {});\n",
              "          if (!dataTable) return;\n",
              "\n",
              "          const docLinkHtml = 'Like what you see? Visit the ' +\n",
              "            '<a target=\"_blank\" href=https://colab.research.google.com/notebooks/data_table.ipynb>data table notebook</a>'\n",
              "            + ' to learn more about interactive tables.';\n",
              "          element.innerHTML = '';\n",
              "          dataTable['output_type'] = 'display_data';\n",
              "          await google.colab.output.renderOutput(dataTable, element);\n",
              "          const docLink = document.createElement('div');\n",
              "          docLink.innerHTML = docLinkHtml;\n",
              "          element.appendChild(docLink);\n",
              "        }\n",
              "      </script>\n",
              "    </div>\n",
              "  </div>\n",
              "  "
            ]
          },
          "metadata": {},
          "execution_count": 345
        }
      ]
    },
    {
      "cell_type": "code",
      "source": [
        "from sklearn.metrics import confusion_matrix\n",
        "\n",
        "\n",
        "data = confusion_matrix(y_true = y_test, y_pred = modelR.predict(X_test))\n",
        "data"
      ],
      "metadata": {
        "colab": {
          "base_uri": "https://localhost:8080/"
        },
        "id": "b0J7tdLmD_ob",
        "outputId": "5c7a2ddd-0242-480b-f0f5-547fdfb68d4b"
      },
      "execution_count": null,
      "outputs": [
        {
          "output_type": "execute_result",
          "data": {
            "text/plain": [
              "array([[1123,   94],\n",
              "       [ 126,  415]])"
            ]
          },
          "metadata": {},
          "execution_count": 113
        }
      ]
    },
    {
      "cell_type": "code",
      "source": [
        "from sklearn.metrics import classification_report\n",
        "\n",
        "\n",
        "print(classification_report(y_test, modelR.predict(X_test)))"
      ],
      "metadata": {
        "colab": {
          "base_uri": "https://localhost:8080/"
        },
        "id": "PZvTt-ypEleJ",
        "outputId": "1ca97956-ee3b-49f7-f2c1-f0a114a7c871"
      },
      "execution_count": null,
      "outputs": [
        {
          "output_type": "stream",
          "name": "stdout",
          "text": [
            "              precision    recall  f1-score   support\n",
            "\n",
            "           0       0.90      0.92      0.91      1217\n",
            "           1       0.82      0.77      0.79       541\n",
            "\n",
            "    accuracy                           0.87      1758\n",
            "   macro avg       0.86      0.84      0.85      1758\n",
            "weighted avg       0.87      0.87      0.87      1758\n",
            "\n"
          ]
        }
      ]
    },
    {
      "cell_type": "code",
      "source": [
        "import matplotlib.pyplot as plt\n",
        "import numpy\n",
        "from sklearn import metrics\n",
        "\n",
        "actual = y_test\n",
        "predicted = modelR.predict(X_test)\n",
        "\n",
        "confusion_matrix = metrics.confusion_matrix(actual, predicted)\n",
        "\n",
        "cm_display = metrics.ConfusionMatrixDisplay(confusion_matrix = confusion_matrix, display_labels = [False, True])\n",
        "\n",
        "cm_display.plot()\n",
        "plt.show()"
      ],
      "metadata": {
        "colab": {
          "base_uri": "https://localhost:8080/",
          "height": 279
        },
        "id": "i7wDcIAXE7V1",
        "outputId": "3e4ad1eb-950b-4a09-aff4-6e32f8f202fb"
      },
      "execution_count": null,
      "outputs": [
        {
          "output_type": "display_data",
          "data": {
            "text/plain": [
              "<Figure size 432x288 with 2 Axes>"
            ],
            "image/png": "[encoded data removed]"
          },
          "metadata": {
            "needs_background": "light"
          }
        }
      ]
    },
    {
      "cell_type": "code",
      "source": [
        "from sklearn.model_selection import GridSearchCV\n",
        "#https://www.kaggle.com/code/funxexcel/p2-logistic-regression-hyperparameter-tuning"
      ],
      "metadata": {
        "id": "kWXbRidUQMqf"
      },
      "execution_count": null,
      "outputs": []
    },
    {
      "cell_type": "code",
      "source": [
        "\n",
        "param_grid = [\n",
        "    {'penalty' : ['l1', 'l2', 'elasticnet', 'none'],\n",
        "    'C' : np.logspace(-4, 4, 20),\n",
        "    'solver' : ['lbfgs','newton-cg','liblinear','sag','saga'],\n",
        "    'max_iter' : [100, 1000,2500, 5000]\n",
        "    }\n",
        "]"
      ],
      "metadata": {
        "id": "FNQ71GfVP-aa"
      },
      "execution_count": null,
      "outputs": []
    },
    {
      "cell_type": "code",
      "source": [
        "grid= GridSearchCV(modelR, param_grid = param_grid, cv = 6, verbose=True, n_jobs=-1)\n",
        "grid.fit(X_train,y_train)"
      ],
      "metadata": {
        "colab": {
          "base_uri": "https://localhost:8080/"
        },
        "id": "Wit_Tc3IQC8d",
        "outputId": "1f9f092b-59a2-44f4-c462-6ae6e891d4de"
      },
      "execution_count": null,
      "outputs": [
        {
          "output_type": "stream",
          "name": "stdout",
          "text": [
            "Fitting 6 folds for each of 1600 candidates, totalling 9600 fits\n"
          ]
        },
        {
          "output_type": "stream",
          "name": "stderr",
          "text": [
            "/usr/local/lib/python3.8/dist-packages/sklearn/model_selection/_validation.py:372: FitFailedWarning: \n",
            "4320 fits failed out of a total of 9600.\n",
            "The score on these train-test partitions for these parameters will be set to nan.\n",
            "If these failures are not expected, you can try to debug them by setting error_score='raise'.\n",
            "\n",
            "Below are more details about the failures:\n",
            "--------------------------------------------------------------------------------\n",
            "480 fits failed with the following error:\n",
            "Traceback (most recent call last):\n",
            "  File \"/usr/local/lib/python3.8/dist-packages/sklearn/model_selection/_validation.py\", line 680, in _fit_and_score\n",
            "    estimator.fit(X_train, y_train, **fit_params)\n",
            "  File \"/usr/local/lib/python3.8/dist-packages/sklearn/linear_model/_logistic.py\", line 1461, in fit\n",
            "    solver = _check_solver(self.solver, self.penalty, self.dual)\n",
            "  File \"/usr/local/lib/python3.8/dist-packages/sklearn/linear_model/_logistic.py\", line 447, in _check_solver\n",
            "    raise ValueError(\n",
            "ValueError: Solver lbfgs supports only 'l2' or 'none' penalties, got l1 penalty.\n",
            "\n",
            "--------------------------------------------------------------------------------\n",
            "480 fits failed with the following error:\n",
            "Traceback (most recent call last):\n",
            "  File \"/usr/local/lib/python3.8/dist-packages/sklearn/model_selection/_validation.py\", line 680, in _fit_and_score\n",
            "    estimator.fit(X_train, y_train, **fit_params)\n",
            "  File \"/usr/local/lib/python3.8/dist-packages/sklearn/linear_model/_logistic.py\", line 1461, in fit\n",
            "    solver = _check_solver(self.solver, self.penalty, self.dual)\n",
            "  File \"/usr/local/lib/python3.8/dist-packages/sklearn/linear_model/_logistic.py\", line 447, in _check_solver\n",
            "    raise ValueError(\n",
            "ValueError: Solver newton-cg supports only 'l2' or 'none' penalties, got l1 penalty.\n",
            "\n",
            "--------------------------------------------------------------------------------\n",
            "480 fits failed with the following error:\n",
            "Traceback (most recent call last):\n",
            "  File \"/usr/local/lib/python3.8/dist-packages/sklearn/model_selection/_validation.py\", line 680, in _fit_and_score\n",
            "    estimator.fit(X_train, y_train, **fit_params)\n",
            "  File \"/usr/local/lib/python3.8/dist-packages/sklearn/linear_model/_logistic.py\", line 1461, in fit\n",
            "    solver = _check_solver(self.solver, self.penalty, self.dual)\n",
            "  File \"/usr/local/lib/python3.8/dist-packages/sklearn/linear_model/_logistic.py\", line 447, in _check_solver\n",
            "    raise ValueError(\n",
            "ValueError: Solver sag supports only 'l2' or 'none' penalties, got l1 penalty.\n",
            "\n",
            "--------------------------------------------------------------------------------\n",
            "480 fits failed with the following error:\n",
            "Traceback (most recent call last):\n",
            "  File \"/usr/local/lib/python3.8/dist-packages/sklearn/model_selection/_validation.py\", line 680, in _fit_and_score\n",
            "    estimator.fit(X_train, y_train, **fit_params)\n",
            "  File \"/usr/local/lib/python3.8/dist-packages/sklearn/linear_model/_logistic.py\", line 1461, in fit\n",
            "    solver = _check_solver(self.solver, self.penalty, self.dual)\n",
            "  File \"/usr/local/lib/python3.8/dist-packages/sklearn/linear_model/_logistic.py\", line 447, in _check_solver\n",
            "    raise ValueError(\n",
            "ValueError: Solver lbfgs supports only 'l2' or 'none' penalties, got elasticnet penalty.\n",
            "\n",
            "--------------------------------------------------------------------------------\n",
            "480 fits failed with the following error:\n",
            "Traceback (most recent call last):\n",
            "  File \"/usr/local/lib/python3.8/dist-packages/sklearn/model_selection/_validation.py\", line 680, in _fit_and_score\n",
            "    estimator.fit(X_train, y_train, **fit_params)\n",
            "  File \"/usr/local/lib/python3.8/dist-packages/sklearn/linear_model/_logistic.py\", line 1461, in fit\n",
            "    solver = _check_solver(self.solver, self.penalty, self.dual)\n",
            "  File \"/usr/local/lib/python3.8/dist-packages/sklearn/linear_model/_logistic.py\", line 447, in _check_solver\n",
            "    raise ValueError(\n",
            "ValueError: Solver newton-cg supports only 'l2' or 'none' penalties, got elasticnet penalty.\n",
            "\n",
            "--------------------------------------------------------------------------------\n",
            "480 fits failed with the following error:\n",
            "Traceback (most recent call last):\n",
            "  File \"/usr/local/lib/python3.8/dist-packages/sklearn/model_selection/_validation.py\", line 680, in _fit_and_score\n",
            "    estimator.fit(X_train, y_train, **fit_params)\n",
            "  File \"/usr/local/lib/python3.8/dist-packages/sklearn/linear_model/_logistic.py\", line 1461, in fit\n",
            "    solver = _check_solver(self.solver, self.penalty, self.dual)\n",
            "  File \"/usr/local/lib/python3.8/dist-packages/sklearn/linear_model/_logistic.py\", line 457, in _check_solver\n",
            "    raise ValueError(\n",
            "ValueError: Only 'saga' solver supports elasticnet penalty, got solver=liblinear.\n",
            "\n",
            "--------------------------------------------------------------------------------\n",
            "480 fits failed with the following error:\n",
            "Traceback (most recent call last):\n",
            "  File \"/usr/local/lib/python3.8/dist-packages/sklearn/model_selection/_validation.py\", line 680, in _fit_and_score\n",
            "    estimator.fit(X_train, y_train, **fit_params)\n",
            "  File \"/usr/local/lib/python3.8/dist-packages/sklearn/linear_model/_logistic.py\", line 1461, in fit\n",
            "    solver = _check_solver(self.solver, self.penalty, self.dual)\n",
            "  File \"/usr/local/lib/python3.8/dist-packages/sklearn/linear_model/_logistic.py\", line 447, in _check_solver\n",
            "    raise ValueError(\n",
            "ValueError: Solver sag supports only 'l2' or 'none' penalties, got elasticnet penalty.\n",
            "\n",
            "--------------------------------------------------------------------------------\n",
            "480 fits failed with the following error:\n",
            "Traceback (most recent call last):\n",
            "  File \"/usr/local/lib/python3.8/dist-packages/sklearn/model_selection/_validation.py\", line 680, in _fit_and_score\n",
            "    estimator.fit(X_train, y_train, **fit_params)\n",
            "  File \"/usr/local/lib/python3.8/dist-packages/sklearn/linear_model/_logistic.py\", line 1471, in fit\n",
            "    raise ValueError(\n",
            "ValueError: l1_ratio must be between 0 and 1; got (l1_ratio=None)\n",
            "\n",
            "--------------------------------------------------------------------------------\n",
            "480 fits failed with the following error:\n",
            "Traceback (most recent call last):\n",
            "  File \"/usr/local/lib/python3.8/dist-packages/sklearn/model_selection/_validation.py\", line 680, in _fit_and_score\n",
            "    estimator.fit(X_train, y_train, **fit_params)\n",
            "  File \"/usr/local/lib/python3.8/dist-packages/sklearn/linear_model/_logistic.py\", line 1461, in fit\n",
            "    solver = _check_solver(self.solver, self.penalty, self.dual)\n",
            "  File \"/usr/local/lib/python3.8/dist-packages/sklearn/linear_model/_logistic.py\", line 464, in _check_solver\n",
            "    raise ValueError(\"penalty='none' is not supported for the liblinear solver\")\n",
            "ValueError: penalty='none' is not supported for the liblinear solver\n",
            "\n",
            "  warnings.warn(some_fits_failed_message, FitFailedWarning)\n",
            "/usr/local/lib/python3.8/dist-packages/sklearn/model_selection/_search.py:969: UserWarning: One or more of the test scores are non-finite: [       nan        nan 0.6835419  ...        nan 0.87732272 0.87732272]\n",
            "  warnings.warn(\n",
            "/usr/local/lib/python3.8/dist-packages/sklearn/linear_model/_logistic.py:1483: UserWarning: Setting penalty='none' will ignore the C and l1_ratio parameters\n",
            "  warnings.warn(\n"
          ]
        },
        {
          "output_type": "execute_result",
          "data": {
            "text/plain": [
              "GridSearchCV(cv=6, estimator=LogisticRegression(), n_jobs=-1,\n",
              "             param_grid=[{'C': array([1.00000000e-04, 2.63665090e-04, 6.95192796e-04, 1.83298071e-03,\n",
              "       4.83293024e-03, 1.27427499e-02, 3.35981829e-02, 8.85866790e-02,\n",
              "       2.33572147e-01, 6.15848211e-01, 1.62377674e+00, 4.28133240e+00,\n",
              "       1.12883789e+01, 2.97635144e+01, 7.84759970e+01, 2.06913808e+02,\n",
              "       5.45559478e+02, 1.43844989e+03, 3.79269019e+03, 1.00000000e+04]),\n",
              "                          'max_iter': [100, 1000, 2500, 5000],\n",
              "                          'penalty': ['l1', 'l2', 'elasticnet', 'none'],\n",
              "                          'solver': ['lbfgs', 'newton-cg', 'liblinear', 'sag',\n",
              "                                     'saga']}],\n",
              "             verbose=True)"
            ]
          },
          "metadata": {},
          "execution_count": 359
        }
      ]
    },
    {
      "cell_type": "code",
      "source": [
        "print(\"best score:\",grid.best_score_)\n",
        "print(\"best parameters:\",grid.best_params_)"
      ],
      "metadata": {
        "colab": {
          "base_uri": "https://localhost:8080/"
        },
        "id": "2zvn6ElTQ25Q",
        "outputId": "a8bff6ae-cf6d-4202-e45e-a31134b971fb"
      },
      "execution_count": null,
      "outputs": [
        {
          "output_type": "stream",
          "name": "stdout",
          "text": [
            "best score: 0.8775123246113008\n",
            "best parameters: {'C': 78.47599703514607, 'max_iter': 1000, 'penalty': 'none', 'solver': 'sag'}\n"
          ]
        }
      ]
    },
    {
      "cell_type": "code",
      "source": [
        "model_grid=grid.best_estimator_"
      ],
      "metadata": {
        "id": "dLlBnrzXQ9JN"
      },
      "execution_count": null,
      "outputs": []
    },
    {
      "cell_type": "code",
      "source": [
        "model_grid.score(X_test,y_test)"
      ],
      "metadata": {
        "colab": {
          "base_uri": "https://localhost:8080/"
        },
        "id": "jn2P3mYPRgjG",
        "outputId": "81b91763-c0c1-4aaf-fdb3-8ed41960fc84"
      },
      "execution_count": null,
      "outputs": [
        {
          "output_type": "stream",
          "name": "stderr",
          "text": [
            "/usr/local/lib/python3.8/dist-packages/sklearn/base.py:443: UserWarning: X has feature names, but LogisticRegression was fitted without feature names\n",
            "  warnings.warn(\n"
          ]
        },
        {
          "output_type": "execute_result",
          "data": {
            "text/plain": [
              "0.8742889647326507"
            ]
          },
          "metadata": {},
          "execution_count": 362
        }
      ]
    },
    {
      "cell_type": "code",
      "source": [
        "from sklearn.metrics import confusion_matrix\n",
        "#grid regession\n",
        "\n",
        "data = confusion_matrix(y_true = y_test, y_pred = model_grid.predict(X_test))\n",
        "data"
      ],
      "metadata": {
        "colab": {
          "base_uri": "https://localhost:8080/"
        },
        "id": "r17fnWHXSEOi",
        "outputId": "f387a37d-61dd-415f-b09d-0eb74bb9349b"
      },
      "execution_count": null,
      "outputs": [
        {
          "output_type": "stream",
          "name": "stderr",
          "text": [
            "/usr/local/lib/python3.8/dist-packages/sklearn/base.py:443: UserWarning: X has feature names, but LogisticRegression was fitted without feature names\n",
            "  warnings.warn(\n"
          ]
        },
        {
          "output_type": "execute_result",
          "data": {
            "text/plain": [
              "array([[1122,   95],\n",
              "       [ 126,  415]])"
            ]
          },
          "metadata": {},
          "execution_count": 363
        }
      ]
    },
    {
      "cell_type": "code",
      "source": [
        "from sklearn.metrics import classification_report\n",
        "print(classification_report(y_test, model_grid.predict(X_test)))"
      ],
      "metadata": {
        "colab": {
          "base_uri": "https://localhost:8080/"
        },
        "id": "558BZMyqSQe2",
        "outputId": "a018d949-1479-4602-f105-ade2aa85760d"
      },
      "execution_count": null,
      "outputs": [
        {
          "output_type": "stream",
          "name": "stdout",
          "text": [
            "              precision    recall  f1-score   support\n",
            "\n",
            "           0       0.90      0.92      0.91      1217\n",
            "           1       0.81      0.77      0.79       541\n",
            "\n",
            "    accuracy                           0.87      1758\n",
            "   macro avg       0.86      0.84      0.85      1758\n",
            "weighted avg       0.87      0.87      0.87      1758\n",
            "\n"
          ]
        },
        {
          "output_type": "stream",
          "name": "stderr",
          "text": [
            "/usr/local/lib/python3.8/dist-packages/sklearn/base.py:443: UserWarning: X has feature names, but LogisticRegression was fitted without feature names\n",
            "  warnings.warn(\n"
          ]
        }
      ]
    },
    {
      "cell_type": "code",
      "source": [
        "print(\"The length of the initial dataset is :\", len(X))\n",
        "print(\"The length of the train dataset is   :\", len(X_train))\n",
        "print(\"The length of the test dataset is    :\", len(X_test))\n",
        "\n",
        "# We train the model\n",
        "modellR = LogisticRegression()\n",
        "modellR.fit(X_train,y_train)\n",
        "\n",
        "print(\"score d'exactitude (accuracy) LogisticRegression sur l'ensemble d'entraînement :\",modellR.score(X_train, y_train))\n",
        "print(\"score d'exactitude (accuracy)  LogisticRegression sur l'ensemble de test :\",modellR.score(X_test, y_test))\n",
        "\n",
        "modelKNN = KNeighborsClassifier()\n",
        "modelKNN.fit(X_train, y_train)\n",
        "print(\"******************************************\")\n",
        "print(\"score d'exactitude (accuracy) KNeighbors sur l'ensemble d'entraînement :\",modelKNN.score(X_train, y_train))\n",
        "print(\"score d'exactitude (accuracy) KNeighbors sur l'ensemble de test :\",modelKNN.score(X_test, y_test))\n",
        "\n",
        "modelDTC = DecisionTreeClassifier()\n",
        "modelDTC.fit(X_train, y_train)\n",
        "print(\"******************************************\")\n",
        "print(\"score d'exactitude (accuracy) decision tree sur l'ensemble d'entraînement :\",modelDTC.score(X_train, y_train))\n",
        "print(\"score d'exactitude (accuracy) decision tree sur l'ensemble de test :\",modelDTC.score(X_test, y_test))\n",
        "\n",
        "\n",
        "clf = RandomForestClassifier()\n",
        "clf.fit(X_train, y_train)\n",
        "print(\"******************************************\")\n",
        "print(\"score d'exactitude (accuracy) randomforest sur l'ensemble d'entraînement :\",clf.score(X_train, y_train))\n",
        "print(\"score d'exactitude (accuracy) randomforest sur l'ensemble de test :\",clf.score(X_test, y_test))\n"
      ],
      "metadata": {
        "colab": {
          "base_uri": "https://localhost:8080/"
        },
        "id": "W3yFfEHuOmqs",
        "outputId": "19b06c66-9585-4555-cadb-ff5b019441c0"
      },
      "execution_count": null,
      "outputs": [
        {
          "output_type": "stream",
          "name": "stdout",
          "text": [
            "The length of the initial dataset is : 7032\n",
            "The length of the train dataset is   : 5274\n",
            "The length of the test dataset is    : 1758\n",
            "score d'exactitude (accuracy) LogisticRegression sur l'ensemble d'entraînement : 0.8801668562760713\n",
            "score d'exactitude (accuracy)  LogisticRegression sur l'ensemble de test : 0.8748577929465301\n",
            "******************************************\n",
            "score d'exactitude (accuracy) KNeighbors sur l'ensemble d'entraînement : 0.8894577171027683\n",
            "score d'exactitude (accuracy) KNeighbors sur l'ensemble de test : 0.8367463026166098\n",
            "******************************************\n",
            "score d'exactitude (accuracy) decision tree sur l'ensemble d'entraînement : 0.9988623435722411\n",
            "score d'exactitude (accuracy) decision tree sur l'ensemble de test : 0.8390216154721274\n",
            "******************************************\n",
            "score d'exactitude (accuracy) randomforest sur l'ensemble d'entraînement : 0.9988623435722411\n",
            "score d'exactitude (accuracy) randomforest sur l'ensemble de test : 0.875995449374289\n"
          ]
        }
      ]
    },
    {
      "cell_type": "code",
      "source": [
        "from sklearn.metrics import confusion_matrix\n",
        "#KNN\n",
        "\n",
        "data = confusion_matrix(y_true = y_test, y_pred = modelKNN.predict(X_test))\n",
        "data"
      ],
      "metadata": {
        "colab": {
          "base_uri": "https://localhost:8080/"
        },
        "id": "F1DBYBO8Pd3D",
        "outputId": "eb83e0f7-823d-4754-ddad-91342c910ab6"
      },
      "execution_count": null,
      "outputs": [
        {
          "output_type": "execute_result",
          "data": {
            "text/plain": [
              "array([[1085,  132],\n",
              "       [ 155,  386]])"
            ]
          },
          "metadata": {},
          "execution_count": 143
        }
      ]
    },
    {
      "cell_type": "code",
      "source": [
        "from sklearn.metrics import confusion_matrix\n",
        "#Decision tree\n",
        "\n",
        "data = confusion_matrix(y_true = y_test, y_pred = modelDTC.predict(X_test))\n",
        "data"
      ],
      "metadata": {
        "colab": {
          "base_uri": "https://localhost:8080/"
        },
        "id": "HQekPeD1PnBq",
        "outputId": "116edb59-d4e7-415e-f5f2-b68e29cfc78b"
      },
      "execution_count": null,
      "outputs": [
        {
          "output_type": "execute_result",
          "data": {
            "text/plain": [
              "array([[1058,  159],\n",
              "       [ 124,  417]])"
            ]
          },
          "metadata": {},
          "execution_count": 144
        }
      ]
    },
    {
      "cell_type": "code",
      "source": [
        "from sklearn.metrics import confusion_matrix\n",
        "#randomforest\n",
        "\n",
        "data = confusion_matrix(y_true = y_test, y_pred = clf.predict(X_test))\n",
        "data"
      ],
      "metadata": {
        "colab": {
          "base_uri": "https://localhost:8080/"
        },
        "id": "Y0BtwWn-Qm2B",
        "outputId": "ee038248-f6a2-4cd9-fdd2-870e265a0785"
      },
      "execution_count": null,
      "outputs": [
        {
          "output_type": "execute_result",
          "data": {
            "text/plain": [
              "array([[1113,  104],\n",
              "       [ 114,  427]])"
            ]
          },
          "metadata": {},
          "execution_count": 145
        }
      ]
    },
    {
      "cell_type": "code",
      "source": [
        "from sklearn.metrics import classification_report\n",
        "print(classification_report(y_test, clf.predict(X_test)))"
      ],
      "metadata": {
        "colab": {
          "base_uri": "https://localhost:8080/"
        },
        "id": "3eb-hK6FN9kK",
        "outputId": "46aea004-4594-424e-fc32-ce80f4339912"
      },
      "execution_count": null,
      "outputs": [
        {
          "output_type": "stream",
          "name": "stderr",
          "text": [
            "/usr/local/lib/python3.8/dist-packages/sklearn/base.py:443: UserWarning: X has feature names, but RandomForestClassifier was fitted without feature names\n",
            "  warnings.warn(\n"
          ]
        },
        {
          "output_type": "stream",
          "name": "stdout",
          "text": [
            "              precision    recall  f1-score   support\n",
            "\n",
            "           0       0.91      0.91      0.91      1217\n",
            "           1       0.80      0.79      0.80       541\n",
            "\n",
            "    accuracy                           0.88      1758\n",
            "   macro avg       0.86      0.85      0.85      1758\n",
            "weighted avg       0.88      0.88      0.88      1758\n",
            "\n"
          ]
        }
      ]
    },
    {
      "cell_type": "code",
      "source": [
        "DF_impfeat = pd.DataFrame({\"columns\": X.columns,\n",
        "                           \"imp_features\": clf.feature_importances_})\n",
        "DF_impfeat.sort_values(\"imp_features\", ascending=False)"
      ],
      "metadata": {
        "id": "KPjRBO3BROzA"
      },
      "execution_count": null,
      "outputs": []
    },
    {
      "cell_type": "code",
      "source": [
        "from sklearn.model_selection import RandomizedSearchCV\n",
        "\n",
        "param_dist = {\"n_estimators\": np.arange(2, 100),\n",
        "              \"max_depth\": np.arange(1, 25),\n",
        "              'min_samples_leaf':np.arange(1,15),\n",
        "              'min_samples_split':(2, 5, 7, 10, 15, 30)}\n",
        "# Instanciation de la classe RandomizedSearchCV\n",
        "random2 = RandomizedSearchCV(clf, param_dist, n_iter=200, cv=6, scoring='accuracy')\n",
        "\n",
        "\n",
        "random2.fit(X_train,y_train)"
      ],
      "metadata": {
        "colab": {
          "base_uri": "https://localhost:8080/"
        },
        "id": "UHT7GH0QSQzT",
        "outputId": "ce470735-aca4-4b30-c4ec-97ef260266c2"
      },
      "execution_count": null,
      "outputs": [
        {
          "output_type": "execute_result",
          "data": {
            "text/plain": [
              "RandomizedSearchCV(cv=6, estimator=RandomForestClassifier(), n_iter=200,\n",
              "                   param_distributions={'max_depth': array([ 1,  2,  3,  4,  5,  6,  7,  8,  9, 10, 11, 12, 13, 14, 15, 16, 17,\n",
              "       18, 19, 20, 21, 22, 23, 24]),\n",
              "                                        'min_samples_leaf': array([ 1,  2,  3,  4,  5,  6,  7,  8,  9, 10, 11, 12, 13, 14]),\n",
              "                                        'min_samples_split': (2, 5, 7, 10, 15,\n",
              "                                                              30),\n",
              "                                        'n_estimators': array([ 2,  3,  4,  5,  6,  7,  8,  9, 10, 11, 12, 13, 14, 15, 16, 17, 18,\n",
              "       19, 20, 21, 22, 23, 24, 25, 26, 27, 28, 29, 30, 31, 32, 33, 34, 35,\n",
              "       36, 37, 38, 39, 40, 41, 42, 43, 44, 45, 46, 47, 48, 49, 50, 51, 52,\n",
              "       53, 54, 55, 56, 57, 58, 59, 60, 61, 62, 63, 64, 65, 66, 67, 68, 69,\n",
              "       70, 71, 72, 73, 74, 75, 76, 77, 78, 79, 80, 81, 82, 83, 84, 85, 86,\n",
              "       87, 88, 89, 90, 91, 92, 93, 94, 95, 96, 97, 98, 99])},\n",
              "                   scoring='accuracy')"
            ]
          },
          "metadata": {},
          "execution_count": 147
        }
      ]
    },
    {
      "cell_type": "code",
      "source": [
        "print(\"best score:\",random2.best_score_)\n",
        "print(\"best parameters:\",random2.best_params_)"
      ],
      "metadata": {
        "colab": {
          "base_uri": "https://localhost:8080/"
        },
        "id": "fEjhvxnjSkHK",
        "outputId": "39a1eb8f-2174-4546-a932-ad6850f1a900"
      },
      "execution_count": null,
      "outputs": [
        {
          "output_type": "stream",
          "name": "stdout",
          "text": [
            "best score: 0.8782707622298066\n",
            "best parameters: {'n_estimators': 21, 'min_samples_split': 7, 'min_samples_leaf': 12, 'max_depth': 8}\n"
          ]
        }
      ]
    },
    {
      "cell_type": "code",
      "source": [
        "model_rando2=random2.best_estimator_"
      ],
      "metadata": {
        "id": "KAydLYauSnt9"
      },
      "execution_count": null,
      "outputs": []
    },
    {
      "cell_type": "code",
      "source": [
        "model_rando2.score(X_test,y_test)"
      ],
      "metadata": {
        "colab": {
          "base_uri": "https://localhost:8080/"
        },
        "id": "t-xzsYhWSook",
        "outputId": "d6b27685-ad7a-4995-abbf-9da75bedf20a"
      },
      "execution_count": null,
      "outputs": [
        {
          "output_type": "stream",
          "name": "stderr",
          "text": [
            "/usr/local/lib/python3.8/dist-packages/sklearn/base.py:443: UserWarning: X has feature names, but RandomForestClassifier was fitted without feature names\n",
            "  warnings.warn(\n"
          ]
        },
        {
          "output_type": "execute_result",
          "data": {
            "text/plain": [
              "0.8771331058020477"
            ]
          },
          "metadata": {},
          "execution_count": 350
        }
      ]
    },
    {
      "cell_type": "code",
      "source": [
        "from sklearn.metrics import confusion_matrix\n",
        "#randomforest\n",
        "\n",
        "data = confusion_matrix(y_true = y_test, y_pred = model_rando2.predict(X_test))\n",
        "data"
      ],
      "metadata": {
        "colab": {
          "base_uri": "https://localhost:8080/"
        },
        "id": "IQLF123CNcD5",
        "outputId": "7eee08a8-41d6-4c66-db63-9ae91b276fd7"
      },
      "execution_count": null,
      "outputs": [
        {
          "output_type": "stream",
          "name": "stderr",
          "text": [
            "/usr/local/lib/python3.8/dist-packages/sklearn/base.py:443: UserWarning: X has feature names, but RandomForestClassifier was fitted without feature names\n",
            "  warnings.warn(\n"
          ]
        },
        {
          "output_type": "execute_result",
          "data": {
            "text/plain": [
              "array([[1117,  100],\n",
              "       [ 116,  425]])"
            ]
          },
          "metadata": {},
          "execution_count": 351
        }
      ]
    },
    {
      "cell_type": "code",
      "source": [
        "from sklearn.metrics import classification_report\n",
        "print(classification_report(y_test, model_rando2.predict(X_test)))"
      ],
      "metadata": {
        "colab": {
          "base_uri": "https://localhost:8080/"
        },
        "id": "qu60L-45NtMy",
        "outputId": "7c61603b-ff31-4469-d01f-af712f5b0a5d"
      },
      "execution_count": null,
      "outputs": [
        {
          "output_type": "stream",
          "name": "stdout",
          "text": [
            "              precision    recall  f1-score   support\n",
            "\n",
            "           0       0.91      0.92      0.91      1217\n",
            "           1       0.81      0.79      0.80       541\n",
            "\n",
            "    accuracy                           0.88      1758\n",
            "   macro avg       0.86      0.85      0.85      1758\n",
            "weighted avg       0.88      0.88      0.88      1758\n",
            "\n"
          ]
        },
        {
          "output_type": "stream",
          "name": "stderr",
          "text": [
            "/usr/local/lib/python3.8/dist-packages/sklearn/base.py:443: UserWarning: X has feature names, but RandomForestClassifier was fitted without feature names\n",
            "  warnings.warn(\n"
          ]
        }
      ]
    },
    {
      "cell_type": "markdown",
      "source": [
        "***les meilleurs model c'est random forest après Randomized Search***"
      ],
      "metadata": {
        "id": "6ZaVrT9eTmpf"
      }
    },
    {
      "cell_type": "markdown",
      "source": [
        "le model prédit 100 personnes faux positif\n",
        "\n"
      ],
      "metadata": {
        "id": "9SAaWpUPULBa"
      }
    },
    {
      "cell_type": "code",
      "source": [],
      "metadata": {
        "id": "WDJ2-1yZU6_A"
      },
      "execution_count": null,
      "outputs": []
    }
  ]
}